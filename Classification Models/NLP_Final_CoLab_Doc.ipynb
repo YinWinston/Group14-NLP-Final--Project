{
  "cells": [
    {
      "cell_type": "code",
      "execution_count": null,
      "metadata": {
        "colab": {
          "base_uri": "https://localhost:8080/",
          "height": 206
        },
        "id": "3LxF-G1Krf9u",
        "outputId": "db2d4fac-824c-4ed5-c3e7-53684bb5a1b2"
      },
      "outputs": [
        {
          "output_type": "execute_result",
          "data": {
            "text/plain": [
              "                                                data  dropshipped       source\n",
              "0  skip main content walmart depart servic search...  Dropshipped  LightSabers\n",
              "1  christma saber giveaway four zero off all sabe...  Dropshipped  LightSabers\n",
              "2  dure black novemb youv donat four zero zero ze...  Dropshipped  LightSabers\n",
              "3  v skip main content ebay home shop categori en...  Dropshipped  LightSabers\n",
              "4  skip content shop our holiday gift guid to fin...  Dropshipped  LightSabers"
            ],
            "text/html": [
              "\n",
              "  <div id=\"df-bc25f332-473e-470d-8724-c8e0aba815ea\" class=\"colab-df-container\">\n",
              "    <div>\n",
              "<style scoped>\n",
              "    .dataframe tbody tr th:only-of-type {\n",
              "        vertical-align: middle;\n",
              "    }\n",
              "\n",
              "    .dataframe tbody tr th {\n",
              "        vertical-align: top;\n",
              "    }\n",
              "\n",
              "    .dataframe thead th {\n",
              "        text-align: right;\n",
              "    }\n",
              "</style>\n",
              "<table border=\"1\" class=\"dataframe\">\n",
              "  <thead>\n",
              "    <tr style=\"text-align: right;\">\n",
              "      <th></th>\n",
              "      <th>data</th>\n",
              "      <th>dropshipped</th>\n",
              "      <th>source</th>\n",
              "    </tr>\n",
              "  </thead>\n",
              "  <tbody>\n",
              "    <tr>\n",
              "      <th>0</th>\n",
              "      <td>skip main content walmart depart servic search...</td>\n",
              "      <td>Dropshipped</td>\n",
              "      <td>LightSabers</td>\n",
              "    </tr>\n",
              "    <tr>\n",
              "      <th>1</th>\n",
              "      <td>christma saber giveaway four zero off all sabe...</td>\n",
              "      <td>Dropshipped</td>\n",
              "      <td>LightSabers</td>\n",
              "    </tr>\n",
              "    <tr>\n",
              "      <th>2</th>\n",
              "      <td>dure black novemb youv donat four zero zero ze...</td>\n",
              "      <td>Dropshipped</td>\n",
              "      <td>LightSabers</td>\n",
              "    </tr>\n",
              "    <tr>\n",
              "      <th>3</th>\n",
              "      <td>v skip main content ebay home shop categori en...</td>\n",
              "      <td>Dropshipped</td>\n",
              "      <td>LightSabers</td>\n",
              "    </tr>\n",
              "    <tr>\n",
              "      <th>4</th>\n",
              "      <td>skip content shop our holiday gift guid to fin...</td>\n",
              "      <td>Dropshipped</td>\n",
              "      <td>LightSabers</td>\n",
              "    </tr>\n",
              "  </tbody>\n",
              "</table>\n",
              "</div>\n",
              "    <div class=\"colab-df-buttons\">\n",
              "\n",
              "  <div class=\"colab-df-container\">\n",
              "    <button class=\"colab-df-convert\" onclick=\"convertToInteractive('df-bc25f332-473e-470d-8724-c8e0aba815ea')\"\n",
              "            title=\"Convert this dataframe to an interactive table.\"\n",
              "            style=\"display:none;\">\n",
              "\n",
              "  <svg xmlns=\"http://www.w3.org/2000/svg\" height=\"24px\" viewBox=\"0 -960 960 960\">\n",
              "    <path d=\"M120-120v-720h720v720H120Zm60-500h600v-160H180v160Zm220 220h160v-160H400v160Zm0 220h160v-160H400v160ZM180-400h160v-160H180v160Zm440 0h160v-160H620v160ZM180-180h160v-160H180v160Zm440 0h160v-160H620v160Z\"/>\n",
              "  </svg>\n",
              "    </button>\n",
              "\n",
              "  <style>\n",
              "    .colab-df-container {\n",
              "      display:flex;\n",
              "      gap: 12px;\n",
              "    }\n",
              "\n",
              "    .colab-df-convert {\n",
              "      background-color: #E8F0FE;\n",
              "      border: none;\n",
              "      border-radius: 50%;\n",
              "      cursor: pointer;\n",
              "      display: none;\n",
              "      fill: #1967D2;\n",
              "      height: 32px;\n",
              "      padding: 0 0 0 0;\n",
              "      width: 32px;\n",
              "    }\n",
              "\n",
              "    .colab-df-convert:hover {\n",
              "      background-color: #E2EBFA;\n",
              "      box-shadow: 0px 1px 2px rgba(60, 64, 67, 0.3), 0px 1px 3px 1px rgba(60, 64, 67, 0.15);\n",
              "      fill: #174EA6;\n",
              "    }\n",
              "\n",
              "    .colab-df-buttons div {\n",
              "      margin-bottom: 4px;\n",
              "    }\n",
              "\n",
              "    [theme=dark] .colab-df-convert {\n",
              "      background-color: #3B4455;\n",
              "      fill: #D2E3FC;\n",
              "    }\n",
              "\n",
              "    [theme=dark] .colab-df-convert:hover {\n",
              "      background-color: #434B5C;\n",
              "      box-shadow: 0px 1px 3px 1px rgba(0, 0, 0, 0.15);\n",
              "      filter: drop-shadow(0px 1px 2px rgba(0, 0, 0, 0.3));\n",
              "      fill: #FFFFFF;\n",
              "    }\n",
              "  </style>\n",
              "\n",
              "    <script>\n",
              "      const buttonEl =\n",
              "        document.querySelector('#df-bc25f332-473e-470d-8724-c8e0aba815ea button.colab-df-convert');\n",
              "      buttonEl.style.display =\n",
              "        google.colab.kernel.accessAllowed ? 'block' : 'none';\n",
              "\n",
              "      async function convertToInteractive(key) {\n",
              "        const element = document.querySelector('#df-bc25f332-473e-470d-8724-c8e0aba815ea');\n",
              "        const dataTable =\n",
              "          await google.colab.kernel.invokeFunction('convertToInteractive',\n",
              "                                                    [key], {});\n",
              "        if (!dataTable) return;\n",
              "\n",
              "        const docLinkHtml = 'Like what you see? Visit the ' +\n",
              "          '<a target=\"_blank\" href=https://colab.research.google.com/notebooks/data_table.ipynb>data table notebook</a>'\n",
              "          + ' to learn more about interactive tables.';\n",
              "        element.innerHTML = '';\n",
              "        dataTable['output_type'] = 'display_data';\n",
              "        await google.colab.output.renderOutput(dataTable, element);\n",
              "        const docLink = document.createElement('div');\n",
              "        docLink.innerHTML = docLinkHtml;\n",
              "        element.appendChild(docLink);\n",
              "      }\n",
              "    </script>\n",
              "  </div>\n",
              "\n",
              "\n",
              "<div id=\"df-9a88d90f-ce5c-4154-8a7e-a7e27d660517\">\n",
              "  <button class=\"colab-df-quickchart\" onclick=\"quickchart('df-9a88d90f-ce5c-4154-8a7e-a7e27d660517')\"\n",
              "            title=\"Suggest charts\"\n",
              "            style=\"display:none;\">\n",
              "\n",
              "<svg xmlns=\"http://www.w3.org/2000/svg\" height=\"24px\"viewBox=\"0 0 24 24\"\n",
              "     width=\"24px\">\n",
              "    <g>\n",
              "        <path d=\"M19 3H5c-1.1 0-2 .9-2 2v14c0 1.1.9 2 2 2h14c1.1 0 2-.9 2-2V5c0-1.1-.9-2-2-2zM9 17H7v-7h2v7zm4 0h-2V7h2v10zm4 0h-2v-4h2v4z\"/>\n",
              "    </g>\n",
              "</svg>\n",
              "  </button>\n",
              "\n",
              "<style>\n",
              "  .colab-df-quickchart {\n",
              "      --bg-color: #E8F0FE;\n",
              "      --fill-color: #1967D2;\n",
              "      --hover-bg-color: #E2EBFA;\n",
              "      --hover-fill-color: #174EA6;\n",
              "      --disabled-fill-color: #AAA;\n",
              "      --disabled-bg-color: #DDD;\n",
              "  }\n",
              "\n",
              "  [theme=dark] .colab-df-quickchart {\n",
              "      --bg-color: #3B4455;\n",
              "      --fill-color: #D2E3FC;\n",
              "      --hover-bg-color: #434B5C;\n",
              "      --hover-fill-color: #FFFFFF;\n",
              "      --disabled-bg-color: #3B4455;\n",
              "      --disabled-fill-color: #666;\n",
              "  }\n",
              "\n",
              "  .colab-df-quickchart {\n",
              "    background-color: var(--bg-color);\n",
              "    border: none;\n",
              "    border-radius: 50%;\n",
              "    cursor: pointer;\n",
              "    display: none;\n",
              "    fill: var(--fill-color);\n",
              "    height: 32px;\n",
              "    padding: 0;\n",
              "    width: 32px;\n",
              "  }\n",
              "\n",
              "  .colab-df-quickchart:hover {\n",
              "    background-color: var(--hover-bg-color);\n",
              "    box-shadow: 0 1px 2px rgba(60, 64, 67, 0.3), 0 1px 3px 1px rgba(60, 64, 67, 0.15);\n",
              "    fill: var(--button-hover-fill-color);\n",
              "  }\n",
              "\n",
              "  .colab-df-quickchart-complete:disabled,\n",
              "  .colab-df-quickchart-complete:disabled:hover {\n",
              "    background-color: var(--disabled-bg-color);\n",
              "    fill: var(--disabled-fill-color);\n",
              "    box-shadow: none;\n",
              "  }\n",
              "\n",
              "  .colab-df-spinner {\n",
              "    border: 2px solid var(--fill-color);\n",
              "    border-color: transparent;\n",
              "    border-bottom-color: var(--fill-color);\n",
              "    animation:\n",
              "      spin 1s steps(1) infinite;\n",
              "  }\n",
              "\n",
              "  @keyframes spin {\n",
              "    0% {\n",
              "      border-color: transparent;\n",
              "      border-bottom-color: var(--fill-color);\n",
              "      border-left-color: var(--fill-color);\n",
              "    }\n",
              "    20% {\n",
              "      border-color: transparent;\n",
              "      border-left-color: var(--fill-color);\n",
              "      border-top-color: var(--fill-color);\n",
              "    }\n",
              "    30% {\n",
              "      border-color: transparent;\n",
              "      border-left-color: var(--fill-color);\n",
              "      border-top-color: var(--fill-color);\n",
              "      border-right-color: var(--fill-color);\n",
              "    }\n",
              "    40% {\n",
              "      border-color: transparent;\n",
              "      border-right-color: var(--fill-color);\n",
              "      border-top-color: var(--fill-color);\n",
              "    }\n",
              "    60% {\n",
              "      border-color: transparent;\n",
              "      border-right-color: var(--fill-color);\n",
              "    }\n",
              "    80% {\n",
              "      border-color: transparent;\n",
              "      border-right-color: var(--fill-color);\n",
              "      border-bottom-color: var(--fill-color);\n",
              "    }\n",
              "    90% {\n",
              "      border-color: transparent;\n",
              "      border-bottom-color: var(--fill-color);\n",
              "    }\n",
              "  }\n",
              "</style>\n",
              "\n",
              "  <script>\n",
              "    async function quickchart(key) {\n",
              "      const quickchartButtonEl =\n",
              "        document.querySelector('#' + key + ' button');\n",
              "      quickchartButtonEl.disabled = true;  // To prevent multiple clicks.\n",
              "      quickchartButtonEl.classList.add('colab-df-spinner');\n",
              "      try {\n",
              "        const charts = await google.colab.kernel.invokeFunction(\n",
              "            'suggestCharts', [key], {});\n",
              "      } catch (error) {\n",
              "        console.error('Error during call to suggestCharts:', error);\n",
              "      }\n",
              "      quickchartButtonEl.classList.remove('colab-df-spinner');\n",
              "      quickchartButtonEl.classList.add('colab-df-quickchart-complete');\n",
              "    }\n",
              "    (() => {\n",
              "      let quickchartButtonEl =\n",
              "        document.querySelector('#df-9a88d90f-ce5c-4154-8a7e-a7e27d660517 button');\n",
              "      quickchartButtonEl.style.display =\n",
              "        google.colab.kernel.accessAllowed ? 'block' : 'none';\n",
              "    })();\n",
              "  </script>\n",
              "</div>\n",
              "\n",
              "    </div>\n",
              "  </div>\n"
            ]
          },
          "metadata": {},
          "execution_count": 2
        }
      ],
      "source": [
        "import pandas as pd\n",
        "text_path = '/content/'\n",
        "\n",
        "files = [\n",
        "    \"LightSabers_DS_Processed.csv\",\n",
        "    \"lightsaber_non_DS.txt\",\n",
        "    \"PowerAdapters_DS_Processed.csv\",\n",
        "    \"poweradapters_non_DS.txt\",\n",
        "    \"StripLights_DS_Processed.csv\",\n",
        "    \"striplights_non_DS.txt\",\n",
        "    \"mixed_DS_Processed.csv\",\n",
        "    \"mixed_non_DS.txt\"\n",
        "]\n",
        "\n",
        "dataframes = {}\n",
        "for file in files:\n",
        "    file_path = text_path + file\n",
        "    key = file.split('.')[0]  # Use base name of the file as the key\n",
        "    if file.endswith('.csv'):\n",
        "        dataframes[key] = pd.read_csv(file_path, header=None, names=['data'])\n",
        "    elif file.endswith('.txt'):\n",
        "        with open(file_path, 'r') as file:\n",
        "            data = file.read().split('\\n')\n",
        "        dataframes[key] = pd.DataFrame(data, columns=['data'])\n",
        "\n",
        "# Combine datasets in pairs and add 'dropshipped' column\n",
        "combined_dataframes = {}\n",
        "for i in range(0, len(files), 2):\n",
        "    ds_key, non_ds_key = files[i].split('.')[0], files[i+1].split('.')[0]\n",
        "    ds_df = dataframes[ds_key]\n",
        "    non_ds_df = dataframes[non_ds_key]\n",
        "\n",
        "    # Add 'dropshipped' column\n",
        "    ds_df['dropshipped'] = 'Dropshipped'\n",
        "    non_ds_df['dropshipped'] = 'Not Dropshipped'\n",
        "\n",
        "    # Determine the product type for the 'source' column\n",
        "    product_type = ds_key.split('_')[0]\n",
        "\n",
        "    # Add 'source' column\n",
        "    ds_df['source'] = product_type\n",
        "    non_ds_df['source'] = product_type\n",
        "\n",
        "    # Combine and store in new dictionary\n",
        "    combined_df = pd.concat([ds_df, non_ds_df], ignore_index=True)\n",
        "    combined_dataframes[product_type] = combined_df\n",
        "\n",
        "# Combine all product dataframes into one large dataframe\n",
        "test_data = [combined_dataframes['LightSabers'], combined_dataframes['PowerAdapters'], combined_dataframes['StripLights']]\n",
        "all_data = pd.concat(test_data, ignore_index=True)\n",
        "\n",
        "# Save the combined dataframe to a new file\n",
        "combined_dataframes['LightSabers']\n",
        "combined_dataframes['all'] = all_data\n",
        "all_data.head()"
      ]
    },
    {
      "cell_type": "code",
      "execution_count": null,
      "metadata": {
        "colab": {
          "base_uri": "https://localhost:8080/"
        },
        "id": "EnAH1uzpUPit",
        "outputId": "f084fec9-1ef9-49e4-e73b-1a13201dc439"
      },
      "outputs": [
        {
          "output_type": "stream",
          "name": "stdout",
          "text": [
            "Collecting sentencepiece\n",
            "  Downloading sentencepiece-0.1.99-cp310-cp310-manylinux_2_17_x86_64.manylinux2014_x86_64.whl (1.3 MB)\n",
            "\u001b[2K     \u001b[90m━━━━━━━━━━━━━━━━━━━━━━━━━━━━━━━━━━━━━━━━\u001b[0m \u001b[32m1.3/1.3 MB\u001b[0m \u001b[31m6.6 MB/s\u001b[0m eta \u001b[36m0:00:00\u001b[0m\n",
            "\u001b[?25hInstalling collected packages: sentencepiece\n",
            "Successfully installed sentencepiece-0.1.99\n",
            "Requirement already satisfied: jax in /usr/local/lib/python3.10/dist-packages (0.4.20)\n",
            "Collecting jax\n",
            "  Downloading jax-0.4.22-py3-none-any.whl (1.7 MB)\n",
            "\u001b[2K     \u001b[90m━━━━━━━━━━━━━━━━━━━━━━━━━━━━━━━━━━━━━━━━\u001b[0m \u001b[32m1.7/1.7 MB\u001b[0m \u001b[31m8.1 MB/s\u001b[0m eta \u001b[36m0:00:00\u001b[0m\n",
            "\u001b[?25hRequirement already satisfied: jaxlib in /usr/local/lib/python3.10/dist-packages (0.4.20+cuda11.cudnn86)\n",
            "Collecting jaxlib\n",
            "  Downloading jaxlib-0.4.22-cp310-cp310-manylinux2014_x86_64.whl (77.2 MB)\n",
            "\u001b[2K     \u001b[90m━━━━━━━━━━━━━━━━━━━━━━━━━━━━━━━━━━━━━━━━\u001b[0m \u001b[32m77.2/77.2 MB\u001b[0m \u001b[31m17.8 MB/s\u001b[0m eta \u001b[36m0:00:00\u001b[0m\n",
            "\u001b[?25hRequirement already satisfied: ml-dtypes>=0.2.0 in /usr/local/lib/python3.10/dist-packages (from jax) (0.2.0)\n",
            "Requirement already satisfied: numpy>=1.22 in /usr/local/lib/python3.10/dist-packages (from jax) (1.23.5)\n",
            "Requirement already satisfied: opt-einsum in /usr/local/lib/python3.10/dist-packages (from jax) (3.3.0)\n",
            "Requirement already satisfied: scipy>=1.9 in /usr/local/lib/python3.10/dist-packages (from jax) (1.11.4)\n",
            "Installing collected packages: jaxlib, jax\n",
            "  Attempting uninstall: jaxlib\n",
            "    Found existing installation: jaxlib 0.4.20+cuda11.cudnn86\n",
            "    Uninstalling jaxlib-0.4.20+cuda11.cudnn86:\n",
            "      Successfully uninstalled jaxlib-0.4.20+cuda11.cudnn86\n",
            "  Attempting uninstall: jax\n",
            "    Found existing installation: jax 0.4.20\n",
            "    Uninstalling jax-0.4.20:\n",
            "      Successfully uninstalled jax-0.4.20\n",
            "Successfully installed jax-0.4.22 jaxlib-0.4.22\n"
          ]
        }
      ],
      "source": [
        "!pip install sentencepiece\n",
        "!pip install --upgrade jax jaxlib"
      ]
    },
    {
      "cell_type": "code",
      "execution_count": null,
      "metadata": {
        "colab": {
          "base_uri": "https://localhost:8080/"
        },
        "id": "mVrNbNIkkzSM",
        "outputId": "699ceacb-bba4-41c8-da0f-ecd1bbce130f"
      },
      "outputs": [
        {
          "output_type": "execute_result",
          "data": {
            "text/plain": [
              "dict_keys(['LightSabers', 'PowerAdapters', 'StripLights', 'mixed', 'all'])"
            ]
          },
          "metadata": {},
          "execution_count": 5
        }
      ],
      "source": [
        "combined_dataframes.keys()"
      ]
    },
    {
      "cell_type": "code",
      "execution_count": null,
      "metadata": {
        "colab": {
          "base_uri": "https://localhost:8080/",
          "height": 1000
        },
        "id": "vC1-DhaO6F8B",
        "outputId": "1b3d36f0-18a5-48d9-9581-55679b4b8800"
      },
      "outputs": [
        {
          "output_type": "stream",
          "name": "stdout",
          "text": [
            "Tesla V100-SXM2-16GB\n",
            "Training on fold 1/3\n"
          ]
        },
        {
          "output_type": "stream",
          "name": "stderr",
          "text": [
            "/usr/local/lib/python3.10/dist-packages/transformers/optimization.py:411: FutureWarning: This implementation of AdamW is deprecated and will be removed in a future version. Use the PyTorch implementation torch.optim.AdamW instead, or set `no_deprecation_warning=True` to disable this warning\n",
            "  warnings.warn(\n",
            "100%|██████████| 352/352 [00:44<00:00,  7.85it/s]\n"
          ]
        },
        {
          "output_type": "stream",
          "name": "stdout",
          "text": [
            "Fold 1, Epoch 1, Average Training loss: 0.41944286465348507\n",
            "Fold 1, Validation loss: 0.5622818429255858\n"
          ]
        },
        {
          "output_type": "stream",
          "name": "stderr",
          "text": [
            "/usr/local/lib/python3.10/dist-packages/sklearn/metrics/_classification.py:1344: UndefinedMetricWarning: Precision and F-score are ill-defined and being set to 0.0 due to no predicted samples. Use `zero_division` parameter to control this behavior.\n",
            "  _warn_prf(average, modifier, msg_start, len(result))\n"
          ]
        },
        {
          "output_type": "stream",
          "name": "stdout",
          "text": [
            "Fold 1 - Accuracy: 0.8579545454545454, Precision: 0.0, Recall: 0.0, F1: 0.0\n"
          ]
        },
        {
          "output_type": "stream",
          "name": "stderr",
          "text": [
            "100%|██████████| 352/352 [00:44<00:00,  7.85it/s]\n"
          ]
        },
        {
          "output_type": "stream",
          "name": "stdout",
          "text": [
            "Fold 1, Epoch 2, Average Training loss: 0.4174753122285686\n",
            "Fold 1, Validation loss: 0.23292864742688835\n"
          ]
        },
        {
          "output_type": "stream",
          "name": "stderr",
          "text": [
            "/usr/local/lib/python3.10/dist-packages/sklearn/metrics/_classification.py:1344: UndefinedMetricWarning: Precision and F-score are ill-defined and being set to 0.0 due to no predicted samples. Use `zero_division` parameter to control this behavior.\n",
            "  _warn_prf(average, modifier, msg_start, len(result))\n"
          ]
        },
        {
          "output_type": "stream",
          "name": "stdout",
          "text": [
            "Fold 1 - Accuracy: 0.8579545454545454, Precision: 0.0, Recall: 0.0, F1: 0.0\n"
          ]
        },
        {
          "output_type": "stream",
          "name": "stderr",
          "text": [
            "100%|██████████| 352/352 [00:44<00:00,  7.85it/s]\n"
          ]
        },
        {
          "output_type": "stream",
          "name": "stdout",
          "text": [
            "Fold 1, Epoch 3, Average Training loss: 0.07437835634482326\n",
            "Fold 1, Validation loss: 0.0031106549299279736\n",
            "Fold 1 - Accuracy: 0.9985795454545454, Precision: 0.9900990099009901, Recall: 1.0, F1: 0.9950248756218906\n"
          ]
        },
        {
          "output_type": "stream",
          "name": "stderr",
          "text": [
            "100%|██████████| 352/352 [00:44<00:00,  7.85it/s]\n"
          ]
        },
        {
          "output_type": "stream",
          "name": "stdout",
          "text": [
            "Fold 1, Epoch 4, Average Training loss: 0.01031377136115969\n",
            "Fold 1, Validation loss: 0.000853647777231262\n",
            "Fold 1 - Accuracy: 1.0, Precision: 1.0, Recall: 1.0, F1: 1.0\n"
          ]
        },
        {
          "output_type": "stream",
          "name": "stderr",
          "text": [
            "100%|██████████| 352/352 [00:44<00:00,  7.84it/s]\n"
          ]
        },
        {
          "output_type": "stream",
          "name": "stdout",
          "text": [
            "Fold 1, Epoch 5, Average Training loss: 0.007230825391822939\n",
            "Fold 1, Validation loss: 0.0005157698476316662\n",
            "Fold 1 - Accuracy: 1.0, Precision: 1.0, Recall: 1.0, F1: 1.0\n"
          ]
        },
        {
          "output_type": "stream",
          "name": "stderr",
          "text": [
            "100%|██████████| 352/352 [00:44<00:00,  7.85it/s]\n"
          ]
        },
        {
          "output_type": "stream",
          "name": "stdout",
          "text": [
            "Fold 1, Epoch 6, Average Training loss: 0.006163323771695353\n",
            "Fold 1, Validation loss: 0.00034118658732040785\n",
            "Fold 1 - Accuracy: 1.0, Precision: 1.0, Recall: 1.0, F1: 1.0\n"
          ]
        },
        {
          "output_type": "stream",
          "name": "stderr",
          "text": [
            "100%|██████████| 352/352 [00:44<00:00,  7.85it/s]\n"
          ]
        },
        {
          "output_type": "stream",
          "name": "stdout",
          "text": [
            "Fold 1, Epoch 7, Average Training loss: 0.006656014548670183\n",
            "Fold 1, Validation loss: 0.00027538863221045836\n",
            "Fold 1 - Accuracy: 1.0, Precision: 1.0, Recall: 1.0, F1: 1.0\n"
          ]
        },
        {
          "output_type": "stream",
          "name": "stderr",
          "text": [
            "100%|██████████| 352/352 [00:44<00:00,  7.85it/s]\n"
          ]
        },
        {
          "output_type": "stream",
          "name": "stdout",
          "text": [
            "Fold 1, Epoch 8, Average Training loss: 0.006094327648911117\n",
            "Fold 1, Validation loss: 0.00025228135035087524\n",
            "Fold 1 - Accuracy: 1.0, Precision: 1.0, Recall: 1.0, F1: 1.0\n"
          ]
        },
        {
          "output_type": "stream",
          "name": "stderr",
          "text": [
            "100%|██████████| 352/352 [00:44<00:00,  7.85it/s]\n"
          ]
        },
        {
          "output_type": "stream",
          "name": "stdout",
          "text": [
            "Fold 1, Epoch 9, Average Training loss: 0.005935631554827772\n",
            "Fold 1, Validation loss: 0.0002575807729127436\n",
            "Fold 1 - Accuracy: 1.0, Precision: 1.0, Recall: 1.0, F1: 1.0\n"
          ]
        },
        {
          "output_type": "stream",
          "name": "stderr",
          "text": [
            "100%|██████████| 352/352 [00:44<00:00,  7.84it/s]\n"
          ]
        },
        {
          "output_type": "stream",
          "name": "stdout",
          "text": [
            "Fold 1, Epoch 10, Average Training loss: 0.0060863783401146065\n",
            "Fold 1, Validation loss: 0.00034171484879731327\n",
            "Fold 1 - Accuracy: 1.0, Precision: 1.0, Recall: 1.0, F1: 1.0\n",
            "Training on fold 2/3\n"
          ]
        },
        {
          "output_type": "stream",
          "name": "stderr",
          "text": [
            "/usr/local/lib/python3.10/dist-packages/transformers/optimization.py:411: FutureWarning: This implementation of AdamW is deprecated and will be removed in a future version. Use the PyTorch implementation torch.optim.AdamW instead, or set `no_deprecation_warning=True` to disable this warning\n",
            "  warnings.warn(\n",
            "100%|██████████| 352/352 [00:44<00:00,  7.85it/s]\n"
          ]
        },
        {
          "output_type": "stream",
          "name": "stdout",
          "text": [
            "Fold 2, Epoch 1, Average Training loss: 0.4388502758546648\n",
            "Fold 2, Validation loss: 0.40921835707161913\n"
          ]
        },
        {
          "output_type": "stream",
          "name": "stderr",
          "text": [
            "/usr/local/lib/python3.10/dist-packages/sklearn/metrics/_classification.py:1344: UndefinedMetricWarning: Precision and F-score are ill-defined and being set to 0.0 due to no predicted samples. Use `zero_division` parameter to control this behavior.\n",
            "  _warn_prf(average, modifier, msg_start, len(result))\n"
          ]
        },
        {
          "output_type": "stream",
          "name": "stdout",
          "text": [
            "Fold 2 - Accuracy: 0.8577524893314367, Precision: 0.0, Recall: 0.0, F1: 0.0\n"
          ]
        },
        {
          "output_type": "stream",
          "name": "stderr",
          "text": [
            "100%|██████████| 352/352 [00:44<00:00,  7.84it/s]\n"
          ]
        },
        {
          "output_type": "stream",
          "name": "stdout",
          "text": [
            "Fold 2, Epoch 2, Average Training loss: 0.4198636088139293\n",
            "Fold 2, Validation loss: 0.40546730092980643\n"
          ]
        },
        {
          "output_type": "stream",
          "name": "stderr",
          "text": [
            "/usr/local/lib/python3.10/dist-packages/sklearn/metrics/_classification.py:1344: UndefinedMetricWarning: Precision and F-score are ill-defined and being set to 0.0 due to no predicted samples. Use `zero_division` parameter to control this behavior.\n",
            "  _warn_prf(average, modifier, msg_start, len(result))\n"
          ]
        },
        {
          "output_type": "stream",
          "name": "stdout",
          "text": [
            "Fold 2 - Accuracy: 0.8577524893314367, Precision: 0.0, Recall: 0.0, F1: 0.0\n"
          ]
        },
        {
          "output_type": "stream",
          "name": "stderr",
          "text": [
            "100%|██████████| 352/352 [00:45<00:00,  7.80it/s]\n"
          ]
        },
        {
          "output_type": "stream",
          "name": "stdout",
          "text": [
            "Fold 2, Epoch 3, Average Training loss: 0.17526913143096448\n",
            "Fold 2, Validation loss: 0.0010963521334898278\n",
            "Fold 2 - Accuracy: 1.0, Precision: 1.0, Recall: 1.0, F1: 1.0\n"
          ]
        },
        {
          "output_type": "stream",
          "name": "stderr",
          "text": [
            "100%|██████████| 352/352 [00:45<00:00,  7.81it/s]\n"
          ]
        },
        {
          "output_type": "stream",
          "name": "stdout",
          "text": [
            "Fold 2, Epoch 4, Average Training loss: 0.02033527502796708\n",
            "Fold 2, Validation loss: 0.008252948306273373\n",
            "Fold 2 - Accuracy: 0.9985775248933144, Precision: 1.0, Recall: 0.99, F1: 0.9949748743718593\n"
          ]
        },
        {
          "output_type": "stream",
          "name": "stderr",
          "text": [
            "100%|██████████| 352/352 [00:45<00:00,  7.80it/s]\n"
          ]
        },
        {
          "output_type": "stream",
          "name": "stdout",
          "text": [
            "Fold 2, Epoch 5, Average Training loss: 0.007447163850553228\n",
            "Fold 2, Validation loss: 0.00034554451138484927\n",
            "Fold 2 - Accuracy: 1.0, Precision: 1.0, Recall: 1.0, F1: 1.0\n"
          ]
        },
        {
          "output_type": "stream",
          "name": "stderr",
          "text": [
            "100%|██████████| 352/352 [00:45<00:00,  7.80it/s]\n"
          ]
        },
        {
          "output_type": "stream",
          "name": "stdout",
          "text": [
            "Fold 2, Epoch 6, Average Training loss: 0.006381300583267479\n",
            "Fold 2, Validation loss: 0.0003266578807432035\n",
            "Fold 2 - Accuracy: 1.0, Precision: 1.0, Recall: 1.0, F1: 1.0\n"
          ]
        },
        {
          "output_type": "stream",
          "name": "stderr",
          "text": [
            "100%|██████████| 352/352 [00:44<00:00,  7.83it/s]\n"
          ]
        },
        {
          "output_type": "stream",
          "name": "stdout",
          "text": [
            "Fold 2, Epoch 7, Average Training loss: 0.01762698331814053\n",
            "Fold 2, Validation loss: 0.00044541853441676886\n",
            "Fold 2 - Accuracy: 1.0, Precision: 1.0, Recall: 1.0, F1: 1.0\n"
          ]
        },
        {
          "output_type": "stream",
          "name": "stderr",
          "text": [
            "100%|██████████| 352/352 [00:44<00:00,  7.83it/s]\n"
          ]
        },
        {
          "output_type": "stream",
          "name": "stdout",
          "text": [
            "Fold 2, Epoch 8, Average Training loss: 0.006204026636954619\n",
            "Fold 2, Validation loss: 0.003374899317846443\n",
            "Fold 2 - Accuracy: 0.9985775248933144, Precision: 1.0, Recall: 0.99, F1: 0.9949748743718593\n"
          ]
        },
        {
          "output_type": "stream",
          "name": "stderr",
          "text": [
            "100%|██████████| 352/352 [00:44<00:00,  7.83it/s]\n"
          ]
        },
        {
          "output_type": "stream",
          "name": "stdout",
          "text": [
            "Fold 2, Epoch 9, Average Training loss: 0.006317618878959117\n",
            "Fold 2, Validation loss: 0.0036859808334900827\n",
            "Fold 2 - Accuracy: 0.9985775248933144, Precision: 1.0, Recall: 0.99, F1: 0.9949748743718593\n"
          ]
        },
        {
          "output_type": "stream",
          "name": "stderr",
          "text": [
            "100%|██████████| 352/352 [00:44<00:00,  7.83it/s]\n"
          ]
        },
        {
          "output_type": "stream",
          "name": "stdout",
          "text": [
            "Fold 2, Epoch 10, Average Training loss: 0.006465561186401333\n",
            "Fold 2, Validation loss: 0.003940116581609552\n",
            "Fold 2 - Accuracy: 0.9985775248933144, Precision: 1.0, Recall: 0.99, F1: 0.9949748743718593\n",
            "Training on fold 3/3\n"
          ]
        },
        {
          "output_type": "stream",
          "name": "stderr",
          "text": [
            "/usr/local/lib/python3.10/dist-packages/transformers/optimization.py:411: FutureWarning: This implementation of AdamW is deprecated and will be removed in a future version. Use the PyTorch implementation torch.optim.AdamW instead, or set `no_deprecation_warning=True` to disable this warning\n",
            "  warnings.warn(\n",
            "100%|██████████| 352/352 [00:44<00:00,  7.83it/s]\n"
          ]
        },
        {
          "output_type": "stream",
          "name": "stdout",
          "text": [
            "Fold 3, Epoch 1, Average Training loss: 0.42853244353847747\n",
            "Fold 3, Validation loss: 0.40394737833941524\n"
          ]
        },
        {
          "output_type": "stream",
          "name": "stderr",
          "text": [
            "/usr/local/lib/python3.10/dist-packages/sklearn/metrics/_classification.py:1344: UndefinedMetricWarning: Precision and F-score are ill-defined and being set to 0.0 due to no predicted samples. Use `zero_division` parameter to control this behavior.\n",
            "  _warn_prf(average, modifier, msg_start, len(result))\n"
          ]
        },
        {
          "output_type": "stream",
          "name": "stdout",
          "text": [
            "Fold 3 - Accuracy: 0.8577524893314367, Precision: 0.0, Recall: 0.0, F1: 0.0\n"
          ]
        },
        {
          "output_type": "stream",
          "name": "stderr",
          "text": [
            "100%|██████████| 352/352 [00:44<00:00,  7.83it/s]\n"
          ]
        },
        {
          "output_type": "stream",
          "name": "stdout",
          "text": [
            "Fold 3, Epoch 2, Average Training loss: 0.42004865962503984\n",
            "Fold 3, Validation loss: 0.2974520367146893\n"
          ]
        },
        {
          "output_type": "stream",
          "name": "stderr",
          "text": [
            "/usr/local/lib/python3.10/dist-packages/sklearn/metrics/_classification.py:1344: UndefinedMetricWarning: Precision and F-score are ill-defined and being set to 0.0 due to no predicted samples. Use `zero_division` parameter to control this behavior.\n",
            "  _warn_prf(average, modifier, msg_start, len(result))\n"
          ]
        },
        {
          "output_type": "stream",
          "name": "stdout",
          "text": [
            "Fold 3 - Accuracy: 0.8577524893314367, Precision: 0.0, Recall: 0.0, F1: 0.0\n"
          ]
        },
        {
          "output_type": "stream",
          "name": "stderr",
          "text": [
            "100%|██████████| 352/352 [00:44<00:00,  7.83it/s]\n"
          ]
        },
        {
          "output_type": "stream",
          "name": "stdout",
          "text": [
            "Fold 3, Epoch 3, Average Training loss: 0.08047857227376715\n",
            "Fold 3, Validation loss: 0.011253610650535185\n",
            "Fold 3 - Accuracy: 0.9985775248933144, Precision: 1.0, Recall: 0.99, F1: 0.9949748743718593\n"
          ]
        },
        {
          "output_type": "stream",
          "name": "stderr",
          "text": [
            "100%|██████████| 352/352 [00:44<00:00,  7.83it/s]\n"
          ]
        },
        {
          "output_type": "stream",
          "name": "stdout",
          "text": [
            "Fold 3, Epoch 4, Average Training loss: 0.0020112834149172572\n",
            "Fold 3, Validation loss: 0.011764396823557698\n",
            "Fold 3 - Accuracy: 0.9985775248933144, Precision: 1.0, Recall: 0.99, F1: 0.9949748743718593\n"
          ]
        },
        {
          "output_type": "stream",
          "name": "stderr",
          "text": [
            "100%|██████████| 352/352 [00:44<00:00,  7.83it/s]\n"
          ]
        },
        {
          "output_type": "stream",
          "name": "stdout",
          "text": [
            "Fold 3, Epoch 5, Average Training loss: 0.0011325721041595732\n",
            "Fold 3, Validation loss: 0.012258686836337967\n",
            "Fold 3 - Accuracy: 0.9985775248933144, Precision: 1.0, Recall: 0.99, F1: 0.9949748743718593\n"
          ]
        },
        {
          "output_type": "stream",
          "name": "stderr",
          "text": [
            "100%|██████████| 352/352 [00:44<00:00,  7.83it/s]\n"
          ]
        },
        {
          "output_type": "stream",
          "name": "stdout",
          "text": [
            "Fold 3, Epoch 6, Average Training loss: 0.07664942394066285\n",
            "Fold 3, Validation loss: 0.01126771107076572\n",
            "Fold 3 - Accuracy: 0.9985775248933144, Precision: 1.0, Recall: 0.99, F1: 0.9949748743718593\n"
          ]
        },
        {
          "output_type": "stream",
          "name": "stderr",
          "text": [
            "100%|██████████| 352/352 [00:44<00:00,  7.83it/s]\n"
          ]
        },
        {
          "output_type": "stream",
          "name": "stdout",
          "text": [
            "Fold 3, Epoch 7, Average Training loss: 0.0019367076856724452\n",
            "Fold 3, Validation loss: 0.016496830508251813\n",
            "Fold 3 - Accuracy: 0.9971550497866287, Precision: 0.99, Recall: 0.99, F1: 0.99\n"
          ]
        },
        {
          "output_type": "stream",
          "name": "stderr",
          "text": [
            "100%|██████████| 352/352 [00:44<00:00,  7.83it/s]\n"
          ]
        },
        {
          "output_type": "stream",
          "name": "stdout",
          "text": [
            "Fold 3, Epoch 8, Average Training loss: 0.0019639713021785033\n",
            "Fold 3, Validation loss: 0.012536377848350226\n",
            "Fold 3 - Accuracy: 0.9985775248933144, Precision: 1.0, Recall: 0.99, F1: 0.9949748743718593\n"
          ]
        },
        {
          "output_type": "stream",
          "name": "stderr",
          "text": [
            "100%|██████████| 352/352 [00:44<00:00,  7.83it/s]\n"
          ]
        },
        {
          "output_type": "stream",
          "name": "stdout",
          "text": [
            "Fold 3, Epoch 9, Average Training loss: 0.010409934359482908\n",
            "Fold 3, Validation loss: 0.011636680520909564\n",
            "Fold 3 - Accuracy: 0.9985775248933144, Precision: 1.0, Recall: 0.99, F1: 0.9949748743718593\n"
          ]
        },
        {
          "output_type": "stream",
          "name": "stderr",
          "text": [
            "100%|██████████| 352/352 [00:44<00:00,  7.83it/s]\n"
          ]
        },
        {
          "output_type": "stream",
          "name": "stdout",
          "text": [
            "Fold 3, Epoch 10, Average Training loss: 0.0008672608004913359\n",
            "Fold 3, Validation loss: 0.012738626982354617\n",
            "Fold 3 - Accuracy: 0.9985775248933144, Precision: 1.0, Recall: 0.99, F1: 0.9949748743718593\n",
            "Overall results for Fold 1: Accuracy: 0.8579545454545454, Precision: 0.0, Recall: 0.0, F1: 0.0\n",
            "Overall results for Fold 2: Accuracy: 0.8579545454545454, Precision: 0.0, Recall: 0.0, F1: 0.0\n",
            "Overall results for Fold 3: Accuracy: 0.9985795454545454, Precision: 0.9900990099009901, Recall: 1.0, F1: 0.9950248756218906\n",
            "Overall results for Fold 4: Accuracy: 1.0, Precision: 1.0, Recall: 1.0, F1: 1.0\n",
            "Overall results for Fold 5: Accuracy: 1.0, Precision: 1.0, Recall: 1.0, F1: 1.0\n",
            "Overall results for Fold 6: Accuracy: 1.0, Precision: 1.0, Recall: 1.0, F1: 1.0\n",
            "Overall results for Fold 7: Accuracy: 1.0, Precision: 1.0, Recall: 1.0, F1: 1.0\n",
            "Overall results for Fold 8: Accuracy: 1.0, Precision: 1.0, Recall: 1.0, F1: 1.0\n",
            "Overall results for Fold 9: Accuracy: 1.0, Precision: 1.0, Recall: 1.0, F1: 1.0\n",
            "Overall results for Fold 10: Accuracy: 1.0, Precision: 1.0, Recall: 1.0, F1: 1.0\n",
            "Overall results for Fold 11: Accuracy: 0.8577524893314367, Precision: 0.0, Recall: 0.0, F1: 0.0\n",
            "Overall results for Fold 12: Accuracy: 0.8577524893314367, Precision: 0.0, Recall: 0.0, F1: 0.0\n",
            "Overall results for Fold 13: Accuracy: 1.0, Precision: 1.0, Recall: 1.0, F1: 1.0\n",
            "Overall results for Fold 14: Accuracy: 0.9985775248933144, Precision: 1.0, Recall: 0.99, F1: 0.9949748743718593\n",
            "Overall results for Fold 15: Accuracy: 1.0, Precision: 1.0, Recall: 1.0, F1: 1.0\n",
            "Overall results for Fold 16: Accuracy: 1.0, Precision: 1.0, Recall: 1.0, F1: 1.0\n",
            "Overall results for Fold 17: Accuracy: 1.0, Precision: 1.0, Recall: 1.0, F1: 1.0\n",
            "Overall results for Fold 18: Accuracy: 0.9985775248933144, Precision: 1.0, Recall: 0.99, F1: 0.9949748743718593\n",
            "Overall results for Fold 19: Accuracy: 0.9985775248933144, Precision: 1.0, Recall: 0.99, F1: 0.9949748743718593\n",
            "Overall results for Fold 20: Accuracy: 0.9985775248933144, Precision: 1.0, Recall: 0.99, F1: 0.9949748743718593\n",
            "Overall results for Fold 21: Accuracy: 0.8577524893314367, Precision: 0.0, Recall: 0.0, F1: 0.0\n",
            "Overall results for Fold 22: Accuracy: 0.8577524893314367, Precision: 0.0, Recall: 0.0, F1: 0.0\n",
            "Overall results for Fold 23: Accuracy: 0.9985775248933144, Precision: 1.0, Recall: 0.99, F1: 0.9949748743718593\n",
            "Overall results for Fold 24: Accuracy: 0.9985775248933144, Precision: 1.0, Recall: 0.99, F1: 0.9949748743718593\n",
            "Overall results for Fold 25: Accuracy: 0.9985775248933144, Precision: 1.0, Recall: 0.99, F1: 0.9949748743718593\n",
            "Overall results for Fold 26: Accuracy: 0.9985775248933144, Precision: 1.0, Recall: 0.99, F1: 0.9949748743718593\n",
            "Overall results for Fold 27: Accuracy: 0.9971550497866287, Precision: 0.99, Recall: 0.99, F1: 0.99\n",
            "Overall results for Fold 28: Accuracy: 0.9985775248933144, Precision: 1.0, Recall: 0.99, F1: 0.9949748743718593\n",
            "Overall results for Fold 29: Accuracy: 0.9985775248933144, Precision: 1.0, Recall: 0.99, F1: 0.9949748743718593\n",
            "Overall results for Fold 30: Accuracy: 0.9985775248933144, Precision: 1.0, Recall: 0.99, F1: 0.9949748743718593\n",
            "Predicted Class Distribution: [604  99]\n",
            "Actual Class Distribution: [603 100]\n"
          ]
        },
        {
          "output_type": "display_data",
          "data": {
            "text/plain": [
              "<Figure size 640x480 with 2 Axes>"
            ],
            "image/png": "[encoded data removed]"
          },
          "metadata": {}
        }
      ],
      "source": [
        "# BERT\n",
        "import pandas as pd\n",
        "import numpy as np\n",
        "import torch\n",
        "from torch.utils.data import DataLoader, Dataset\n",
        "from transformers import BertTokenizer, BertForSequenceClassification, BertConfig, AdamW\n",
        "from sklearn.metrics import accuracy_score, precision_recall_fscore_support, confusion_matrix\n",
        "from sklearn.model_selection import StratifiedKFold\n",
        "from tqdm import tqdm\n",
        "import seaborn as sns\n",
        "import matplotlib.pyplot as plt\n",
        "\n",
        "device = torch.device('cuda' if torch.cuda.is_available() else 'cpu')\n",
        "if device.type == 'cuda':\n",
        "    print(torch.cuda.get_device_name(0))\n",
        "\n",
        "all_data['label'] = all_data['dropshipped'].map({'Dropshipped': 1, 'Not Dropshipped': 0})\n",
        "all_data.dropna(subset=['data'], inplace=True)\n",
        "all_data['data'] = all_data['data'].astype(str)\n",
        "\n",
        "# Balance the dataset to 60% non-dropshipped and 40% dropshipped\n",
        "class_0 = all_data[all_data['label'] == 0]\n",
        "class_1 = all_data[all_data['label'] == 1]\n",
        "total_sample_size = len(all_data)\n",
        "sample_size_class_0 = int(total_sample_size * 0.6)  # 60% non-dropshipped\n",
        "sample_size_class_1 = int(total_sample_size * 0.4)  # 40% dropshipped\n",
        "sample_size_class_0 = min(sample_size_class_0, len(class_0))\n",
        "sample_size_class_1 = min(sample_size_class_1, len(class_1))\n",
        "balanced_data = pd.concat([class_0.sample(sample_size_class_0, random_state=42),\n",
        "                           class_1.sample(sample_size_class_1, random_state=42)])\n",
        "balanced_data = balanced_data.sample(frac=1, random_state=29).reset_index(drop=True)\n",
        "\n",
        "# Tokenization\n",
        "tokenizer = BertTokenizer.from_pretrained('bert-base-uncased')\n",
        "class TextDataset(Dataset):\n",
        "    def __init__(self, encodings, labels):\n",
        "        self.encodings = encodings\n",
        "        self.labels = labels\n",
        "\n",
        "    def __getitem__(self, idx):\n",
        "        item = {key: torch.tensor(val[idx]) for key, val in self.encodings.items()}\n",
        "        item['labels'] = torch.tensor(self.labels[idx])\n",
        "        return item\n",
        "\n",
        "    def __len__(self):\n",
        "        return len(self.labels)\n",
        "\n",
        "# Stratified K-Fold Cross-Validation\n",
        "num_epochs = 10\n",
        "skf = StratifiedKFold(n_splits=3)\n",
        "fold_results = []\n",
        "for fold, (train_idx, test_idx) in enumerate(skf.split(balanced_data, balanced_data['label'])):\n",
        "    print(f\"Training on fold {fold+1}/{skf.n_splits}\")\n",
        "\n",
        "    train_data = balanced_data.iloc[train_idx]\n",
        "    test_data = balanced_data.iloc[test_idx]\n",
        "    train_encodings = tokenizer(train_data['data'].to_list(), truncation=True, padding=True)\n",
        "    test_encodings = tokenizer(test_data['data'].to_list(), truncation=True, padding=True)\n",
        "    train_dataset = TextDataset(train_encodings, train_data['label'].tolist())\n",
        "    test_dataset = TextDataset(test_encodings, test_data['label'].tolist())\n",
        "\n",
        "    train_loader = DataLoader(train_dataset, batch_size=4, shuffle=True)\n",
        "    test_loader = DataLoader(test_dataset, batch_size=4, shuffle=False)\n",
        "\n",
        "    # Configure the model\n",
        "    config = BertConfig.from_pretrained('bert-base-uncased', num_labels=2)\n",
        "    config.hidden_dropout_prob = 0.4\n",
        "    config.attention_probs_dropout_prob = 0.4\n",
        "    model = BertForSequenceClassification(config)\n",
        "    model.to(device)\n",
        "\n",
        "    # Optimizer and scheduler\n",
        "    optim = AdamW(model.parameters(), lr=1e-5, weight_decay=0.05)\n",
        "\n",
        "    for epoch in range(num_epochs):\n",
        "        model.train()\n",
        "        total_loss = 0\n",
        "        for batch in tqdm(train_loader):\n",
        "            optim.zero_grad()\n",
        "            input_ids = batch['input_ids'].to(device)\n",
        "            attention_mask = batch['attention_mask'].to(device)\n",
        "            labels = batch['labels'].to(device)\n",
        "            outputs = model(input_ids, attention_mask=attention_mask, labels=labels)\n",
        "            loss = outputs.loss\n",
        "            total_loss += loss.item()\n",
        "            loss.backward()\n",
        "            optim.step()\n",
        "\n",
        "        avg_train_loss = total_loss / len(train_loader)\n",
        "        print(f\"Fold {fold+1}, Epoch {epoch+1}, Average Training loss: {avg_train_loss}\")\n",
        "\n",
        "        # Validation\n",
        "        model.eval()\n",
        "        val_loss = 0\n",
        "        for batch in test_loader:\n",
        "            input_ids = batch['input_ids'].to(device)\n",
        "            attention_mask = batch['attention_mask'].to(device)\n",
        "            with torch.no_grad():\n",
        "                outputs = model(input_ids, attention_mask=attention_mask)\n",
        "            logits = outputs.logits\n",
        "            val_loss += torch.nn.functional.cross_entropy(logits, batch['labels'].to(device)).item()\n",
        "\n",
        "        avg_val_loss = val_loss / len(test_loader)\n",
        "        print(f\"Fold {fold+1}, Validation loss: {avg_val_loss}\")\n",
        "\n",
        "        # Evaluation\n",
        "        test_preds, test_targets = [], []\n",
        "        for batch in test_loader:\n",
        "            input_ids = batch['input_ids'].to(device)\n",
        "            attention_mask = batch['attention_mask'].to(device)\n",
        "            with torch.no_grad():\n",
        "                outputs = model(input_ids, attention_mask=attention_mask)\n",
        "            logits = outputs.logits\n",
        "            test_preds.extend(torch.argmax(logits, axis=1).tolist())\n",
        "            test_targets.extend(batch['labels'].tolist())\n",
        "\n",
        "        fold_accuracy = accuracy_score(test_targets, test_preds)\n",
        "        fold_precision, fold_recall, fold_f1, _ = precision_recall_fscore_support(test_targets, test_preds, average='binary')\n",
        "        fold_results.append((fold_accuracy, fold_precision, fold_recall, fold_f1))\n",
        "        print(f\"Fold {fold+1} - Accuracy: {fold_accuracy}, Precision: {fold_precision}, Recall: {fold_recall}, F1: {fold_f1}\")\n",
        "\n",
        "# Display overall results\n",
        "for i, (accuracy, precision, recall, f1) in enumerate(fold_results):\n",
        "    print(f\"Overall results for Fold {i+1}: Accuracy: {accuracy}, Precision: {precision}, Recall: {recall}, F1: {f1}\")\n",
        "\n",
        "# After making predictions:\n",
        "test_preds, test_targets = [], []\n",
        "for batch in test_loader:\n",
        "    input_ids = batch['input_ids'].to(device)\n",
        "    attention_mask = batch['attention_mask'].to(device)\n",
        "    with torch.no_grad():\n",
        "        outputs = model(input_ids, attention_mask=attention_mask)\n",
        "    logits = outputs.logits\n",
        "    test_preds.extend(torch.argmax(logits, axis=1).tolist())\n",
        "    test_targets.extend(batch['labels'].tolist())\n",
        "\n",
        "test_preds_np = np.array(test_preds)\n",
        "test_targets_np = np.array(test_targets)\n",
        "\n",
        "predicted_class_distribution = np.bincount(test_preds_np)\n",
        "actual_class_distribution = np.bincount(test_targets_np)\n",
        "\n",
        "#Outputs testing\n",
        "print(\"Predicted Class Distribution:\", predicted_class_distribution)\n",
        "print(\"Actual Class Distribution:\", actual_class_distribution)\n",
        "\n",
        "# Confusion Matrix\n",
        "cm = confusion_matrix(test_targets_np, test_preds_np)\n",
        "sns.heatmap(cm, annot=True, fmt='d')\n",
        "plt.title('Confusion Matrix')\n",
        "plt.ylabel('Actual Label')\n",
        "plt.xlabel('Predicted Label')\n",
        "plt.show()\n"
      ]
    },
    {
      "cell_type": "code",
      "execution_count": null,
      "metadata": {
        "colab": {
          "base_uri": "https://localhost:8080/",
          "height": 1000,
          "referenced_widgets": [
            "8e96bf9360e7482994c988d14fb93287",
            "451d037dd19d4948b7887acb7c0fc719",
            "259ed403cfb84245aae8a7138ac7fd70",
            "b5d46c85a38a4abe91c42d943ab2f6b6",
            "4e6bbeb7c4214e13a57499a1f5dfea2c",
            "3c6344f0d019494095dfc8baddb69f09",
            "2f1e6785b89d4870be8babccb696519e",
            "0f7f987f88094436a894d80e32d0e26b",
            "db0c1a7338b0434590c8b7d9995945d4",
            "867c0c534f934385be80106df318c1a7",
            "af97ad5ad5d4470eb70ed8e1a2acb9c4",
            "239f11f184bc47c497ec590c9224d593",
            "067f5b31556549cbab6fa2f7f8ee1cbb",
            "d804aa01c7d64cd3bec103e99d094907",
            "6fd935d98d084752b0321a16e860542e",
            "9170f37584754423883d1a75341504a6",
            "5e9896b52bc443f78fe8a308633b3d49",
            "59696e8a2311460aba6ab56425eb8313",
            "79b699e78c8549c9a33b2921da12b485",
            "ad86a86973f94cc69023409381798b55",
            "f7eb76346e674b71b53cd13d049a7250",
            "900e697d8fd0492ca8ee693f92db1928",
            "1ed96a98d319410a8559932b0f6d3564",
            "9f251fc09d274e279f9ab99c9894e0aa",
            "29a1dd561ef94a1284bdd493aa544aea",
            "8829bb80f9c6403a9c392829ee658746",
            "8c31025eb0514c668d73a72163a87d2a",
            "fcfc133f1d084e2d88e486e3c5ee957f",
            "03ca14eaa73b4325ab90402ab0cb7784",
            "5e7ed32231e34bf49ecf792937084c36",
            "7b28a4812a5f4e539d267ab6b4680ee0",
            "026c901509ea4c83b43a4ba0e8ccb09e",
            "70b2ecaed90b4818bf5829d0fbfda4cd",
            "71530e2e1eda48f1a1a0069e0d73ba17",
            "3364065d9ca94a928e6f0c759f9945db",
            "e9b7613ca8f044359394fdb1213a725d",
            "19ad2c4c69f8477fb20d12b58706021d",
            "902ee174a0fe4e878e4761b7f8f70418",
            "8b6e05effb824afb8e131bd20208d4d1",
            "ec5ed67349bb49ec964218add9430437",
            "d4b87ab40a8e4afc87cea1c76a934a37",
            "c769af62a2dc48b2b76bd6fc4b71b0a9",
            "bc531af85035443bbac7021d6c9f6d2a",
            "8a366e875bec4181a4fd0a5d468e30d9"
          ]
        },
        "id": "O-6SlZMBcd02",
        "outputId": "62b604a8-d6ef-4a4d-8514-732f4e1beb96"
      },
      "outputs": [
        {
          "output_type": "stream",
          "name": "stdout",
          "text": [
            "Tesla V100-SXM2-16GB\n"
          ]
        },
        {
          "output_type": "display_data",
          "data": {
            "text/plain": [
              "vocab.json:   0%|          | 0.00/899k [00:00<?, ?B/s]"
            ],
            "application/vnd.jupyter.widget-view+json": {
              "version_major": 2,
              "version_minor": 0,
              "model_id": "8e96bf9360e7482994c988d14fb93287"
            }
          },
          "metadata": {}
        },
        {
          "output_type": "display_data",
          "data": {
            "text/plain": [
              "merges.txt:   0%|          | 0.00/456k [00:00<?, ?B/s]"
            ],
            "application/vnd.jupyter.widget-view+json": {
              "version_major": 2,
              "version_minor": 0,
              "model_id": "239f11f184bc47c497ec590c9224d593"
            }
          },
          "metadata": {}
        },
        {
          "output_type": "display_data",
          "data": {
            "text/plain": [
              "tokenizer.json:   0%|          | 0.00/1.36M [00:00<?, ?B/s]"
            ],
            "application/vnd.jupyter.widget-view+json": {
              "version_major": 2,
              "version_minor": 0,
              "model_id": "1ed96a98d319410a8559932b0f6d3564"
            }
          },
          "metadata": {}
        },
        {
          "output_type": "display_data",
          "data": {
            "text/plain": [
              "config.json:   0%|          | 0.00/481 [00:00<?, ?B/s]"
            ],
            "application/vnd.jupyter.widget-view+json": {
              "version_major": 2,
              "version_minor": 0,
              "model_id": "71530e2e1eda48f1a1a0069e0d73ba17"
            }
          },
          "metadata": {}
        },
        {
          "output_type": "stream",
          "name": "stdout",
          "text": [
            "Training on fold 1/3\n"
          ]
        },
        {
          "output_type": "stream",
          "name": "stderr",
          "text": [
            "/usr/local/lib/python3.10/dist-packages/transformers/optimization.py:411: FutureWarning: This implementation of AdamW is deprecated and will be removed in a future version. Use the PyTorch implementation torch.optim.AdamW instead, or set `no_deprecation_warning=True` to disable this warning\n",
            "  warnings.warn(\n"
          ]
        },
        {
          "output_type": "stream",
          "name": "stdout",
          "text": [
            "Fold 1, Epoch 1, Average Training loss: 0.33760472424032667\n",
            "Fold 1, Validation loss: 0.32718265239918043\n",
            "Fold 1, Epoch 2, Average Training loss: 0.3392960163542912\n",
            "Fold 1, Validation loss: 0.34146933777937816\n",
            "Fold 1, Epoch 3, Average Training loss: 0.3344133260053775\n",
            "Fold 1, Validation loss: 0.3323863388763534\n",
            "Fold 1, Epoch 4, Average Training loss: 0.3626359867612048\n",
            "Fold 1, Validation loss: 0.3234790299265158\n",
            "Fold 1, Epoch 5, Average Training loss: 0.33433412436750676\n",
            "Fold 1, Validation loss: 0.3233363704667205\n",
            "Fold 1, Epoch 6, Average Training loss: 0.3337629255912607\n",
            "Fold 1, Validation loss: 0.32857189753225874\n",
            "Fold 1, Epoch 7, Average Training loss: 0.3336844958276266\n",
            "Fold 1, Validation loss: 0.3257250172633027\n",
            "Fold 1, Epoch 8, Average Training loss: 0.331691740553767\n",
            "Fold 1, Validation loss: 0.32517777678985443\n",
            "Fold 1, Epoch 9, Average Training loss: 0.3303688502323533\n",
            "Fold 1, Validation loss: 0.3258911644419034\n",
            "Fold 1, Epoch 10, Average Training loss: 0.3315680472268945\n",
            "Fold 1, Validation loss: 0.32550893327783026\n"
          ]
        },
        {
          "output_type": "stream",
          "name": "stderr",
          "text": [
            "/usr/local/lib/python3.10/dist-packages/sklearn/metrics/_classification.py:1344: UndefinedMetricWarning: Precision and F-score are ill-defined and being set to 0.0 due to no predicted samples. Use `zero_division` parameter to control this behavior.\n",
            "  _warn_prf(average, modifier, msg_start, len(result))\n"
          ]
        },
        {
          "output_type": "stream",
          "name": "stdout",
          "text": [
            "Fold 1 - Accuracy: 0.9005964214711729, Precision: 0.0, Recall: 0.0, F1: 0.0, AUC: 0.9920695364238411\n",
            "Training on fold 2/3\n"
          ]
        },
        {
          "output_type": "stream",
          "name": "stderr",
          "text": [
            "/usr/local/lib/python3.10/dist-packages/transformers/optimization.py:411: FutureWarning: This implementation of AdamW is deprecated and will be removed in a future version. Use the PyTorch implementation torch.optim.AdamW instead, or set `no_deprecation_warning=True` to disable this warning\n",
            "  warnings.warn(\n"
          ]
        },
        {
          "output_type": "stream",
          "name": "stdout",
          "text": [
            "Fold 2, Epoch 1, Average Training loss: 0.34806127076791155\n",
            "Fold 2, Validation loss: 0.3238727856604826\n",
            "Fold 2, Epoch 2, Average Training loss: 0.33668570239688195\n",
            "Fold 2, Validation loss: 0.3253810206457736\n",
            "Fold 2, Epoch 3, Average Training loss: 0.34396944455211126\n",
            "Fold 2, Validation loss: 0.3618965261275806\n",
            "Fold 2, Epoch 4, Average Training loss: 0.34173913540998624\n",
            "Fold 2, Validation loss: 0.3289192004927567\n",
            "Fold 2, Epoch 5, Average Training loss: 0.3302183639672067\n",
            "Fold 2, Validation loss: 0.33071635261414545\n",
            "Fold 2, Epoch 6, Average Training loss: 0.33343979796128614\n",
            "Fold 2, Validation loss: 0.3240047694435195\n",
            "Fold 2, Epoch 7, Average Training loss: 0.3309846945284378\n",
            "Fold 2, Validation loss: 0.3297185328981233\n",
            "Fold 2, Epoch 8, Average Training loss: 0.3342150922805544\n",
            "Fold 2, Validation loss: 0.3267507081821797\n",
            "Fold 2, Epoch 9, Average Training loss: 0.32651349896239856\n",
            "Fold 2, Validation loss: 0.32697030446595615\n",
            "Fold 2, Epoch 10, Average Training loss: 0.3280203581920692\n",
            "Fold 2, Validation loss: 0.3240194469099007\n"
          ]
        },
        {
          "output_type": "stream",
          "name": "stderr",
          "text": [
            "/usr/local/lib/python3.10/dist-packages/sklearn/metrics/_classification.py:1344: UndefinedMetricWarning: Precision and F-score are ill-defined and being set to 0.0 due to no predicted samples. Use `zero_division` parameter to control this behavior.\n",
            "  _warn_prf(average, modifier, msg_start, len(result))\n"
          ]
        },
        {
          "output_type": "stream",
          "name": "stdout",
          "text": [
            "Fold 2 - Accuracy: 0.9005964214711729, Precision: 0.0, Recall: 0.0, F1: 0.0, AUC: 0.019812362030905077\n",
            "Training on fold 3/3\n"
          ]
        },
        {
          "output_type": "stream",
          "name": "stderr",
          "text": [
            "/usr/local/lib/python3.10/dist-packages/transformers/optimization.py:411: FutureWarning: This implementation of AdamW is deprecated and will be removed in a future version. Use the PyTorch implementation torch.optim.AdamW instead, or set `no_deprecation_warning=True` to disable this warning\n",
            "  warnings.warn(\n"
          ]
        },
        {
          "output_type": "stream",
          "name": "stdout",
          "text": [
            "Fold 3, Epoch 1, Average Training loss: 0.34147606901676647\n",
            "Fold 3, Validation loss: 0.3455307301547792\n",
            "Fold 3, Epoch 2, Average Training loss: 0.33968086251693347\n",
            "Fold 3, Validation loss: 0.32409661919588134\n",
            "Fold 3, Epoch 3, Average Training loss: 0.33237413464794086\n",
            "Fold 3, Validation loss: 0.3275510240641851\n",
            "Fold 3, Epoch 4, Average Training loss: 0.33386006785763633\n",
            "Fold 3, Validation loss: 0.3417337824782682\n",
            "Fold 3, Epoch 5, Average Training loss: 0.34789524091378093\n",
            "Fold 3, Validation loss: 0.3231223857710286\n",
            "Fold 3, Epoch 6, Average Training loss: 0.33681766347338754\n",
            "Fold 3, Validation loss: 0.331426019174239\n",
            "Fold 3, Epoch 7, Average Training loss: 0.1345087085080902\n",
            "Fold 3, Validation loss: 0.00948149979295623\n",
            "Fold 3, Epoch 8, Average Training loss: 0.016888662409554753\n",
            "Fold 3, Validation loss: 0.006077898408023877\n",
            "Fold 3, Epoch 9, Average Training loss: 0.009469055487970186\n",
            "Fold 3, Validation loss: 0.02805800279343708\n",
            "Fold 3, Epoch 10, Average Training loss: 0.01123338222960084\n",
            "Fold 3, Validation loss: 0.009418382396688685\n",
            "Fold 3 - Accuracy: 0.9990049751243781, Precision: 0.9900990099009901, Recall: 1.0, F1: 0.9950248756218906, AUC: 1.0\n",
            "Final Metrics - Accuracy: 0.933399272688908, Precision: 0.33003300330033003, Recall: 0.3333333333333333, F1: 0.33167495854063017, AUC: 0.6706272994849153\n"
          ]
        },
        {
          "output_type": "display_data",
          "data": {
            "text/plain": [
              "<Figure size 640x480 with 2 Axes>"
            ],
            "image/png": "[encoded data removed]"
          },
          "metadata": {}
        }
      ],
      "source": [
        "#RoBERTa\n",
        "# Import necessary libraries\n",
        "import pandas as pd\n",
        "import numpy as np\n",
        "import torch\n",
        "from torch.utils.data import DataLoader, Dataset\n",
        "from transformers import RobertaTokenizer, RobertaForSequenceClassification, RobertaConfig, AdamW\n",
        "from sklearn.metrics import accuracy_score, precision_recall_fscore_support, roc_auc_score, confusion_matrix\n",
        "from sklearn.model_selection import StratifiedKFold\n",
        "from tqdm import tqdm\n",
        "import seaborn as sns\n",
        "import matplotlib.pyplot as plt\n",
        "from transformers import get_linear_schedule_with_warmup\n",
        "\n",
        "# Device configuration\n",
        "device = torch.device('cuda' if torch.cuda.is_available() else 'cpu')\n",
        "if device.type == 'cuda':\n",
        "    print(torch.cuda.get_device_name(0))\n",
        "\n",
        "all_data['label'] = all_data['dropshipped'].map({'Dropshipped': 1, 'Not Dropshipped': 0})\n",
        "all_data.dropna(subset=['data'], inplace=True)\n",
        "all_data['data'] = all_data['data'].astype(str)\n",
        "\n",
        "# Balance the dataset to 60% non-dropshipped and 40% dropshipped\n",
        "class_0 = all_data[all_data['label'] == 0]\n",
        "class_1 = all_data[all_data['label'] == 1]\n",
        "\n",
        "# Calculate sample sizes based on desired proportions\n",
        "total_sample_size = len(all_data)\n",
        "sample_size_class_0 = int(total_sample_size * 0.6)  # 60% non-dropshipped\n",
        "sample_size_class_1 = int(total_sample_size * 0.4)  # 40% dropshipped\n",
        "\n",
        "# Ensure sample sizes do not exceed the available data in each class\n",
        "sample_size_class_0 = min(sample_size_class_0, len(class_0))\n",
        "sample_size_class_1 = min(sample_size_class_1, len(class_1))\n",
        "\n",
        "# Sample the data\n",
        "balanced_data = pd.concat([class_0.sample(sample_size_class_0, random_state=42),\n",
        "                           class_1.sample(sample_size_class_1, random_state=42)])\n",
        "balanced_data = balanced_data.sample(frac=1, random_state=42).reset_index(drop=True)\n",
        "\n",
        "all_data = balanced_data\n",
        "\n",
        "tokenizer = RobertaTokenizer.from_pretrained('roberta-base')\n",
        "\n",
        "# Dataset class\n",
        "class TextDataset(Dataset):\n",
        "    def __init__(self, encodings, labels):\n",
        "        self.encodings = encodings\n",
        "        self.labels = labels\n",
        "\n",
        "    def __getitem__(self, idx):\n",
        "        item = {key: torch.tensor(val[idx]) for key, val in self.encodings.items()}\n",
        "        item['labels'] = torch.tensor(self.labels[idx])\n",
        "        return item\n",
        "\n",
        "    def __len__(self):\n",
        "        return len(self.labels)\n",
        "\n",
        "# Stratified K-Fold Cross-Validation\n",
        "num_epochs = 10\n",
        "skf = StratifiedKFold(n_splits=3)\n",
        "fold_results = []\n",
        "\n",
        "for fold, (train_idx, test_idx) in enumerate(skf.split(all_data, all_data['label'])):\n",
        "    print(f\"Training on fold {fold+1}/{skf.n_splits}\")\n",
        "\n",
        "    train_data = all_data.iloc[train_idx]\n",
        "    test_data = all_data.iloc[test_idx]\n",
        "\n",
        "    train_encodings = tokenizer(train_data['data'].to_list(), truncation=True, padding=True)\n",
        "    test_encodings = tokenizer(test_data['data'].to_list(), truncation=True, padding=True)\n",
        "\n",
        "    train_dataset = TextDataset(train_encodings, train_data['label'].tolist())\n",
        "    test_dataset = TextDataset(test_encodings, test_data['label'].tolist())\n",
        "\n",
        "    train_loader = DataLoader(train_dataset, batch_size=8, shuffle=True)\n",
        "    test_loader = DataLoader(test_dataset, batch_size=8, shuffle=False)\n",
        "\n",
        "    config = RobertaConfig.from_pretrained('roberta-base', num_labels=2)\n",
        "    config.hidden_dropout_prob = 0.2\n",
        "    config.attention_probs_dropout_prob = 0.2\n",
        "    model = RobertaForSequenceClassification(config)\n",
        "    model.to(device)\n",
        "\n",
        "    optim = AdamW(model.parameters(), lr=5e-5, weight_decay=0.01)\n",
        "    total_steps = len(train_loader) * num_epochs\n",
        "    scheduler = get_linear_schedule_with_warmup(optim, num_warmup_steps=0, num_training_steps=total_steps)\n",
        "\n",
        "    for epoch in range(num_epochs):\n",
        "        model.train()\n",
        "        total_loss = 0\n",
        "        for batch in train_loader:\n",
        "            optim.zero_grad()\n",
        "            input_ids = batch['input_ids'].to(device)\n",
        "            attention_mask = batch['attention_mask'].to(device)\n",
        "            labels = batch['labels'].to(device)\n",
        "            outputs = model(input_ids, attention_mask=attention_mask, labels=labels)\n",
        "            loss = outputs.loss\n",
        "            total_loss += loss.item()\n",
        "            loss.backward()\n",
        "            optim.step()\n",
        "            scheduler.step()\n",
        "\n",
        "        avg_train_loss = total_loss / len(train_loader)\n",
        "        print(f\"Fold {fold+1}, Epoch {epoch+1}, Average Training loss: {avg_train_loss}\")\n",
        "\n",
        "        model.eval()\n",
        "        val_loss = 0\n",
        "        for batch in test_loader:\n",
        "            input_ids = batch['input_ids'].to(device)\n",
        "            attention_mask = batch['attention_mask'].to(device)\n",
        "            with torch.no_grad():\n",
        "                outputs = model(input_ids, attention_mask=attention_mask)\n",
        "            logits = outputs.logits\n",
        "            val_loss += torch.nn.functional.cross_entropy(logits, batch['labels'].to(device)).item()\n",
        "\n",
        "        avg_val_loss = val_loss / len(test_loader)\n",
        "        print(f\"Fold {fold+1}, Validation loss: {avg_val_loss}\")\n",
        "\n",
        "    model.eval()\n",
        "    test_preds, test_targets, test_probs = [], [], []\n",
        "    for batch in test_loader:\n",
        "        input_ids = batch['input_ids'].to(device)\n",
        "        attention_mask = batch['attention_mask'].to(device)\n",
        "        with torch.no_grad():\n",
        "            outputs = model(input_ids, attention_mask=attention_mask)\n",
        "        logits = outputs.logits\n",
        "        test_preds.extend(torch.argmax(logits, axis=1).tolist())\n",
        "        test_targets.extend(batch['labels'].tolist())\n",
        "        test_probs.extend(torch.softmax(logits, dim=1)[:, 1].tolist())\n",
        "\n",
        "    fold_accuracy = accuracy_score(test_targets, test_preds)\n",
        "    fold_precision, fold_recall, fold_f1, _ = precision_recall_fscore_support(test_targets, test_preds, average='binary')\n",
        "    fold_auc = roc_auc_score(test_targets, test_probs)\n",
        "    fold_results.append((fold_accuracy, fold_precision, fold_recall, fold_f1, fold_auc))\n",
        "    print(f\"Fold {fold+1} - Accuracy: {fold_accuracy}, Precision: {fold_precision}, Recall: {fold_recall}, F1: {fold_f1}, AUC: {fold_auc}\")\n",
        "\n",
        "# Final Metrics Calculation\n",
        "final_accuracy = np.mean([acc for acc, _, _, _, _ in fold_results])\n",
        "final_precision = np.mean([prec for _, prec, _, _, _ in fold_results])\n",
        "final_recall = np.mean([rec for _, _, rec, _, _ in fold_results])\n",
        "final_f1 = np.mean([f1 for _, _, _, f1, _ in fold_results])\n",
        "final_auc = np.mean([auc for _, _, _, _, auc in fold_results])\n",
        "\n",
        "print(f\"Final Metrics - Accuracy: {final_accuracy}, Precision: {final_precision}, Recall: {final_recall}, F1: {final_f1}, AUC: {final_auc}\")\n",
        "\n",
        "# Confusion Matrix\n",
        "cm = confusion_matrix(test_targets, test_preds)\n",
        "sns.heatmap(cm, annot=True, fmt='d')\n",
        "plt.title('Confusion Matrix')\n",
        "plt.ylabel('Actual Label')\n",
        "plt.xlabel('Predicted Label')\n",
        "plt.show()\n"
      ]
    },
    {
      "cell_type": "code",
      "execution_count": null,
      "metadata": {
        "colab": {
          "base_uri": "https://localhost:8080/",
          "height": 1000
        },
        "id": "eR8zMt2IyIGj",
        "outputId": "df005011-15e3-497f-aa6e-738773a79bac"
      },
      "outputs": [
        {
          "output_type": "stream",
          "name": "stdout",
          "text": [
            "Tesla V100-SXM2-16GB\n",
            "0    939\n",
            "1    300\n",
            "Name: label, dtype: int64\n",
            "Training on fold 1/3\n"
          ]
        },
        {
          "output_type": "stream",
          "name": "stderr",
          "text": [
            "/usr/local/lib/python3.10/dist-packages/transformers/optimization.py:411: FutureWarning: This implementation of AdamW is deprecated and will be removed in a future version. Use the PyTorch implementation torch.optim.AdamW instead, or set `no_deprecation_warning=True` to disable this warning\n",
            "  warnings.warn(\n",
            "100%|██████████| 207/207 [00:26<00:00,  7.79it/s]\n"
          ]
        },
        {
          "output_type": "stream",
          "name": "stdout",
          "text": [
            "Fold 1, Epoch 1, Average Training loss: 0.572569969303654\n",
            "Fold 1, Validation loss: 0.586442116361398\n"
          ]
        },
        {
          "output_type": "stream",
          "name": "stderr",
          "text": [
            "100%|██████████| 207/207 [00:26<00:00,  7.81it/s]\n"
          ]
        },
        {
          "output_type": "stream",
          "name": "stdout",
          "text": [
            "Fold 1, Epoch 2, Average Training loss: 0.41642576609040804\n",
            "Fold 1, Validation loss: 0.15453118005265984\n"
          ]
        },
        {
          "output_type": "stream",
          "name": "stderr",
          "text": [
            "100%|██████████| 207/207 [00:26<00:00,  7.80it/s]\n"
          ]
        },
        {
          "output_type": "stream",
          "name": "stdout",
          "text": [
            "Fold 1, Epoch 3, Average Training loss: 0.2798545147193335\n",
            "Fold 1, Validation loss: 0.06242748830789843\n"
          ]
        },
        {
          "output_type": "stream",
          "name": "stderr",
          "text": [
            "100%|██████████| 207/207 [00:26<00:00,  7.80it/s]\n"
          ]
        },
        {
          "output_type": "stream",
          "name": "stdout",
          "text": [
            "Fold 1, Epoch 4, Average Training loss: 0.02709660879988673\n",
            "Fold 1, Validation loss: 0.005447739298688248\n"
          ]
        },
        {
          "output_type": "stream",
          "name": "stderr",
          "text": [
            "100%|██████████| 207/207 [00:26<00:00,  7.79it/s]\n"
          ]
        },
        {
          "output_type": "stream",
          "name": "stdout",
          "text": [
            "Fold 1, Epoch 5, Average Training loss: 0.010358582017943263\n",
            "Fold 1, Validation loss: 0.0027799545026097735\n"
          ]
        },
        {
          "output_type": "stream",
          "name": "stderr",
          "text": [
            "100%|██████████| 207/207 [00:26<00:00,  7.79it/s]\n"
          ]
        },
        {
          "output_type": "stream",
          "name": "stdout",
          "text": [
            "Fold 1, Epoch 6, Average Training loss: 0.009510132075278403\n",
            "Fold 1, Validation loss: 0.0021791435193825657\n"
          ]
        },
        {
          "output_type": "stream",
          "name": "stderr",
          "text": [
            "100%|██████████| 207/207 [00:26<00:00,  7.80it/s]\n"
          ]
        },
        {
          "output_type": "stream",
          "name": "stdout",
          "text": [
            "Fold 1, Epoch 7, Average Training loss: 0.009913596169964595\n",
            "Fold 1, Validation loss: 0.0016982985085073428\n"
          ]
        },
        {
          "output_type": "stream",
          "name": "stderr",
          "text": [
            "100%|██████████| 207/207 [00:26<00:00,  7.80it/s]\n"
          ]
        },
        {
          "output_type": "stream",
          "name": "stdout",
          "text": [
            "Fold 1, Epoch 8, Average Training loss: 0.009661565508900417\n",
            "Fold 1, Validation loss: 0.0014199683265850092\n"
          ]
        },
        {
          "output_type": "stream",
          "name": "stderr",
          "text": [
            "100%|██████████| 207/207 [00:26<00:00,  7.79it/s]\n"
          ]
        },
        {
          "output_type": "stream",
          "name": "stdout",
          "text": [
            "Fold 1, Epoch 9, Average Training loss: 0.009198492172158408\n",
            "Fold 1, Validation loss: 0.0012547783687925683\n"
          ]
        },
        {
          "output_type": "stream",
          "name": "stderr",
          "text": [
            "100%|██████████| 207/207 [00:26<00:00,  7.80it/s]\n"
          ]
        },
        {
          "output_type": "stream",
          "name": "stdout",
          "text": [
            "Fold 1, Epoch 10, Average Training loss: 0.009984406562474813\n",
            "Fold 1, Validation loss: 0.0013150152371963486\n",
            "Fold 1 - Accuracy: 1.0, Precision: 1.0, Recall: 1.0, F1: 1.0\n",
            "Training on fold 2/3\n"
          ]
        },
        {
          "output_type": "stream",
          "name": "stderr",
          "text": [
            "/usr/local/lib/python3.10/dist-packages/transformers/optimization.py:411: FutureWarning: This implementation of AdamW is deprecated and will be removed in a future version. Use the PyTorch implementation torch.optim.AdamW instead, or set `no_deprecation_warning=True` to disable this warning\n",
            "  warnings.warn(\n",
            "100%|██████████| 207/207 [00:26<00:00,  7.77it/s]\n"
          ]
        },
        {
          "output_type": "stream",
          "name": "stdout",
          "text": [
            "Fold 2, Epoch 1, Average Training loss: 0.5754451143424868\n",
            "Fold 2, Validation loss: 0.5701550935896543\n"
          ]
        },
        {
          "output_type": "stream",
          "name": "stderr",
          "text": [
            "100%|██████████| 207/207 [00:26<00:00,  7.77it/s]\n"
          ]
        },
        {
          "output_type": "stream",
          "name": "stdout",
          "text": [
            "Fold 2, Epoch 2, Average Training loss: 0.4550980703392323\n",
            "Fold 2, Validation loss: 0.17189265545815802\n"
          ]
        },
        {
          "output_type": "stream",
          "name": "stderr",
          "text": [
            "100%|██████████| 207/207 [00:26<00:00,  7.77it/s]\n"
          ]
        },
        {
          "output_type": "stream",
          "name": "stdout",
          "text": [
            "Fold 2, Epoch 3, Average Training loss: 0.03834515048757843\n",
            "Fold 2, Validation loss: 0.018343368095184606\n"
          ]
        },
        {
          "output_type": "stream",
          "name": "stderr",
          "text": [
            "100%|██████████| 207/207 [00:26<00:00,  7.78it/s]\n"
          ]
        },
        {
          "output_type": "stream",
          "name": "stdout",
          "text": [
            "Fold 2, Epoch 4, Average Training loss: 0.0026836270277482877\n",
            "Fold 2, Validation loss: 0.017872621270586163\n"
          ]
        },
        {
          "output_type": "stream",
          "name": "stderr",
          "text": [
            "100%|██████████| 207/207 [00:26<00:00,  7.77it/s]\n"
          ]
        },
        {
          "output_type": "stream",
          "name": "stdout",
          "text": [
            "Fold 2, Epoch 5, Average Training loss: 0.0014931558921555247\n",
            "Fold 2, Validation loss: 0.018253766590183098\n"
          ]
        },
        {
          "output_type": "stream",
          "name": "stderr",
          "text": [
            "100%|██████████| 207/207 [00:26<00:00,  7.75it/s]\n"
          ]
        },
        {
          "output_type": "stream",
          "name": "stdout",
          "text": [
            "Fold 2, Epoch 6, Average Training loss: 0.0009852242793838362\n",
            "Fold 2, Validation loss: 0.018689553082647484\n"
          ]
        },
        {
          "output_type": "stream",
          "name": "stderr",
          "text": [
            "100%|██████████| 207/207 [00:26<00:00,  7.77it/s]\n"
          ]
        },
        {
          "output_type": "stream",
          "name": "stdout",
          "text": [
            "Fold 2, Epoch 7, Average Training loss: 0.0007409597876378231\n",
            "Fold 2, Validation loss: 0.019119503998249108\n"
          ]
        },
        {
          "output_type": "stream",
          "name": "stderr",
          "text": [
            "100%|██████████| 207/207 [00:26<00:00,  7.77it/s]\n"
          ]
        },
        {
          "output_type": "stream",
          "name": "stdout",
          "text": [
            "Fold 2, Epoch 8, Average Training loss: 0.000579030688425778\n",
            "Fold 2, Validation loss: 0.019531209547914423\n"
          ]
        },
        {
          "output_type": "stream",
          "name": "stderr",
          "text": [
            "100%|██████████| 207/207 [00:26<00:00,  7.77it/s]\n"
          ]
        },
        {
          "output_type": "stream",
          "name": "stdout",
          "text": [
            "Fold 2, Epoch 9, Average Training loss: 0.00045855252416961904\n",
            "Fold 2, Validation loss: 0.019917538390403094\n"
          ]
        },
        {
          "output_type": "stream",
          "name": "stderr",
          "text": [
            "100%|██████████| 207/207 [00:26<00:00,  7.78it/s]\n"
          ]
        },
        {
          "output_type": "stream",
          "name": "stdout",
          "text": [
            "Fold 2, Epoch 10, Average Training loss: 0.00037638648654388237\n",
            "Fold 2, Validation loss: 0.020283489324356196\n",
            "Fold 2 - Accuracy: 0.9975786924939467, Precision: 1.0, Recall: 0.99, F1: 0.9949748743718593\n",
            "Training on fold 3/3\n"
          ]
        },
        {
          "output_type": "stream",
          "name": "stderr",
          "text": [
            "/usr/local/lib/python3.10/dist-packages/transformers/optimization.py:411: FutureWarning: This implementation of AdamW is deprecated and will be removed in a future version. Use the PyTorch implementation torch.optim.AdamW instead, or set `no_deprecation_warning=True` to disable this warning\n",
            "  warnings.warn(\n",
            "100%|██████████| 207/207 [00:26<00:00,  7.79it/s]\n"
          ]
        },
        {
          "output_type": "stream",
          "name": "stdout",
          "text": [
            "Fold 3, Epoch 1, Average Training loss: 0.5739274039360636\n",
            "Fold 3, Validation loss: 0.5385244865543567\n"
          ]
        },
        {
          "output_type": "stream",
          "name": "stderr",
          "text": [
            "100%|██████████| 207/207 [00:26<00:00,  7.79it/s]\n"
          ]
        },
        {
          "output_type": "stream",
          "name": "stdout",
          "text": [
            "Fold 3, Epoch 2, Average Training loss: 0.3236737109198806\n",
            "Fold 3, Validation loss: 0.09505688671309215\n"
          ]
        },
        {
          "output_type": "stream",
          "name": "stderr",
          "text": [
            "100%|██████████| 207/207 [00:26<00:00,  7.79it/s]\n"
          ]
        },
        {
          "output_type": "stream",
          "name": "stdout",
          "text": [
            "Fold 3, Epoch 3, Average Training loss: 0.07698451066254705\n",
            "Fold 3, Validation loss: 0.009985300410055341\n"
          ]
        },
        {
          "output_type": "stream",
          "name": "stderr",
          "text": [
            "100%|██████████| 207/207 [00:26<00:00,  7.79it/s]\n"
          ]
        },
        {
          "output_type": "stream",
          "name": "stdout",
          "text": [
            "Fold 3, Epoch 4, Average Training loss: 0.01267393456225324\n",
            "Fold 3, Validation loss: 0.0032524094948222716\n"
          ]
        },
        {
          "output_type": "stream",
          "name": "stderr",
          "text": [
            "100%|██████████| 207/207 [00:26<00:00,  7.79it/s]\n"
          ]
        },
        {
          "output_type": "stream",
          "name": "stdout",
          "text": [
            "Fold 3, Epoch 5, Average Training loss: 0.010049343393701646\n",
            "Fold 3, Validation loss: 0.0023082372633955227\n"
          ]
        },
        {
          "output_type": "stream",
          "name": "stderr",
          "text": [
            "100%|██████████| 207/207 [00:26<00:00,  7.79it/s]\n"
          ]
        },
        {
          "output_type": "stream",
          "name": "stdout",
          "text": [
            "Fold 3, Epoch 6, Average Training loss: 0.010276395546335386\n",
            "Fold 3, Validation loss: 0.0018570692817985008\n"
          ]
        },
        {
          "output_type": "stream",
          "name": "stderr",
          "text": [
            "100%|██████████| 207/207 [00:26<00:00,  7.79it/s]\n"
          ]
        },
        {
          "output_type": "stream",
          "name": "stdout",
          "text": [
            "Fold 3, Epoch 7, Average Training loss: 0.009383953768919685\n",
            "Fold 3, Validation loss: 0.0017720794958922153\n"
          ]
        },
        {
          "output_type": "stream",
          "name": "stderr",
          "text": [
            "100%|██████████| 207/207 [00:26<00:00,  7.79it/s]\n"
          ]
        },
        {
          "output_type": "stream",
          "name": "stdout",
          "text": [
            "Fold 3, Epoch 8, Average Training loss: 0.010399797010114011\n",
            "Fold 3, Validation loss: 0.0015629240034076457\n"
          ]
        },
        {
          "output_type": "stream",
          "name": "stderr",
          "text": [
            "100%|██████████| 207/207 [00:26<00:00,  7.79it/s]\n"
          ]
        },
        {
          "output_type": "stream",
          "name": "stdout",
          "text": [
            "Fold 3, Epoch 9, Average Training loss: 0.010111944351214826\n",
            "Fold 3, Validation loss: 0.0015576510016287032\n"
          ]
        },
        {
          "output_type": "stream",
          "name": "stderr",
          "text": [
            "100%|██████████| 207/207 [00:26<00:00,  7.79it/s]\n"
          ]
        },
        {
          "output_type": "stream",
          "name": "stdout",
          "text": [
            "Fold 3, Epoch 10, Average Training loss: 0.010263661379871917\n",
            "Fold 3, Validation loss: 0.0016457778894199203\n",
            "Fold 3 - Accuracy: 1.0, Precision: 1.0, Recall: 1.0, F1: 1.0\n",
            "Overall results for Fold 1: Accuracy: 1.0, Precision: 1.0, Recall: 1.0, F1: 1.0\n",
            "Overall results for Fold 2: Accuracy: 0.9975786924939467, Precision: 1.0, Recall: 0.99, F1: 0.9949748743718593\n",
            "Overall results for Fold 3: Accuracy: 1.0, Precision: 1.0, Recall: 1.0, F1: 1.0\n"
          ]
        },
        {
          "output_type": "error",
          "ename": "ValueError",
          "evalue": "ignored",
          "traceback": [
            "\u001b[0;31m---------------------------------------------------------------------------\u001b[0m",
            "\u001b[0;31mValueError\u001b[0m                                Traceback (most recent call last)",
            "\u001b[0;32m<ipython-input-12-e67c1af5a500>\u001b[0m in \u001b[0;36m<cell line: 149>\u001b[0;34m()\u001b[0m\n\u001b[1;32m    147\u001b[0m \u001b[0;34m\u001b[0m\u001b[0m\n\u001b[1;32m    148\u001b[0m \u001b[0;31m# Final Metrics Calculation\u001b[0m\u001b[0;34m\u001b[0m\u001b[0;34m\u001b[0m\u001b[0m\n\u001b[0;32m--> 149\u001b[0;31m \u001b[0mfinal_accuracy\u001b[0m \u001b[0;34m=\u001b[0m \u001b[0mnp\u001b[0m\u001b[0;34m.\u001b[0m\u001b[0mmean\u001b[0m\u001b[0;34m(\u001b[0m\u001b[0;34m[\u001b[0m\u001b[0macc\u001b[0m \u001b[0;32mfor\u001b[0m \u001b[0macc\u001b[0m\u001b[0;34m,\u001b[0m \u001b[0m_\u001b[0m\u001b[0;34m,\u001b[0m \u001b[0m_\u001b[0m\u001b[0;34m,\u001b[0m \u001b[0m_\u001b[0m\u001b[0;34m,\u001b[0m \u001b[0m_\u001b[0m \u001b[0;32min\u001b[0m \u001b[0mfold_results\u001b[0m\u001b[0;34m]\u001b[0m\u001b[0;34m)\u001b[0m\u001b[0;34m\u001b[0m\u001b[0;34m\u001b[0m\u001b[0m\n\u001b[0m\u001b[1;32m    150\u001b[0m \u001b[0mfinal_precision\u001b[0m \u001b[0;34m=\u001b[0m \u001b[0mnp\u001b[0m\u001b[0;34m.\u001b[0m\u001b[0mmean\u001b[0m\u001b[0;34m(\u001b[0m\u001b[0;34m[\u001b[0m\u001b[0mprec\u001b[0m \u001b[0;32mfor\u001b[0m \u001b[0m_\u001b[0m\u001b[0;34m,\u001b[0m \u001b[0mprec\u001b[0m\u001b[0;34m,\u001b[0m \u001b[0m_\u001b[0m\u001b[0;34m,\u001b[0m \u001b[0m_\u001b[0m\u001b[0;34m,\u001b[0m \u001b[0m_\u001b[0m \u001b[0;32min\u001b[0m \u001b[0mfold_results\u001b[0m\u001b[0;34m]\u001b[0m\u001b[0;34m)\u001b[0m\u001b[0;34m\u001b[0m\u001b[0;34m\u001b[0m\u001b[0m\n\u001b[1;32m    151\u001b[0m \u001b[0mfinal_recall\u001b[0m \u001b[0;34m=\u001b[0m \u001b[0mnp\u001b[0m\u001b[0;34m.\u001b[0m\u001b[0mmean\u001b[0m\u001b[0;34m(\u001b[0m\u001b[0;34m[\u001b[0m\u001b[0mrec\u001b[0m \u001b[0;32mfor\u001b[0m \u001b[0m_\u001b[0m\u001b[0;34m,\u001b[0m \u001b[0m_\u001b[0m\u001b[0;34m,\u001b[0m \u001b[0mrec\u001b[0m\u001b[0;34m,\u001b[0m \u001b[0m_\u001b[0m\u001b[0;34m,\u001b[0m \u001b[0m_\u001b[0m \u001b[0;32min\u001b[0m \u001b[0mfold_results\u001b[0m\u001b[0;34m]\u001b[0m\u001b[0;34m)\u001b[0m\u001b[0;34m\u001b[0m\u001b[0;34m\u001b[0m\u001b[0m\n",
            "\u001b[0;32m<ipython-input-12-e67c1af5a500>\u001b[0m in \u001b[0;36m<listcomp>\u001b[0;34m(.0)\u001b[0m\n\u001b[1;32m    147\u001b[0m \u001b[0;34m\u001b[0m\u001b[0m\n\u001b[1;32m    148\u001b[0m \u001b[0;31m# Final Metrics Calculation\u001b[0m\u001b[0;34m\u001b[0m\u001b[0;34m\u001b[0m\u001b[0m\n\u001b[0;32m--> 149\u001b[0;31m \u001b[0mfinal_accuracy\u001b[0m \u001b[0;34m=\u001b[0m \u001b[0mnp\u001b[0m\u001b[0;34m.\u001b[0m\u001b[0mmean\u001b[0m\u001b[0;34m(\u001b[0m\u001b[0;34m[\u001b[0m\u001b[0macc\u001b[0m \u001b[0;32mfor\u001b[0m \u001b[0macc\u001b[0m\u001b[0;34m,\u001b[0m \u001b[0m_\u001b[0m\u001b[0;34m,\u001b[0m \u001b[0m_\u001b[0m\u001b[0;34m,\u001b[0m \u001b[0m_\u001b[0m\u001b[0;34m,\u001b[0m \u001b[0m_\u001b[0m \u001b[0;32min\u001b[0m \u001b[0mfold_results\u001b[0m\u001b[0;34m]\u001b[0m\u001b[0;34m)\u001b[0m\u001b[0;34m\u001b[0m\u001b[0;34m\u001b[0m\u001b[0m\n\u001b[0m\u001b[1;32m    150\u001b[0m \u001b[0mfinal_precision\u001b[0m \u001b[0;34m=\u001b[0m \u001b[0mnp\u001b[0m\u001b[0;34m.\u001b[0m\u001b[0mmean\u001b[0m\u001b[0;34m(\u001b[0m\u001b[0;34m[\u001b[0m\u001b[0mprec\u001b[0m \u001b[0;32mfor\u001b[0m \u001b[0m_\u001b[0m\u001b[0;34m,\u001b[0m \u001b[0mprec\u001b[0m\u001b[0;34m,\u001b[0m \u001b[0m_\u001b[0m\u001b[0;34m,\u001b[0m \u001b[0m_\u001b[0m\u001b[0;34m,\u001b[0m \u001b[0m_\u001b[0m \u001b[0;32min\u001b[0m \u001b[0mfold_results\u001b[0m\u001b[0;34m]\u001b[0m\u001b[0;34m)\u001b[0m\u001b[0;34m\u001b[0m\u001b[0;34m\u001b[0m\u001b[0m\n\u001b[1;32m    151\u001b[0m \u001b[0mfinal_recall\u001b[0m \u001b[0;34m=\u001b[0m \u001b[0mnp\u001b[0m\u001b[0;34m.\u001b[0m\u001b[0mmean\u001b[0m\u001b[0;34m(\u001b[0m\u001b[0;34m[\u001b[0m\u001b[0mrec\u001b[0m \u001b[0;32mfor\u001b[0m \u001b[0m_\u001b[0m\u001b[0;34m,\u001b[0m \u001b[0m_\u001b[0m\u001b[0;34m,\u001b[0m \u001b[0mrec\u001b[0m\u001b[0;34m,\u001b[0m \u001b[0m_\u001b[0m\u001b[0;34m,\u001b[0m \u001b[0m_\u001b[0m \u001b[0;32min\u001b[0m \u001b[0mfold_results\u001b[0m\u001b[0;34m]\u001b[0m\u001b[0;34m)\u001b[0m\u001b[0;34m\u001b[0m\u001b[0;34m\u001b[0m\u001b[0m\n",
            "\u001b[0;31mValueError\u001b[0m: not enough values to unpack (expected 5, got 4)"
          ]
        }
      ],
      "source": [
        "#ALBERT\n",
        "\n",
        "import pandas as pd\n",
        "import torch\n",
        "from torch.utils.data import DataLoader, Dataset\n",
        "import sentencepiece\n",
        "from transformers import AlbertTokenizer, AlbertForSequenceClassification, AlbertConfig, AdamW\n",
        "from sklearn.metrics import accuracy_score, precision_recall_fscore_support\n",
        "from sklearn.model_selection import StratifiedKFold\n",
        "from tqdm import tqdm\n",
        "\n",
        "device = torch.device('cuda' if torch.cuda.is_available() else 'cpu')\n",
        "if device.type == 'cuda':\n",
        "    print(torch.cuda.get_device_name(0))\n",
        "\n",
        "# Load and preprocess your data\n",
        "all_data['label'] = all_data['dropshipped'].map({'Dropshipped': 1, 'Not Dropshipped': 0})\n",
        "all_data.dropna(subset=['data'], inplace=True)\n",
        "all_data['data'] = all_data['data'].astype(str)\n",
        "\n",
        "all_data['label'] = all_data['dropshipped'].map({'Dropshipped': 1, 'Not Dropshipped': 0})\n",
        "all_data.dropna(subset=['data'], inplace=True)\n",
        "all_data['data'] = all_data['data'].astype(str)\n",
        "\n",
        "# Balance the dataset to 60% non-dropshipped and 40% dropshipped\n",
        "class_0 = all_data[all_data['label'] == 0]\n",
        "class_1 = all_data[all_data['label'] == 1]\n",
        "\n",
        "# Calculate sample sizes based on desired proportions\n",
        "total_sample_size = len(all_data)\n",
        "sample_size_class_0 = int(total_sample_size * 0.6)  # 60% non-dropshipped\n",
        "sample_size_class_1 = int(total_sample_size * 0.4)  # 40% dropshipped\n",
        "\n",
        "# Ensure sample sizes do not exceed the available data in each class\n",
        "sample_size_class_0 = min(sample_size_class_0, len(class_0))\n",
        "sample_size_class_1 = min(sample_size_class_1, len(class_1))\n",
        "\n",
        "# Sample it\n",
        "balanced_data = pd.concat([class_0.sample(sample_size_class_0, random_state=42),\n",
        "                           class_1.sample(sample_size_class_1, random_state=42)])\n",
        "balanced_data = balanced_data.sample(frac=1, random_state=29).reset_index(drop=True)\n",
        "all_data = balanced_data\n",
        "\n",
        "all_data['label'] = all_data['dropshipped'].map({'Dropshipped': 1, 'Not Dropshipped': 0})\n",
        "print(all_data['label'].value_counts())\n",
        "\n",
        "all_data.dropna(subset=['data'], inplace=True)\n",
        "all_data['data'] = all_data['data'].astype(str)\n",
        "\n",
        "# Using Albert Base Version\n",
        "tokenizer = AlbertTokenizer.from_pretrained('albert-base-v2')\n",
        "\n",
        "class TextDataset(Dataset):\n",
        "    def __init__(self, encodings, labels):\n",
        "        self.encodings = encodings\n",
        "        self.labels = labels\n",
        "\n",
        "    def __getitem__(self, idx):\n",
        "        item = {key: torch.tensor(val[idx]) for key, val in self.encodings.items()}\n",
        "        item['labels'] = torch.tensor(self.labels[idx])\n",
        "        return item\n",
        "\n",
        "    def __len__(self):\n",
        "        return len(self.labels)\n",
        "\n",
        "\n",
        "skf = StratifiedKFold(n_splits=3)\n",
        "fold_results = []\n",
        "\n",
        "for fold, (train_idx, test_idx) in enumerate(skf.split(all_data, all_data['label'])):\n",
        "    print(f\"Training on fold {fold+1}/{skf.n_splits}\")\n",
        "\n",
        "    train_data = all_data.iloc[train_idx]\n",
        "    test_data = all_data.iloc[test_idx]\n",
        "\n",
        "    train_encodings = tokenizer(train_data['data'].to_list(), truncation=True, padding=True)\n",
        "    test_encodings = tokenizer(test_data['data'].to_list(), truncation=True, padding=True)\n",
        "\n",
        "    train_dataset = TextDataset(train_encodings, train_data['label'].tolist())\n",
        "    test_dataset = TextDataset(test_encodings, test_data['label'].tolist())\n",
        "\n",
        "    train_loader = DataLoader(train_dataset, batch_size=4, shuffle=True)\n",
        "    test_loader = DataLoader(test_dataset, batch_size=4, shuffle=False)\n",
        "\n",
        "    config = AlbertConfig.from_pretrained('albert-base-v2', num_labels=2)\n",
        "    config.classifier_dropout_prob = 0.4\n",
        "    model = AlbertForSequenceClassification(config)\n",
        "    model.to(device)\n",
        "\n",
        "    optim = AdamW(model.parameters(), lr=1e-5, weight_decay=0.05)\n",
        "\n",
        "    early_stopping_patience = 2\n",
        "    best_val_loss = float('inf')\n",
        "\n",
        "    for epoch in range(10):  # Number of epochs\n",
        "        model.train()\n",
        "        total_loss = 0\n",
        "        for batch in tqdm(train_loader):\n",
        "            optim.zero_grad()\n",
        "            input_ids = batch['input_ids'].to(device)\n",
        "            attention_mask = batch['attention_mask'].to(device)\n",
        "            labels = batch['labels'].to(device)\n",
        "            outputs = model(input_ids, attention_mask=attention_mask, labels=labels)\n",
        "            loss = outputs.loss\n",
        "            total_loss += loss.item()\n",
        "            loss.backward()\n",
        "            optim.step()\n",
        "\n",
        "        avg_train_loss = total_loss / len(train_loader)\n",
        "        print(f\"Fold {fold+1}, Epoch {epoch+1}, Average Training loss: {avg_train_loss}\")\n",
        "\n",
        "        model.eval()\n",
        "        val_loss = 0\n",
        "        for batch in test_loader:\n",
        "            input_ids = batch['input_ids'].to(device)\n",
        "            attention_mask = batch['attention_mask'].to(device)\n",
        "            with torch.no_grad():\n",
        "                outputs = model(input_ids, attention_mask=attention_mask)\n",
        "            logits = outputs.logits\n",
        "            val_loss += torch.nn.functional.cross_entropy(logits, batch['labels'].to(device)).item()\n",
        "\n",
        "        avg_val_loss = val_loss / len(test_loader)\n",
        "        print(f\"Fold {fold+1}, Validation loss: {avg_val_loss}\")\n",
        "\n",
        "        best_val_loss = avg_val_loss\n",
        "        early_stopping_counter = 0\n",
        "\n",
        "    model.eval()\n",
        "    test_preds, test_targets = [], []\n",
        "    for batch in test_loader:\n",
        "        input_ids = batch['input_ids'].to(device)\n",
        "        attention_mask = batch['attention_mask'].to(device)\n",
        "        with torch.no_grad():\n",
        "            outputs = model(input_ids, attention_mask=attention_mask)\n",
        "        logits = outputs.logits\n",
        "        test_preds.extend(torch.argmax(logits, axis=1).tolist())\n",
        "        test_targets.extend(batch['labels'].tolist())\n",
        "\n",
        "    fold_accuracy = accuracy_score(test_targets, test_preds)\n",
        "    fold_precision, fold_recall, fold_f1, _ = precision_recall_fscore_support(test_targets, test_preds, average='binary')\n",
        "    fold_results.append((fold_accuracy, fold_precision, fold_recall, fold_f1))\n",
        "    print(f\"Fold {fold+1} - Accuracy: {fold_accuracy}, Precision: {fold_precision}, Recall: {fold_recall}, F1: {fold_f1}\")\n",
        "\n",
        "for i, (accuracy, precision, recall, f1) in enumerate(fold_results):\n",
        "    print(f\"Overall results for Fold {i+1}: Accuracy: {accuracy}, Precision: {precision}, Recall: {recall}, F1: {f1}\")\n",
        "\n",
        "# Final Metrics Calculation\n",
        "final_accuracy = np.mean([acc for acc, _, _, _ in fold_results])\n",
        "final_precision = np.mean([prec for _, prec, _, _ in fold_results])\n",
        "final_recall = np.mean([rec for _, _, rec, _ in fold_results])\n",
        "final_f1 = np.mean([f1 for _, _, _, f1 in fold_results])\n",
        "# final_auc = np.mean([auc for _, _, _, _, auc in fold_results])\n",
        "\n",
        "print(f\"Final Metrics - Accuracy: {final_accuracy}, Precision: {final_precision}, Recall: {final_recall}, F1: {final_f1}\")\n",
        "\n",
        "# Confusion Matrix\n",
        "cm = confusion_matrix(test_targets, test_preds)\n",
        "sns.heatmap(cm, annot=True, fmt='d')\n",
        "plt.title('Confusion Matrix')\n",
        "plt.ylabel('Actual Label')\n",
        "plt.xlabel('Predicted Label')\n",
        "plt.show()"
      ]
    },
    {
      "cell_type": "code",
      "source": [
        "# Final Metrics Calculation\n",
        "final_accuracy = np.mean([acc for acc, _, _, _ in fold_results])\n",
        "final_precision = np.mean([prec for _, prec, _, _ in fold_results])\n",
        "final_recall = np.mean([rec for _, _, rec, _ in fold_results])\n",
        "final_f1 = np.mean([f1 for _, _, _, f1 in fold_results])\n",
        "# final_auc = np.mean([auc for _, _, _, _, auc in fold_results])\n",
        "\n",
        "print(f\"Final Metrics - Accuracy: {final_accuracy}, Precision: {final_precision}, Recall: {final_recall}, F1: {final_f1}\")\n",
        "\n",
        "# Confusion Matrix\n",
        "cm = confusion_matrix(test_targets, test_preds)\n",
        "sns.heatmap(cm, annot=True, fmt='d')\n",
        "plt.title('Confusion Matrix')\n",
        "plt.ylabel('Actual Label')\n",
        "plt.xlabel('Predicted Label')\n",
        "plt.show()"
      ],
      "metadata": {
        "colab": {
          "base_uri": "https://localhost:8080/",
          "height": 743
        },
        "id": "k8_lrwcs7E-q",
        "outputId": "8f7329f6-c0ad-4b39-cacf-47ca8e846d07"
      },
      "execution_count": null,
      "outputs": [
        {
          "output_type": "stream",
          "name": "stdout",
          "text": [
            "Final Metrics - Accuracy: 0.9991928974979821, Precision: 1.0, Recall: 0.9966666666666667, F1: 0.9983249581239532\n"
          ]
        },
        {
          "output_type": "display_data",
          "data": {
            "text/plain": [
              "<Figure size 640x480 with 2 Axes>"
            ],
            "image/png": "[encoded data removed]"
          },
          "metadata": {}
        },
        {
          "output_type": "error",
          "ename": "NameError",
          "evalue": "ignored",
          "traceback": [
            "\u001b[0;31m---------------------------------------------------------------------------\u001b[0m",
            "\u001b[0;31mNameError\u001b[0m                                 Traceback (most recent call last)",
            "\u001b[0;32m<ipython-input-13-86d85701405c>\u001b[0m in \u001b[0;36m<cell line: 18>\u001b[0;34m()\u001b[0m\n\u001b[1;32m     16\u001b[0m \u001b[0mplt\u001b[0m\u001b[0;34m.\u001b[0m\u001b[0mshow\u001b[0m\u001b[0;34m(\u001b[0m\u001b[0;34m)\u001b[0m\u001b[0;34m\u001b[0m\u001b[0;34m\u001b[0m\u001b[0m\n\u001b[1;32m     17\u001b[0m \u001b[0;31m# ROC Curve\u001b[0m\u001b[0;34m\u001b[0m\u001b[0;34m\u001b[0m\u001b[0m\n\u001b[0;32m---> 18\u001b[0;31m \u001b[0mfpr\u001b[0m\u001b[0;34m,\u001b[0m \u001b[0mtpr\u001b[0m\u001b[0;34m,\u001b[0m \u001b[0mthresholds\u001b[0m \u001b[0;34m=\u001b[0m \u001b[0mroc_curve\u001b[0m\u001b[0;34m(\u001b[0m\u001b[0mtest_targets\u001b[0m\u001b[0;34m,\u001b[0m \u001b[0mtest_preds\u001b[0m\u001b[0;34m)\u001b[0m\u001b[0;34m\u001b[0m\u001b[0;34m\u001b[0m\u001b[0m\n\u001b[0m\u001b[1;32m     19\u001b[0m \u001b[0mplt\u001b[0m\u001b[0;34m.\u001b[0m\u001b[0mplot\u001b[0m\u001b[0;34m(\u001b[0m\u001b[0mfpr\u001b[0m\u001b[0;34m,\u001b[0m \u001b[0mtpr\u001b[0m\u001b[0;34m)\u001b[0m\u001b[0;34m\u001b[0m\u001b[0;34m\u001b[0m\u001b[0m\n\u001b[1;32m     20\u001b[0m \u001b[0mplt\u001b[0m\u001b[0;34m.\u001b[0m\u001b[0mshow\u001b[0m\u001b[0;34m(\u001b[0m\u001b[0;34m)\u001b[0m\u001b[0;34m\u001b[0m\u001b[0;34m\u001b[0m\u001b[0m\n",
            "\u001b[0;31mNameError\u001b[0m: name 'roc_curve' is not defined"
          ]
        }
      ]
    },
    {
      "cell_type": "code",
      "execution_count": null,
      "metadata": {
        "id": "lcIrOfg_XNCy",
        "colab": {
          "base_uri": "https://localhost:8080/"
        },
        "outputId": "b8153561-3331-4480-aa0b-6118b85f46fe"
      },
      "outputs": [
        {
          "output_type": "stream",
          "name": "stdout",
          "text": [
            "                                                data  dropshipped source\n",
            "0  your cart no product cart skip content home ho...  Dropshipped  mixed\n",
            "1  your cart no product cart skip content home ho...  Dropshipped  mixed\n",
            "2  your cart no product cart skip content home ho...  Dropshipped  mixed\n",
            "3  your cart no product cart skip content home ho...  Dropshipped  mixed\n",
            "4  your cart no product cart skip content home ho...  Dropshipped  mixed\n",
            "Accuracy: 0.5867418899858956, Precision: 1.0, Recall: 0.5867418899858956, F1: 0.7395555555555555\n"
          ]
        }
      ],
      "source": [
        "import pandas as pd\n",
        "import torch\n",
        "from sklearn.metrics import accuracy_score, precision_recall_fscore_support\n",
        "\n",
        "\n",
        "data = combined_dataframes['mixed']\n",
        "\n",
        "# Display the first few rows of the modified DataFrame\n",
        "print(data.head())\n",
        "\n",
        "# Preprocess the data\n",
        "texts = data['data'].tolist()  # Accessing the text data from the 'data' column\n",
        "encodings = tokenizer(texts, truncation=True, padding=True, return_tensors=\"pt\")\n",
        "\n",
        "batch_size = 8  # Adjust this based on your GPU capacity\n",
        "num_batches = len(data) // batch_size + (0 if len(data) % batch_size == 0 else 1)\n",
        "predictions = []\n",
        "\n",
        "for i in range(num_batches):\n",
        "    batch_texts = data['data'][i * batch_size:(i + 1) * batch_size].tolist()\n",
        "    encodings = tokenizer(batch_texts, truncation=True, padding=True, return_tensors=\"pt\")\n",
        "\n",
        "    # Move encodings to the device\n",
        "    input_ids = encodings['input_ids'].to(device)\n",
        "    attention_mask = encodings['attention_mask'].to(device)\n",
        "\n",
        "    # Run predictions\n",
        "    model.eval()\n",
        "    with torch.no_grad():\n",
        "        batch_outputs = model(input_ids, attention_mask=attention_mask)\n",
        "    batch_predictions = torch.argmax(batch_outputs.logits, dim=1)\n",
        "    predictions.extend(batch_predictions.cpu().numpy())\n",
        "\n",
        "predictions = torch.tensor(predictions)\n",
        "true_labels = torch.ones(len(data), dtype=torch.long)\n",
        "\n",
        "# Calculate evaluation metrics\n",
        "accuracy = accuracy_score(true_labels.numpy(), predictions.numpy())\n",
        "precision, recall, f1, _ = precision_recall_fscore_support(true_labels.numpy(), predictions.numpy(), average='binary')\n",
        "\n",
        "print(f\"Accuracy: {accuracy}, Precision: {precision}, Recall: {recall}, F1: {f1}\")"
      ]
    },
    {
      "cell_type": "code",
      "execution_count": null,
      "metadata": {
        "colab": {
          "base_uri": "https://localhost:8080/"
        },
        "id": "bjxr7emlhOCe",
        "outputId": "8911397f-aaa9-4788-d8a3-3084139c8baa"
      },
      "outputs": [
        {
          "output_type": "stream",
          "name": "stdout",
          "text": [
            "Tesla V100-SXM2-16GB\n",
            "Training and evaluating on dataset: LightSabers\n"
          ]
        },
        {
          "output_type": "stream",
          "name": "stderr",
          "text": [
            "/usr/local/lib/python3.10/dist-packages/transformers/optimization.py:411: FutureWarning: This implementation of AdamW is deprecated and will be removed in a future version. Use the PyTorch implementation torch.optim.AdamW instead, or set `no_deprecation_warning=True` to disable this warning\n",
            "  warnings.warn(\n",
            "100%|██████████| 107/107 [00:13<00:00,  7.77it/s]\n"
          ]
        },
        {
          "output_type": "stream",
          "name": "stdout",
          "text": [
            "Fold 1, Epoch 1, Average Training loss: 0.4476028368851849\n",
            "Fold 1, Validation loss: 0.43863814020598374\n"
          ]
        },
        {
          "output_type": "stream",
          "name": "stderr",
          "text": [
            "100%|██████████| 107/107 [00:13<00:00,  7.80it/s]\n"
          ]
        },
        {
          "output_type": "stream",
          "name": "stdout",
          "text": [
            "Fold 1, Epoch 2, Average Training loss: 0.45133988433909195\n",
            "Fold 1, Validation loss: 0.33055266793127414\n"
          ]
        },
        {
          "output_type": "stream",
          "name": "stderr",
          "text": [
            "100%|██████████| 107/107 [00:13<00:00,  7.80it/s]\n"
          ]
        },
        {
          "output_type": "stream",
          "name": "stdout",
          "text": [
            "Fold 1, Epoch 3, Average Training loss: 0.16929058521707482\n",
            "Fold 1, Validation loss: 0.1264893131037415\n"
          ]
        },
        {
          "output_type": "stream",
          "name": "stderr",
          "text": [
            "100%|██████████| 107/107 [00:13<00:00,  7.79it/s]\n"
          ]
        },
        {
          "output_type": "stream",
          "name": "stdout",
          "text": [
            "Fold 1, Epoch 4, Average Training loss: 0.0590723862297067\n",
            "Fold 1, Validation loss: 0.06260808149387163\n"
          ]
        },
        {
          "output_type": "stream",
          "name": "stderr",
          "text": [
            "100%|██████████| 107/107 [00:13<00:00,  7.80it/s]\n"
          ]
        },
        {
          "output_type": "stream",
          "name": "stdout",
          "text": [
            "Fold 1, Epoch 5, Average Training loss: 0.11387072378447471\n",
            "Fold 1, Validation loss: 0.0698504849785456\n"
          ]
        },
        {
          "output_type": "stream",
          "name": "stderr",
          "text": [
            "100%|██████████| 107/107 [00:13<00:00,  7.80it/s]\n"
          ]
        },
        {
          "output_type": "stream",
          "name": "stdout",
          "text": [
            "Fold 1, Epoch 6, Average Training loss: 0.016484468972971924\n",
            "Fold 1, Validation loss: 0.04166583844495041\n"
          ]
        },
        {
          "output_type": "stream",
          "name": "stderr",
          "text": [
            "100%|██████████| 107/107 [00:13<00:00,  7.79it/s]\n"
          ]
        },
        {
          "output_type": "stream",
          "name": "stdout",
          "text": [
            "Fold 1, Epoch 7, Average Training loss: 0.003539965605519921\n",
            "Fold 1, Validation loss: 0.041458905202388346\n"
          ]
        },
        {
          "output_type": "stream",
          "name": "stderr",
          "text": [
            "100%|██████████| 107/107 [00:13<00:00,  7.79it/s]\n"
          ]
        },
        {
          "output_type": "stream",
          "name": "stdout",
          "text": [
            "Fold 1, Epoch 8, Average Training loss: 0.0024078723400065274\n",
            "Fold 1, Validation loss: 0.0421421683471029\n"
          ]
        },
        {
          "output_type": "stream",
          "name": "stderr",
          "text": [
            "100%|██████████| 107/107 [00:13<00:00,  7.80it/s]\n"
          ]
        },
        {
          "output_type": "stream",
          "name": "stdout",
          "text": [
            "Fold 1, Epoch 9, Average Training loss: 0.0016576285396754811\n",
            "Fold 1, Validation loss: 0.042996397890857664\n"
          ]
        },
        {
          "output_type": "stream",
          "name": "stderr",
          "text": [
            "100%|██████████| 107/107 [00:13<00:00,  7.79it/s]\n"
          ]
        },
        {
          "output_type": "stream",
          "name": "stdout",
          "text": [
            "Fold 1, Epoch 10, Average Training loss: 0.0012558731712862222\n",
            "Fold 1, Validation loss: 0.04297761554200271\n",
            "Fold 1 - Accuracy: 0.9906976744186047, Precision: 0.9705882352941176, Recall: 0.9705882352941176, F1: 0.9705882352941176\n"
          ]
        },
        {
          "output_type": "stream",
          "name": "stderr",
          "text": [
            "/usr/local/lib/python3.10/dist-packages/transformers/optimization.py:411: FutureWarning: This implementation of AdamW is deprecated and will be removed in a future version. Use the PyTorch implementation torch.optim.AdamW instead, or set `no_deprecation_warning=True` to disable this warning\n",
            "  warnings.warn(\n",
            "100%|██████████| 108/108 [00:13<00:00,  7.82it/s]\n"
          ]
        },
        {
          "output_type": "stream",
          "name": "stdout",
          "text": [
            "Fold 2, Epoch 1, Average Training loss: 0.45817169419455306\n",
            "Fold 2, Validation loss: 0.438427432819649\n"
          ]
        },
        {
          "output_type": "stream",
          "name": "stderr",
          "text": [
            "100%|██████████| 108/108 [00:13<00:00,  7.83it/s]\n"
          ]
        },
        {
          "output_type": "stream",
          "name": "stdout",
          "text": [
            "Fold 2, Epoch 2, Average Training loss: 0.4467001492847447\n",
            "Fold 2, Validation loss: 0.42975577822437994\n"
          ]
        },
        {
          "output_type": "stream",
          "name": "stderr",
          "text": [
            "100%|██████████| 108/108 [00:13<00:00,  7.82it/s]\n"
          ]
        },
        {
          "output_type": "stream",
          "name": "stdout",
          "text": [
            "Fold 2, Epoch 3, Average Training loss: 0.2841367293580401\n",
            "Fold 2, Validation loss: 0.07961063619910015\n"
          ]
        },
        {
          "output_type": "stream",
          "name": "stderr",
          "text": [
            "100%|██████████| 108/108 [00:13<00:00,  7.82it/s]\n"
          ]
        },
        {
          "output_type": "stream",
          "name": "stdout",
          "text": [
            "Fold 2, Epoch 4, Average Training loss: 0.08760100381483359\n",
            "Fold 2, Validation loss: 0.04318179839497639\n"
          ]
        },
        {
          "output_type": "stream",
          "name": "stderr",
          "text": [
            "100%|██████████| 108/108 [00:13<00:00,  7.82it/s]\n"
          ]
        },
        {
          "output_type": "stream",
          "name": "stdout",
          "text": [
            "Fold 2, Epoch 5, Average Training loss: 0.05983142062150701\n",
            "Fold 2, Validation loss: 0.027248642605694907\n"
          ]
        },
        {
          "output_type": "stream",
          "name": "stderr",
          "text": [
            "100%|██████████| 108/108 [00:13<00:00,  7.82it/s]\n"
          ]
        },
        {
          "output_type": "stream",
          "name": "stdout",
          "text": [
            "Fold 2, Epoch 6, Average Training loss: 0.026294127604665443\n",
            "Fold 2, Validation loss: 0.009427675360779243\n"
          ]
        },
        {
          "output_type": "stream",
          "name": "stderr",
          "text": [
            "100%|██████████| 108/108 [00:13<00:00,  7.82it/s]\n"
          ]
        },
        {
          "output_type": "stream",
          "name": "stdout",
          "text": [
            "Fold 2, Epoch 7, Average Training loss: 0.0627591226668166\n",
            "Fold 2, Validation loss: 0.013561152508137402\n"
          ]
        },
        {
          "output_type": "stream",
          "name": "stderr",
          "text": [
            "100%|██████████| 108/108 [00:13<00:00,  7.82it/s]\n"
          ]
        },
        {
          "output_type": "stream",
          "name": "stdout",
          "text": [
            "Fold 2, Epoch 8, Average Training loss: 0.032828178560723446\n",
            "Fold 2, Validation loss: 0.011787504285435986\n"
          ]
        },
        {
          "output_type": "stream",
          "name": "stderr",
          "text": [
            "100%|██████████| 108/108 [00:13<00:00,  7.82it/s]\n"
          ]
        },
        {
          "output_type": "stream",
          "name": "stdout",
          "text": [
            "Fold 2, Epoch 9, Average Training loss: 0.017016835468691878\n",
            "Fold 2, Validation loss: 0.008028722256077108\n"
          ]
        },
        {
          "output_type": "stream",
          "name": "stderr",
          "text": [
            "100%|██████████| 108/108 [00:13<00:00,  7.82it/s]\n"
          ]
        },
        {
          "output_type": "stream",
          "name": "stdout",
          "text": [
            "Fold 2, Epoch 10, Average Training loss: 0.01582316411508213\n",
            "Fold 2, Validation loss: 0.0065082291365359665\n",
            "Fold 2 - Accuracy: 1.0, Precision: 1.0, Recall: 1.0, F1: 1.0\n"
          ]
        },
        {
          "output_type": "stream",
          "name": "stderr",
          "text": [
            "/usr/local/lib/python3.10/dist-packages/transformers/optimization.py:411: FutureWarning: This implementation of AdamW is deprecated and will be removed in a future version. Use the PyTorch implementation torch.optim.AdamW instead, or set `no_deprecation_warning=True` to disable this warning\n",
            "  warnings.warn(\n",
            "100%|██████████| 108/108 [00:13<00:00,  7.80it/s]\n"
          ]
        },
        {
          "output_type": "stream",
          "name": "stdout",
          "text": [
            "Fold 3, Epoch 1, Average Training loss: 0.4628349202512591\n",
            "Fold 3, Validation loss: 0.4347681673588576\n"
          ]
        },
        {
          "output_type": "stream",
          "name": "stderr",
          "text": [
            "100%|██████████| 108/108 [00:13<00:00,  7.82it/s]\n"
          ]
        },
        {
          "output_type": "stream",
          "name": "stdout",
          "text": [
            "Fold 3, Epoch 2, Average Training loss: 0.35824706805525003\n",
            "Fold 3, Validation loss: 0.7693843714616917\n"
          ]
        },
        {
          "output_type": "stream",
          "name": "stderr",
          "text": [
            "100%|██████████| 108/108 [00:13<00:00,  7.82it/s]\n"
          ]
        },
        {
          "output_type": "stream",
          "name": "stdout",
          "text": [
            "Fold 3, Epoch 3, Average Training loss: 0.4571126376934074\n",
            "Fold 3, Validation loss: 0.4168428458549358\n"
          ]
        },
        {
          "output_type": "stream",
          "name": "stderr",
          "text": [
            "100%|██████████| 108/108 [00:13<00:00,  7.82it/s]\n"
          ]
        },
        {
          "output_type": "stream",
          "name": "stdout",
          "text": [
            "Fold 3, Epoch 4, Average Training loss: 0.2759138704191341\n",
            "Fold 3, Validation loss: 0.24355104220686136\n"
          ]
        },
        {
          "output_type": "stream",
          "name": "stderr",
          "text": [
            "100%|██████████| 108/108 [00:13<00:00,  7.82it/s]\n"
          ]
        },
        {
          "output_type": "stream",
          "name": "stdout",
          "text": [
            "Fold 3, Epoch 5, Average Training loss: 0.08183608156266725\n",
            "Fold 3, Validation loss: 0.026249070220661384\n"
          ]
        },
        {
          "output_type": "stream",
          "name": "stderr",
          "text": [
            "100%|██████████| 108/108 [00:13<00:00,  7.82it/s]\n"
          ]
        },
        {
          "output_type": "stream",
          "name": "stdout",
          "text": [
            "Fold 3, Epoch 6, Average Training loss: 0.16972870619415684\n",
            "Fold 3, Validation loss: 0.08182622237062012\n"
          ]
        },
        {
          "output_type": "stream",
          "name": "stderr",
          "text": [
            "100%|██████████| 108/108 [00:13<00:00,  7.82it/s]\n"
          ]
        },
        {
          "output_type": "stream",
          "name": "stdout",
          "text": [
            "Fold 3, Epoch 7, Average Training loss: 0.07805555013732778\n",
            "Fold 3, Validation loss: 0.019756110178099737\n"
          ]
        },
        {
          "output_type": "stream",
          "name": "stderr",
          "text": [
            "100%|██████████| 108/108 [00:13<00:00,  7.82it/s]\n"
          ]
        },
        {
          "output_type": "stream",
          "name": "stdout",
          "text": [
            "Fold 3, Epoch 8, Average Training loss: 0.021215943313479698\n",
            "Fold 3, Validation loss: 0.00532990442675159\n"
          ]
        },
        {
          "output_type": "stream",
          "name": "stderr",
          "text": [
            "100%|██████████| 108/108 [00:13<00:00,  7.83it/s]\n"
          ]
        },
        {
          "output_type": "stream",
          "name": "stdout",
          "text": [
            "Fold 3, Epoch 9, Average Training loss: 0.017373788521918294\n",
            "Fold 3, Validation loss: 0.0035389577323156926\n"
          ]
        },
        {
          "output_type": "stream",
          "name": "stderr",
          "text": [
            "100%|██████████| 108/108 [00:13<00:00,  7.84it/s]\n"
          ]
        },
        {
          "output_type": "stream",
          "name": "stdout",
          "text": [
            "Fold 3, Epoch 10, Average Training loss: 0.017650747065932525\n",
            "Fold 3, Validation loss: 0.0030896573853506533\n",
            "Fold 3 - Accuracy: 1.0, Precision: 1.0, Recall: 1.0, F1: 1.0\n",
            "Accuracy: 0.9968992248062015, Precision: 0.9901960784313726, Recall: 0.9901960784313726, F1: 0.9901960784313726\n",
            "Training and evaluating on dataset: PowerAdapters\n"
          ]
        },
        {
          "output_type": "stream",
          "name": "stderr",
          "text": [
            "/usr/local/lib/python3.10/dist-packages/transformers/optimization.py:411: FutureWarning: This implementation of AdamW is deprecated and will be removed in a future version. Use the PyTorch implementation torch.optim.AdamW instead, or set `no_deprecation_warning=True` to disable this warning\n",
            "  warnings.warn(\n",
            "100%|██████████| 142/142 [00:18<00:00,  7.80it/s]\n"
          ]
        },
        {
          "output_type": "stream",
          "name": "stdout",
          "text": [
            "Fold 1, Epoch 1, Average Training loss: 0.395440944339293\n",
            "Fold 1, Validation loss: 0.36052462395647883\n"
          ]
        },
        {
          "output_type": "stream",
          "name": "stderr",
          "text": [
            "100%|██████████| 142/142 [00:18<00:00,  7.81it/s]\n"
          ]
        },
        {
          "output_type": "stream",
          "name": "stdout",
          "text": [
            "Fold 1, Epoch 2, Average Training loss: 0.3655426063063279\n",
            "Fold 1, Validation loss: 0.35820070076996174\n"
          ]
        },
        {
          "output_type": "stream",
          "name": "stderr",
          "text": [
            "100%|██████████| 142/142 [00:18<00:00,  7.81it/s]\n"
          ]
        },
        {
          "output_type": "stream",
          "name": "stdout",
          "text": [
            "Fold 1, Epoch 3, Average Training loss: 0.36689770337141736\n",
            "Fold 1, Validation loss: 0.3601936921477318\n"
          ]
        },
        {
          "output_type": "stream",
          "name": "stderr",
          "text": [
            "100%|██████████| 142/142 [00:18<00:00,  7.81it/s]\n"
          ]
        },
        {
          "output_type": "stream",
          "name": "stdout",
          "text": [
            "Fold 1, Epoch 4, Average Training loss: 0.3156132002321767\n",
            "Fold 1, Validation loss: 0.05435273164069988\n"
          ]
        },
        {
          "output_type": "stream",
          "name": "stderr",
          "text": [
            "100%|██████████| 142/142 [00:18<00:00,  7.78it/s]\n"
          ]
        },
        {
          "output_type": "stream",
          "name": "stdout",
          "text": [
            "Fold 1, Epoch 5, Average Training loss: 0.18476214289376644\n",
            "Fold 1, Validation loss: 0.024351470841383432\n"
          ]
        },
        {
          "output_type": "stream",
          "name": "stderr",
          "text": [
            "100%|██████████| 142/142 [00:18<00:00,  7.77it/s]\n"
          ]
        },
        {
          "output_type": "stream",
          "name": "stdout",
          "text": [
            "Fold 1, Epoch 6, Average Training loss: 0.027202460467225124\n",
            "Fold 1, Validation loss: 0.05384745191074383\n"
          ]
        },
        {
          "output_type": "stream",
          "name": "stderr",
          "text": [
            "100%|██████████| 142/142 [00:18<00:00,  7.78it/s]\n"
          ]
        },
        {
          "output_type": "stream",
          "name": "stdout",
          "text": [
            "Fold 1, Epoch 7, Average Training loss: 0.03403792999238825\n",
            "Fold 1, Validation loss: 0.0063021610044992305\n"
          ]
        },
        {
          "output_type": "stream",
          "name": "stderr",
          "text": [
            "100%|██████████| 142/142 [00:18<00:00,  7.78it/s]\n"
          ]
        },
        {
          "output_type": "stream",
          "name": "stdout",
          "text": [
            "Fold 1, Epoch 8, Average Training loss: 0.016378906302147507\n",
            "Fold 1, Validation loss: 0.00293768124169552\n"
          ]
        },
        {
          "output_type": "stream",
          "name": "stderr",
          "text": [
            "100%|██████████| 142/142 [00:18<00:00,  7.77it/s]\n"
          ]
        },
        {
          "output_type": "stream",
          "name": "stdout",
          "text": [
            "Fold 1, Epoch 9, Average Training loss: 0.0026069270810899392\n",
            "Fold 1, Validation loss: 0.001900034630343213\n"
          ]
        },
        {
          "output_type": "stream",
          "name": "stderr",
          "text": [
            "100%|██████████| 142/142 [00:18<00:00,  7.78it/s]\n"
          ]
        },
        {
          "output_type": "stream",
          "name": "stdout",
          "text": [
            "Fold 1, Epoch 10, Average Training loss: 0.0017320092637944495\n",
            "Fold 1, Validation loss: 0.0013481857776510672\n",
            "Fold 1 - Accuracy: 1.0, Precision: 1.0, Recall: 1.0, F1: 1.0\n"
          ]
        },
        {
          "output_type": "stream",
          "name": "stderr",
          "text": [
            "/usr/local/lib/python3.10/dist-packages/transformers/optimization.py:411: FutureWarning: This implementation of AdamW is deprecated and will be removed in a future version. Use the PyTorch implementation torch.optim.AdamW instead, or set `no_deprecation_warning=True` to disable this warning\n",
            "  warnings.warn(\n",
            "100%|██████████| 142/142 [00:18<00:00,  7.77it/s]\n"
          ]
        },
        {
          "output_type": "stream",
          "name": "stdout",
          "text": [
            "Fold 2, Epoch 1, Average Training loss: 0.3852366138197167\n",
            "Fold 2, Validation loss: 0.35716550954630677\n"
          ]
        },
        {
          "output_type": "stream",
          "name": "stderr",
          "text": [
            "100%|██████████| 142/142 [00:18<00:00,  7.78it/s]\n"
          ]
        },
        {
          "output_type": "stream",
          "name": "stdout",
          "text": [
            "Fold 2, Epoch 2, Average Training loss: 0.37360660836730203\n",
            "Fold 2, Validation loss: 0.3645209074020386\n"
          ]
        },
        {
          "output_type": "stream",
          "name": "stderr",
          "text": [
            "100%|██████████| 142/142 [00:18<00:00,  7.79it/s]\n"
          ]
        },
        {
          "output_type": "stream",
          "name": "stdout",
          "text": [
            "Fold 2, Epoch 3, Average Training loss: 0.3669125822071039\n",
            "Fold 2, Validation loss: 0.34474879608187875\n"
          ]
        },
        {
          "output_type": "stream",
          "name": "stderr",
          "text": [
            "100%|██████████| 142/142 [00:18<00:00,  7.78it/s]\n"
          ]
        },
        {
          "output_type": "stream",
          "name": "stdout",
          "text": [
            "Fold 2, Epoch 4, Average Training loss: 0.3151627171286185\n",
            "Fold 2, Validation loss: 0.08166084653684791\n"
          ]
        },
        {
          "output_type": "stream",
          "name": "stderr",
          "text": [
            "100%|██████████| 142/142 [00:18<00:00,  7.78it/s]\n"
          ]
        },
        {
          "output_type": "stream",
          "name": "stdout",
          "text": [
            "Fold 2, Epoch 5, Average Training loss: 0.09945848610573514\n",
            "Fold 2, Validation loss: 0.3650041858101605\n"
          ]
        },
        {
          "output_type": "stream",
          "name": "stderr",
          "text": [
            "100%|██████████| 142/142 [00:18<00:00,  7.79it/s]\n"
          ]
        },
        {
          "output_type": "stream",
          "name": "stdout",
          "text": [
            "Fold 2, Epoch 6, Average Training loss: 0.04114211751902345\n",
            "Fold 2, Validation loss: 0.10363102948266856\n"
          ]
        },
        {
          "output_type": "stream",
          "name": "stderr",
          "text": [
            "100%|██████████| 142/142 [00:18<00:00,  7.79it/s]\n"
          ]
        },
        {
          "output_type": "stream",
          "name": "stdout",
          "text": [
            "Fold 2, Epoch 7, Average Training loss: 0.00487744090357192\n",
            "Fold 2, Validation loss: 0.027165512231335988\n"
          ]
        },
        {
          "output_type": "stream",
          "name": "stderr",
          "text": [
            "100%|██████████| 142/142 [00:18<00:00,  7.79it/s]\n"
          ]
        },
        {
          "output_type": "stream",
          "name": "stdout",
          "text": [
            "Fold 2, Epoch 8, Average Training loss: 0.0023005661820258263\n",
            "Fold 2, Validation loss: 0.02734085337855709\n"
          ]
        },
        {
          "output_type": "stream",
          "name": "stderr",
          "text": [
            "100%|██████████| 142/142 [00:18<00:00,  7.80it/s]\n"
          ]
        },
        {
          "output_type": "stream",
          "name": "stdout",
          "text": [
            "Fold 2, Epoch 9, Average Training loss: 0.0015488321754366526\n",
            "Fold 2, Validation loss: 0.031201376651846607\n"
          ]
        },
        {
          "output_type": "stream",
          "name": "stderr",
          "text": [
            "100%|██████████| 142/142 [00:18<00:00,  7.79it/s]\n"
          ]
        },
        {
          "output_type": "stream",
          "name": "stdout",
          "text": [
            "Fold 2, Epoch 10, Average Training loss: 0.0011316654260080097\n",
            "Fold 2, Validation loss: 0.026152337839807267\n",
            "Fold 2 - Accuracy: 0.9929328621908127, Precision: 1.0, Recall: 0.9393939393939394, F1: 0.96875\n"
          ]
        },
        {
          "output_type": "stream",
          "name": "stderr",
          "text": [
            "/usr/local/lib/python3.10/dist-packages/transformers/optimization.py:411: FutureWarning: This implementation of AdamW is deprecated and will be removed in a future version. Use the PyTorch implementation torch.optim.AdamW instead, or set `no_deprecation_warning=True` to disable this warning\n",
            "  warnings.warn(\n",
            "100%|██████████| 142/142 [00:18<00:00,  7.77it/s]\n"
          ]
        },
        {
          "output_type": "stream",
          "name": "stdout",
          "text": [
            "Fold 3, Epoch 1, Average Training loss: 0.368483391026376\n",
            "Fold 3, Validation loss: 0.35607063665356437\n"
          ]
        },
        {
          "output_type": "stream",
          "name": "stderr",
          "text": [
            "100%|██████████| 142/142 [00:18<00:00,  7.80it/s]\n"
          ]
        },
        {
          "output_type": "stream",
          "name": "stdout",
          "text": [
            "Fold 3, Epoch 2, Average Training loss: 0.37943446835581685\n",
            "Fold 3, Validation loss: 0.35466987471765193\n"
          ]
        },
        {
          "output_type": "stream",
          "name": "stderr",
          "text": [
            "100%|██████████| 142/142 [00:18<00:00,  7.81it/s]\n"
          ]
        },
        {
          "output_type": "stream",
          "name": "stdout",
          "text": [
            "Fold 3, Epoch 3, Average Training loss: 0.3536139697780911\n",
            "Fold 3, Validation loss: 0.3283053374206516\n"
          ]
        },
        {
          "output_type": "stream",
          "name": "stderr",
          "text": [
            "100%|██████████| 142/142 [00:18<00:00,  7.81it/s]\n"
          ]
        },
        {
          "output_type": "stream",
          "name": "stdout",
          "text": [
            "Fold 3, Epoch 4, Average Training loss: 0.1527555255140637\n",
            "Fold 3, Validation loss: 0.011814364861749428\n"
          ]
        },
        {
          "output_type": "stream",
          "name": "stderr",
          "text": [
            "100%|██████████| 142/142 [00:18<00:00,  7.81it/s]\n"
          ]
        },
        {
          "output_type": "stream",
          "name": "stdout",
          "text": [
            "Fold 3, Epoch 5, Average Training loss: 0.006555169033752361\n",
            "Fold 3, Validation loss: 0.0036961092666106324\n"
          ]
        },
        {
          "output_type": "stream",
          "name": "stderr",
          "text": [
            "100%|██████████| 142/142 [00:18<00:00,  7.80it/s]\n"
          ]
        },
        {
          "output_type": "stream",
          "name": "stdout",
          "text": [
            "Fold 3, Epoch 6, Average Training loss: 0.00277034596057976\n",
            "Fold 3, Validation loss: 0.0018406741002994313\n"
          ]
        },
        {
          "output_type": "stream",
          "name": "stderr",
          "text": [
            "100%|██████████| 142/142 [00:18<00:00,  7.81it/s]\n"
          ]
        },
        {
          "output_type": "stream",
          "name": "stdout",
          "text": [
            "Fold 3, Epoch 7, Average Training loss: 0.0016671502228964015\n",
            "Fold 3, Validation loss: 0.001339707957272431\n"
          ]
        },
        {
          "output_type": "stream",
          "name": "stderr",
          "text": [
            "100%|██████████| 142/142 [00:18<00:00,  7.80it/s]\n"
          ]
        },
        {
          "output_type": "stream",
          "name": "stdout",
          "text": [
            "Fold 3, Epoch 8, Average Training loss: 0.00114679790608598\n",
            "Fold 3, Validation loss: 0.0009863444523636618\n"
          ]
        },
        {
          "output_type": "stream",
          "name": "stderr",
          "text": [
            "100%|██████████| 142/142 [00:18<00:00,  7.80it/s]\n"
          ]
        },
        {
          "output_type": "stream",
          "name": "stdout",
          "text": [
            "Fold 3, Epoch 9, Average Training loss: 0.0008660376920040146\n",
            "Fold 3, Validation loss: 0.0007805882733393932\n"
          ]
        },
        {
          "output_type": "stream",
          "name": "stderr",
          "text": [
            "100%|██████████| 142/142 [00:18<00:00,  7.80it/s]\n"
          ]
        },
        {
          "output_type": "stream",
          "name": "stdout",
          "text": [
            "Fold 3, Epoch 10, Average Training loss: 0.0007203394253197139\n",
            "Fold 3, Validation loss: 0.0006380957161063249\n",
            "Fold 3 - Accuracy: 1.0, Precision: 1.0, Recall: 1.0, F1: 1.0\n",
            "Accuracy: 0.9976442873969376, Precision: 1.0, Recall: 0.9797979797979798, F1: 0.9895833333333334\n",
            "Training and evaluating on dataset: StripLights\n"
          ]
        },
        {
          "output_type": "stream",
          "name": "stderr",
          "text": [
            "/usr/local/lib/python3.10/dist-packages/transformers/optimization.py:411: FutureWarning: This implementation of AdamW is deprecated and will be removed in a future version. Use the PyTorch implementation torch.optim.AdamW instead, or set `no_deprecation_warning=True` to disable this warning\n",
            "  warnings.warn(\n",
            "100%|██████████| 103/103 [00:13<00:00,  7.80it/s]\n"
          ]
        },
        {
          "output_type": "stream",
          "name": "stdout",
          "text": [
            "Fold 1, Epoch 1, Average Training loss: 0.48822719281882915\n",
            "Fold 1, Validation loss: 0.4341996025580626\n"
          ]
        },
        {
          "output_type": "stream",
          "name": "stderr",
          "text": [
            "100%|██████████| 103/103 [00:13<00:00,  7.81it/s]\n"
          ]
        },
        {
          "output_type": "stream",
          "name": "stdout",
          "text": [
            "Fold 1, Epoch 2, Average Training loss: 0.4546839074023719\n",
            "Fold 1, Validation loss: 0.4401273293277392\n"
          ]
        },
        {
          "output_type": "stream",
          "name": "stderr",
          "text": [
            "100%|██████████| 103/103 [00:13<00:00,  7.81it/s]\n"
          ]
        },
        {
          "output_type": "stream",
          "name": "stdout",
          "text": [
            "Fold 1, Epoch 3, Average Training loss: 0.4343915841388471\n",
            "Fold 1, Validation loss: 0.3912941317718763\n"
          ]
        },
        {
          "output_type": "stream",
          "name": "stderr",
          "text": [
            "100%|██████████| 103/103 [00:13<00:00,  7.81it/s]\n"
          ]
        },
        {
          "output_type": "stream",
          "name": "stdout",
          "text": [
            "Fold 1, Epoch 4, Average Training loss: 0.27910791722677863\n",
            "Fold 1, Validation loss: 0.44952323173101133\n"
          ]
        },
        {
          "output_type": "stream",
          "name": "stderr",
          "text": [
            "100%|██████████| 103/103 [00:13<00:00,  7.81it/s]\n"
          ]
        },
        {
          "output_type": "stream",
          "name": "stdout",
          "text": [
            "Fold 1, Epoch 5, Average Training loss: 0.43783447117481417\n",
            "Fold 1, Validation loss: 0.481607550325302\n"
          ]
        },
        {
          "output_type": "stream",
          "name": "stderr",
          "text": [
            "100%|██████████| 103/103 [00:13<00:00,  7.81it/s]\n"
          ]
        },
        {
          "output_type": "stream",
          "name": "stdout",
          "text": [
            "Fold 1, Epoch 6, Average Training loss: 0.4228183681018723\n",
            "Fold 1, Validation loss: 0.5025616691519434\n"
          ]
        },
        {
          "output_type": "stream",
          "name": "stderr",
          "text": [
            "100%|██████████| 103/103 [00:13<00:00,  7.81it/s]\n"
          ]
        },
        {
          "output_type": "stream",
          "name": "stdout",
          "text": [
            "Fold 1, Epoch 7, Average Training loss: 0.4550001108024305\n",
            "Fold 1, Validation loss: 0.43851204875570077\n"
          ]
        },
        {
          "output_type": "stream",
          "name": "stderr",
          "text": [
            "100%|██████████| 103/103 [00:13<00:00,  7.81it/s]\n"
          ]
        },
        {
          "output_type": "stream",
          "name": "stdout",
          "text": [
            "Fold 1, Epoch 8, Average Training loss: 0.4276677846040541\n",
            "Fold 1, Validation loss: 0.35241894094416726\n"
          ]
        },
        {
          "output_type": "stream",
          "name": "stderr",
          "text": [
            "100%|██████████| 103/103 [00:13<00:00,  7.80it/s]\n"
          ]
        },
        {
          "output_type": "stream",
          "name": "stdout",
          "text": [
            "Fold 1, Epoch 9, Average Training loss: 0.33131489346653803\n",
            "Fold 1, Validation loss: 0.30635242780240685\n"
          ]
        },
        {
          "output_type": "stream",
          "name": "stderr",
          "text": [
            "100%|██████████| 103/103 [00:13<00:00,  7.80it/s]\n"
          ]
        },
        {
          "output_type": "stream",
          "name": "stdout",
          "text": [
            "Fold 1, Epoch 10, Average Training loss: 0.14321045494339998\n",
            "Fold 1, Validation loss: 0.234737250685262\n",
            "Fold 1 - Accuracy: 0.9029126213592233, Precision: 1.0, Recall: 0.3939393939393939, F1: 0.5652173913043478\n"
          ]
        },
        {
          "output_type": "stream",
          "name": "stderr",
          "text": [
            "/usr/local/lib/python3.10/dist-packages/transformers/optimization.py:411: FutureWarning: This implementation of AdamW is deprecated and will be removed in a future version. Use the PyTorch implementation torch.optim.AdamW instead, or set `no_deprecation_warning=True` to disable this warning\n",
            "  warnings.warn(\n",
            "100%|██████████| 103/103 [00:13<00:00,  7.78it/s]\n"
          ]
        },
        {
          "output_type": "stream",
          "name": "stdout",
          "text": [
            "Fold 2, Epoch 1, Average Training loss: 0.47532032802700996\n",
            "Fold 2, Validation loss: 0.44409481722574967\n"
          ]
        },
        {
          "output_type": "stream",
          "name": "stderr",
          "text": [
            "100%|██████████| 103/103 [00:13<00:00,  7.81it/s]\n"
          ]
        },
        {
          "output_type": "stream",
          "name": "stdout",
          "text": [
            "Fold 2, Epoch 2, Average Training loss: 0.44784729819274643\n",
            "Fold 2, Validation loss: 0.4686463038222148\n"
          ]
        },
        {
          "output_type": "stream",
          "name": "stderr",
          "text": [
            "100%|██████████| 103/103 [00:13<00:00,  7.80it/s]\n"
          ]
        },
        {
          "output_type": "stream",
          "name": "stdout",
          "text": [
            "Fold 2, Epoch 3, Average Training loss: 0.4345500949517037\n",
            "Fold 2, Validation loss: 0.47030773830528444\n"
          ]
        },
        {
          "output_type": "stream",
          "name": "stderr",
          "text": [
            "100%|██████████| 103/103 [00:13<00:00,  7.79it/s]\n"
          ]
        },
        {
          "output_type": "stream",
          "name": "stdout",
          "text": [
            "Fold 2, Epoch 4, Average Training loss: 0.42818073190531686\n",
            "Fold 2, Validation loss: 0.3403617458847853\n"
          ]
        },
        {
          "output_type": "stream",
          "name": "stderr",
          "text": [
            "100%|██████████| 103/103 [00:13<00:00,  7.79it/s]\n"
          ]
        },
        {
          "output_type": "stream",
          "name": "stdout",
          "text": [
            "Fold 2, Epoch 5, Average Training loss: 0.17813137326461886\n",
            "Fold 2, Validation loss: 0.053603878137297355\n"
          ]
        },
        {
          "output_type": "stream",
          "name": "stderr",
          "text": [
            "100%|██████████| 103/103 [00:13<00:00,  7.78it/s]\n"
          ]
        },
        {
          "output_type": "stream",
          "name": "stdout",
          "text": [
            "Fold 2, Epoch 6, Average Training loss: 0.2485981950608706\n",
            "Fold 2, Validation loss: 0.4151521021356949\n"
          ]
        },
        {
          "output_type": "stream",
          "name": "stderr",
          "text": [
            "100%|██████████| 103/103 [00:13<00:00,  7.78it/s]\n"
          ]
        },
        {
          "output_type": "stream",
          "name": "stdout",
          "text": [
            "Fold 2, Epoch 7, Average Training loss: 0.11218427524910969\n",
            "Fold 2, Validation loss: 0.02603993099182844\n"
          ]
        },
        {
          "output_type": "stream",
          "name": "stderr",
          "text": [
            "100%|██████████| 103/103 [00:13<00:00,  7.78it/s]\n"
          ]
        },
        {
          "output_type": "stream",
          "name": "stdout",
          "text": [
            "Fold 2, Epoch 8, Average Training loss: 0.006132687121014861\n",
            "Fold 2, Validation loss: 0.014191841549920635\n"
          ]
        },
        {
          "output_type": "stream",
          "name": "stderr",
          "text": [
            "100%|██████████| 103/103 [00:13<00:00,  7.78it/s]\n"
          ]
        },
        {
          "output_type": "stream",
          "name": "stdout",
          "text": [
            "Fold 2, Epoch 9, Average Training loss: 0.0037176471951788346\n",
            "Fold 2, Validation loss: 0.011995359655254735\n"
          ]
        },
        {
          "output_type": "stream",
          "name": "stderr",
          "text": [
            "100%|██████████| 103/103 [00:13<00:00,  7.78it/s]\n"
          ]
        },
        {
          "output_type": "stream",
          "name": "stdout",
          "text": [
            "Fold 2, Epoch 10, Average Training loss: 0.0024897742313468485\n",
            "Fold 2, Validation loss: 0.01083965847814957\n",
            "Fold 2 - Accuracy: 0.9951456310679612, Precision: 1.0, Recall: 0.9696969696969697, F1: 0.9846153846153847\n"
          ]
        },
        {
          "output_type": "stream",
          "name": "stderr",
          "text": [
            "/usr/local/lib/python3.10/dist-packages/transformers/optimization.py:411: FutureWarning: This implementation of AdamW is deprecated and will be removed in a future version. Use the PyTorch implementation torch.optim.AdamW instead, or set `no_deprecation_warning=True` to disable this warning\n",
            "  warnings.warn(\n",
            "100%|██████████| 103/103 [00:13<00:00,  7.77it/s]\n"
          ]
        },
        {
          "output_type": "stream",
          "name": "stdout",
          "text": [
            "Fold 3, Epoch 1, Average Training loss: 0.4690356610469448\n",
            "Fold 3, Validation loss: 0.4393836042055717\n"
          ]
        },
        {
          "output_type": "stream",
          "name": "stderr",
          "text": [
            "100%|██████████| 103/103 [00:13<00:00,  7.78it/s]\n"
          ]
        },
        {
          "output_type": "stream",
          "name": "stdout",
          "text": [
            "Fold 3, Epoch 2, Average Training loss: 0.4374674868236468\n",
            "Fold 3, Validation loss: 0.4559926717327191\n"
          ]
        },
        {
          "output_type": "stream",
          "name": "stderr",
          "text": [
            "100%|██████████| 103/103 [00:13<00:00,  7.79it/s]\n"
          ]
        },
        {
          "output_type": "stream",
          "name": "stdout",
          "text": [
            "Fold 3, Epoch 3, Average Training loss: 0.43531390612275855\n",
            "Fold 3, Validation loss: 0.453771209774109\n"
          ]
        },
        {
          "output_type": "stream",
          "name": "stderr",
          "text": [
            "100%|██████████| 103/103 [00:13<00:00,  7.78it/s]\n"
          ]
        },
        {
          "output_type": "stream",
          "name": "stdout",
          "text": [
            "Fold 3, Epoch 4, Average Training loss: 0.20160084939335735\n",
            "Fold 3, Validation loss: 0.02738565264735371\n"
          ]
        },
        {
          "output_type": "stream",
          "name": "stderr",
          "text": [
            "100%|██████████| 103/103 [00:13<00:00,  7.78it/s]\n"
          ]
        },
        {
          "output_type": "stream",
          "name": "stdout",
          "text": [
            "Fold 3, Epoch 5, Average Training loss: 0.3735377959120404\n",
            "Fold 3, Validation loss: 0.41863600881053853\n"
          ]
        },
        {
          "output_type": "stream",
          "name": "stderr",
          "text": [
            "100%|██████████| 103/103 [00:13<00:00,  7.78it/s]\n"
          ]
        },
        {
          "output_type": "stream",
          "name": "stdout",
          "text": [
            "Fold 3, Epoch 6, Average Training loss: 0.19762993734601197\n",
            "Fold 3, Validation loss: 0.017771239965580977\n"
          ]
        },
        {
          "output_type": "stream",
          "name": "stderr",
          "text": [
            "100%|██████████| 103/103 [00:13<00:00,  7.78it/s]\n"
          ]
        },
        {
          "output_type": "stream",
          "name": "stdout",
          "text": [
            "Fold 3, Epoch 7, Average Training loss: 0.09895747402700984\n",
            "Fold 3, Validation loss: 0.06539916308023609\n"
          ]
        },
        {
          "output_type": "stream",
          "name": "stderr",
          "text": [
            "100%|██████████| 103/103 [00:13<00:00,  7.78it/s]\n"
          ]
        },
        {
          "output_type": "stream",
          "name": "stdout",
          "text": [
            "Fold 3, Epoch 8, Average Training loss: 0.00637530265330762\n",
            "Fold 3, Validation loss: 0.004783273701412747\n"
          ]
        },
        {
          "output_type": "stream",
          "name": "stderr",
          "text": [
            "100%|██████████| 103/103 [00:13<00:00,  7.78it/s]\n"
          ]
        },
        {
          "output_type": "stream",
          "name": "stdout",
          "text": [
            "Fold 3, Epoch 9, Average Training loss: 0.0034435790775850126\n",
            "Fold 3, Validation loss: 0.0029866006426835577\n"
          ]
        },
        {
          "output_type": "stream",
          "name": "stderr",
          "text": [
            "100%|██████████| 103/103 [00:13<00:00,  7.78it/s]\n"
          ]
        },
        {
          "output_type": "stream",
          "name": "stdout",
          "text": [
            "Fold 3, Epoch 10, Average Training loss: 0.002289047554017777\n",
            "Fold 3, Validation loss: 0.0032601703961308184\n",
            "Fold 3 - Accuracy: 1.0, Precision: 1.0, Recall: 1.0, F1: 1.0\n",
            "Accuracy: 0.9660194174757283, Precision: 1.0, Recall: 0.787878787878788, F1: 0.8499442586399107\n",
            "Training and evaluating on dataset: mixed\n"
          ]
        },
        {
          "output_type": "stream",
          "name": "stderr",
          "text": [
            "/usr/local/lib/python3.10/dist-packages/transformers/optimization.py:411: FutureWarning: This implementation of AdamW is deprecated and will be removed in a future version. Use the PyTorch implementation torch.optim.AdamW instead, or set `no_deprecation_warning=True` to disable this warning\n",
            "  warnings.warn(\n",
            "100%|██████████| 89/89 [00:11<00:00,  7.79it/s]\n"
          ]
        },
        {
          "output_type": "stream",
          "name": "stdout",
          "text": [
            "Fold 1, Epoch 1, Average Training loss: 0.5299914686030216\n",
            "Fold 1, Validation loss: 0.5313229299253888\n"
          ]
        },
        {
          "output_type": "stream",
          "name": "stderr",
          "text": [
            "100%|██████████| 89/89 [00:11<00:00,  7.81it/s]\n"
          ]
        },
        {
          "output_type": "stream",
          "name": "stdout",
          "text": [
            "Fold 1, Epoch 2, Average Training loss: 0.5091387070296856\n",
            "Fold 1, Validation loss: 0.510315379831526\n"
          ]
        },
        {
          "output_type": "stream",
          "name": "stderr",
          "text": [
            "100%|██████████| 89/89 [00:11<00:00,  7.82it/s]\n"
          ]
        },
        {
          "output_type": "stream",
          "name": "stdout",
          "text": [
            "Fold 1, Epoch 3, Average Training loss: 0.5060318656516879\n",
            "Fold 1, Validation loss: 0.4666345523463355\n"
          ]
        },
        {
          "output_type": "stream",
          "name": "stderr",
          "text": [
            "100%|██████████| 89/89 [00:11<00:00,  7.81it/s]\n"
          ]
        },
        {
          "output_type": "stream",
          "name": "stdout",
          "text": [
            "Fold 1, Epoch 4, Average Training loss: 0.5142078629872772\n",
            "Fold 1, Validation loss: 0.5123632589975993\n"
          ]
        },
        {
          "output_type": "stream",
          "name": "stderr",
          "text": [
            "100%|██████████| 89/89 [00:11<00:00,  7.82it/s]\n"
          ]
        },
        {
          "output_type": "stream",
          "name": "stdout",
          "text": [
            "Fold 1, Epoch 5, Average Training loss: 0.5354980886652229\n",
            "Fold 1, Validation loss: 0.5138265000449287\n"
          ]
        },
        {
          "output_type": "stream",
          "name": "stderr",
          "text": [
            "100%|██████████| 89/89 [00:11<00:00,  7.82it/s]\n"
          ]
        },
        {
          "output_type": "stream",
          "name": "stdout",
          "text": [
            "Fold 1, Epoch 6, Average Training loss: 0.5111395379298189\n",
            "Fold 1, Validation loss: 0.5072242779864206\n"
          ]
        },
        {
          "output_type": "stream",
          "name": "stderr",
          "text": [
            "100%|██████████| 89/89 [00:11<00:00,  7.81it/s]\n"
          ]
        },
        {
          "output_type": "stream",
          "name": "stdout",
          "text": [
            "Fold 1, Epoch 7, Average Training loss: 0.44871865380346104\n",
            "Fold 1, Validation loss: 0.530314901471138\n"
          ]
        },
        {
          "output_type": "stream",
          "name": "stderr",
          "text": [
            "100%|██████████| 89/89 [00:11<00:00,  7.81it/s]\n"
          ]
        },
        {
          "output_type": "stream",
          "name": "stdout",
          "text": [
            "Fold 1, Epoch 8, Average Training loss: 0.5088234228197108\n",
            "Fold 1, Validation loss: 0.5050520208146837\n"
          ]
        },
        {
          "output_type": "stream",
          "name": "stderr",
          "text": [
            "100%|██████████| 89/89 [00:11<00:00,  7.81it/s]\n"
          ]
        },
        {
          "output_type": "stream",
          "name": "stdout",
          "text": [
            "Fold 1, Epoch 9, Average Training loss: 0.2518713397779659\n",
            "Fold 1, Validation loss: 0.787533889296982\n"
          ]
        },
        {
          "output_type": "stream",
          "name": "stderr",
          "text": [
            "100%|██████████| 89/89 [00:11<00:00,  7.81it/s]\n"
          ]
        },
        {
          "output_type": "stream",
          "name": "stdout",
          "text": [
            "Fold 1, Epoch 10, Average Training loss: 0.15508871035273658\n",
            "Fold 1, Validation loss: 0.12652673224608105\n",
            "Fold 1 - Accuracy: 0.9774011299435028, Precision: 1.0, Recall: 0.8857142857142857, F1: 0.9393939393939393\n"
          ]
        },
        {
          "output_type": "stream",
          "name": "stderr",
          "text": [
            "/usr/local/lib/python3.10/dist-packages/transformers/optimization.py:411: FutureWarning: This implementation of AdamW is deprecated and will be removed in a future version. Use the PyTorch implementation torch.optim.AdamW instead, or set `no_deprecation_warning=True` to disable this warning\n",
            "  warnings.warn(\n",
            "100%|██████████| 89/89 [00:11<00:00,  7.80it/s]\n"
          ]
        },
        {
          "output_type": "stream",
          "name": "stdout",
          "text": [
            "Fold 2, Epoch 1, Average Training loss: 0.519854036777207\n",
            "Fold 2, Validation loss: 0.4867924663755629\n"
          ]
        },
        {
          "output_type": "stream",
          "name": "stderr",
          "text": [
            "100%|██████████| 89/89 [00:11<00:00,  7.83it/s]\n"
          ]
        },
        {
          "output_type": "stream",
          "name": "stdout",
          "text": [
            "Fold 2, Epoch 2, Average Training loss: 0.5032659438386392\n",
            "Fold 2, Validation loss: 0.4760215176476373\n"
          ]
        },
        {
          "output_type": "stream",
          "name": "stderr",
          "text": [
            "100%|██████████| 89/89 [00:11<00:00,  7.82it/s]\n"
          ]
        },
        {
          "output_type": "stream",
          "name": "stdout",
          "text": [
            "Fold 2, Epoch 3, Average Training loss: 0.46997139487792267\n",
            "Fold 2, Validation loss: 0.4080951406310002\n"
          ]
        },
        {
          "output_type": "stream",
          "name": "stderr",
          "text": [
            "100%|██████████| 89/89 [00:11<00:00,  7.82it/s]\n"
          ]
        },
        {
          "output_type": "stream",
          "name": "stdout",
          "text": [
            "Fold 2, Epoch 4, Average Training loss: 0.14100124222341548\n",
            "Fold 2, Validation loss: 0.1280096884816885\n"
          ]
        },
        {
          "output_type": "stream",
          "name": "stderr",
          "text": [
            "100%|██████████| 89/89 [00:11<00:00,  7.82it/s]\n"
          ]
        },
        {
          "output_type": "stream",
          "name": "stdout",
          "text": [
            "Fold 2, Epoch 5, Average Training loss: 0.3688693899305516\n",
            "Fold 2, Validation loss: 0.2114839123355018\n"
          ]
        },
        {
          "output_type": "stream",
          "name": "stderr",
          "text": [
            "100%|██████████| 89/89 [00:11<00:00,  7.81it/s]\n"
          ]
        },
        {
          "output_type": "stream",
          "name": "stdout",
          "text": [
            "Fold 2, Epoch 6, Average Training loss: 0.24270720251187097\n",
            "Fold 2, Validation loss: 0.5648056000471116\n"
          ]
        },
        {
          "output_type": "stream",
          "name": "stderr",
          "text": [
            "100%|██████████| 89/89 [00:11<00:00,  7.82it/s]\n"
          ]
        },
        {
          "output_type": "stream",
          "name": "stdout",
          "text": [
            "Fold 2, Epoch 7, Average Training loss: 0.5134756500633915\n",
            "Fold 2, Validation loss: 0.43785661028491124\n"
          ]
        },
        {
          "output_type": "stream",
          "name": "stderr",
          "text": [
            "100%|██████████| 89/89 [00:11<00:00,  7.82it/s]\n"
          ]
        },
        {
          "output_type": "stream",
          "name": "stdout",
          "text": [
            "Fold 2, Epoch 8, Average Training loss: 0.18817738421638025\n",
            "Fold 2, Validation loss: 0.10017753162731727\n"
          ]
        },
        {
          "output_type": "stream",
          "name": "stderr",
          "text": [
            "100%|██████████| 89/89 [00:11<00:00,  7.82it/s]\n"
          ]
        },
        {
          "output_type": "stream",
          "name": "stdout",
          "text": [
            "Fold 2, Epoch 9, Average Training loss: 0.056650048378185276\n",
            "Fold 2, Validation loss: 0.08315800891982185\n"
          ]
        },
        {
          "output_type": "stream",
          "name": "stderr",
          "text": [
            "100%|██████████| 89/89 [00:11<00:00,  7.82it/s]\n"
          ]
        },
        {
          "output_type": "stream",
          "name": "stdout",
          "text": [
            "Fold 2, Epoch 10, Average Training loss: 0.16523119653418158\n",
            "Fold 2, Validation loss: 0.08171288667039739\n",
            "Fold 2 - Accuracy: 0.9774011299435028, Precision: 0.9696969696969697, Recall: 0.9142857142857143, F1: 0.9411764705882354\n"
          ]
        },
        {
          "output_type": "stream",
          "name": "stderr",
          "text": [
            "/usr/local/lib/python3.10/dist-packages/transformers/optimization.py:411: FutureWarning: This implementation of AdamW is deprecated and will be removed in a future version. Use the PyTorch implementation torch.optim.AdamW instead, or set `no_deprecation_warning=True` to disable this warning\n",
            "  warnings.warn(\n",
            "100%|██████████| 89/89 [00:11<00:00,  7.79it/s]\n"
          ]
        },
        {
          "output_type": "stream",
          "name": "stdout",
          "text": [
            "Fold 3, Epoch 1, Average Training loss: 0.5090926723198944\n",
            "Fold 3, Validation loss: 0.4872478910467841\n"
          ]
        },
        {
          "output_type": "stream",
          "name": "stderr",
          "text": [
            "100%|██████████| 89/89 [00:11<00:00,  7.81it/s]\n"
          ]
        },
        {
          "output_type": "stream",
          "name": "stdout",
          "text": [
            "Fold 3, Epoch 2, Average Training loss: 0.5100682093186325\n",
            "Fold 3, Validation loss: 0.471492104570974\n"
          ]
        },
        {
          "output_type": "stream",
          "name": "stderr",
          "text": [
            "100%|██████████| 89/89 [00:11<00:00,  7.81it/s]\n"
          ]
        },
        {
          "output_type": "stream",
          "name": "stdout",
          "text": [
            "Fold 3, Epoch 3, Average Training loss: 0.46228664920906004\n",
            "Fold 3, Validation loss: 0.33238934590057895\n"
          ]
        },
        {
          "output_type": "stream",
          "name": "stderr",
          "text": [
            "100%|██████████| 89/89 [00:11<00:00,  7.81it/s]\n"
          ]
        },
        {
          "output_type": "stream",
          "name": "stdout",
          "text": [
            "Fold 3, Epoch 4, Average Training loss: 0.17256807325031148\n",
            "Fold 3, Validation loss: 0.3224884828510271\n"
          ]
        },
        {
          "output_type": "stream",
          "name": "stderr",
          "text": [
            "100%|██████████| 89/89 [00:11<00:00,  7.81it/s]\n"
          ]
        },
        {
          "output_type": "stream",
          "name": "stdout",
          "text": [
            "Fold 3, Epoch 5, Average Training loss: 0.21638781678329191\n",
            "Fold 3, Validation loss: 0.4972132888029922\n"
          ]
        },
        {
          "output_type": "stream",
          "name": "stderr",
          "text": [
            "100%|██████████| 89/89 [00:11<00:00,  7.81it/s]\n"
          ]
        },
        {
          "output_type": "stream",
          "name": "stdout",
          "text": [
            "Fold 3, Epoch 6, Average Training loss: 0.40167601733060365\n",
            "Fold 3, Validation loss: 0.06663967719809576\n"
          ]
        },
        {
          "output_type": "stream",
          "name": "stderr",
          "text": [
            "100%|██████████| 89/89 [00:11<00:00,  7.81it/s]\n"
          ]
        },
        {
          "output_type": "stream",
          "name": "stdout",
          "text": [
            "Fold 3, Epoch 7, Average Training loss: 0.07693878322672308\n",
            "Fold 3, Validation loss: 0.029317548710175535\n"
          ]
        },
        {
          "output_type": "stream",
          "name": "stderr",
          "text": [
            "100%|██████████| 89/89 [00:11<00:00,  7.81it/s]\n"
          ]
        },
        {
          "output_type": "stream",
          "name": "stdout",
          "text": [
            "Fold 3, Epoch 8, Average Training loss: 0.029860465839672626\n",
            "Fold 3, Validation loss: 0.024102884365923026\n"
          ]
        },
        {
          "output_type": "stream",
          "name": "stderr",
          "text": [
            "100%|██████████| 89/89 [00:11<00:00,  7.81it/s]\n"
          ]
        },
        {
          "output_type": "stream",
          "name": "stdout",
          "text": [
            "Fold 3, Epoch 9, Average Training loss: 0.004633705958389164\n",
            "Fold 3, Validation loss: 0.003486882048574361\n"
          ]
        },
        {
          "output_type": "stream",
          "name": "stderr",
          "text": [
            "100%|██████████| 89/89 [00:11<00:00,  7.81it/s]\n"
          ]
        },
        {
          "output_type": "stream",
          "name": "stdout",
          "text": [
            "Fold 3, Epoch 10, Average Training loss: 0.002872045953716204\n",
            "Fold 3, Validation loss: 0.002161834121745249\n",
            "Fold 3 - Accuracy: 1.0, Precision: 1.0, Recall: 1.0, F1: 1.0\n",
            "Accuracy: 0.9849340866290018, Precision: 0.98989898989899, Recall: 0.9333333333333332, F1: 0.960190136660725\n",
            "Training and evaluating on dataset: all\n"
          ]
        },
        {
          "output_type": "stream",
          "name": "stderr",
          "text": [
            "/usr/local/lib/python3.10/dist-packages/transformers/optimization.py:411: FutureWarning: This implementation of AdamW is deprecated and will be removed in a future version. Use the PyTorch implementation torch.optim.AdamW instead, or set `no_deprecation_warning=True` to disable this warning\n",
            "  warnings.warn(\n",
            "100%|██████████| 352/352 [00:45<00:00,  7.77it/s]\n"
          ]
        },
        {
          "output_type": "stream",
          "name": "stdout",
          "text": [
            "Fold 1, Epoch 1, Average Training loss: 0.4098884631742046\n",
            "Fold 1, Validation loss: 0.4896650511390445\n"
          ]
        },
        {
          "output_type": "stream",
          "name": "stderr",
          "text": [
            "100%|██████████| 352/352 [00:45<00:00,  7.77it/s]\n"
          ]
        },
        {
          "output_type": "stream",
          "name": "stdout",
          "text": [
            "Fold 1, Epoch 2, Average Training loss: 0.16280900006875693\n",
            "Fold 1, Validation loss: 0.006071776048470797\n"
          ]
        },
        {
          "output_type": "stream",
          "name": "stderr",
          "text": [
            "100%|██████████| 352/352 [00:45<00:00,  7.77it/s]\n"
          ]
        },
        {
          "output_type": "stream",
          "name": "stdout",
          "text": [
            "Fold 1, Epoch 3, Average Training loss: 0.007513750584786811\n",
            "Fold 1, Validation loss: 0.0019238720977393148\n"
          ]
        },
        {
          "output_type": "stream",
          "name": "stderr",
          "text": [
            "100%|██████████| 352/352 [00:45<00:00,  7.77it/s]\n"
          ]
        },
        {
          "output_type": "stream",
          "name": "stdout",
          "text": [
            "Fold 1, Epoch 4, Average Training loss: 0.006698466605733053\n",
            "Fold 1, Validation loss: 0.0014611250983514103\n"
          ]
        },
        {
          "output_type": "stream",
          "name": "stderr",
          "text": [
            "100%|██████████| 352/352 [00:45<00:00,  7.76it/s]\n"
          ]
        },
        {
          "output_type": "stream",
          "name": "stdout",
          "text": [
            "Fold 1, Epoch 5, Average Training loss: 0.00634522028221082\n",
            "Fold 1, Validation loss: 0.001186004946661838\n"
          ]
        },
        {
          "output_type": "stream",
          "name": "stderr",
          "text": [
            "100%|██████████| 352/352 [00:45<00:00,  7.77it/s]\n"
          ]
        },
        {
          "output_type": "stream",
          "name": "stdout",
          "text": [
            "Fold 1, Epoch 6, Average Training loss: 0.0058388017744370945\n",
            "Fold 1, Validation loss: 0.0011039571204905355\n"
          ]
        },
        {
          "output_type": "stream",
          "name": "stderr",
          "text": [
            "100%|██████████| 352/352 [00:45<00:00,  7.77it/s]\n"
          ]
        },
        {
          "output_type": "stream",
          "name": "stdout",
          "text": [
            "Fold 1, Epoch 7, Average Training loss: 0.006116742680123108\n",
            "Fold 1, Validation loss: 0.0018268549644166012\n"
          ]
        },
        {
          "output_type": "stream",
          "name": "stderr",
          "text": [
            "100%|██████████| 352/352 [00:45<00:00,  7.76it/s]\n"
          ]
        },
        {
          "output_type": "stream",
          "name": "stdout",
          "text": [
            "Fold 1, Epoch 8, Average Training loss: 0.006390689889154932\n",
            "Fold 1, Validation loss: 0.0016160713887736413\n"
          ]
        },
        {
          "output_type": "stream",
          "name": "stderr",
          "text": [
            "100%|██████████| 352/352 [00:45<00:00,  7.75it/s]\n"
          ]
        },
        {
          "output_type": "stream",
          "name": "stdout",
          "text": [
            "Fold 1, Epoch 9, Average Training loss: 0.00574953780844887\n",
            "Fold 1, Validation loss: 0.0018650829241034278\n"
          ]
        },
        {
          "output_type": "stream",
          "name": "stderr",
          "text": [
            "100%|██████████| 352/352 [00:45<00:00,  7.76it/s]\n"
          ]
        },
        {
          "output_type": "stream",
          "name": "stdout",
          "text": [
            "Fold 1, Epoch 10, Average Training loss: 0.007097874220397154\n",
            "Fold 1, Validation loss: 0.00203830073686814\n",
            "Fold 1 - Accuracy: 0.9985795454545454, Precision: 1.0, Recall: 0.99, F1: 0.9949748743718593\n"
          ]
        },
        {
          "output_type": "stream",
          "name": "stderr",
          "text": [
            "/usr/local/lib/python3.10/dist-packages/transformers/optimization.py:411: FutureWarning: This implementation of AdamW is deprecated and will be removed in a future version. Use the PyTorch implementation torch.optim.AdamW instead, or set `no_deprecation_warning=True` to disable this warning\n",
            "  warnings.warn(\n",
            "100%|██████████| 352/352 [00:45<00:00,  7.75it/s]\n"
          ]
        },
        {
          "output_type": "stream",
          "name": "stdout",
          "text": [
            "Fold 2, Epoch 1, Average Training loss: 0.411150586664338\n",
            "Fold 2, Validation loss: 0.5826626821336421\n"
          ]
        },
        {
          "output_type": "stream",
          "name": "stderr",
          "text": [
            "100%|██████████| 352/352 [00:45<00:00,  7.76it/s]\n"
          ]
        },
        {
          "output_type": "stream",
          "name": "stdout",
          "text": [
            "Fold 2, Epoch 2, Average Training loss: 0.13268609507609985\n",
            "Fold 2, Validation loss: 0.0055823066220248374\n"
          ]
        },
        {
          "output_type": "stream",
          "name": "stderr",
          "text": [
            "100%|██████████| 352/352 [00:45<00:00,  7.77it/s]\n"
          ]
        },
        {
          "output_type": "stream",
          "name": "stdout",
          "text": [
            "Fold 2, Epoch 3, Average Training loss: 0.008893025659331628\n",
            "Fold 2, Validation loss: 0.0011723715694891077\n"
          ]
        },
        {
          "output_type": "stream",
          "name": "stderr",
          "text": [
            "100%|██████████| 352/352 [00:45<00:00,  7.77it/s]\n"
          ]
        },
        {
          "output_type": "stream",
          "name": "stdout",
          "text": [
            "Fold 2, Epoch 4, Average Training loss: 0.0063883189831441005\n",
            "Fold 2, Validation loss: 0.0010364578116753944\n"
          ]
        },
        {
          "output_type": "stream",
          "name": "stderr",
          "text": [
            "100%|██████████| 352/352 [00:45<00:00,  7.77it/s]\n"
          ]
        },
        {
          "output_type": "stream",
          "name": "stdout",
          "text": [
            "Fold 2, Epoch 5, Average Training loss: 0.006190472086679868\n",
            "Fold 2, Validation loss: 0.0009595845741304485\n"
          ]
        },
        {
          "output_type": "stream",
          "name": "stderr",
          "text": [
            "100%|██████████| 352/352 [00:45<00:00,  7.77it/s]\n"
          ]
        },
        {
          "output_type": "stream",
          "name": "stdout",
          "text": [
            "Fold 2, Epoch 6, Average Training loss: 0.006377868227487356\n",
            "Fold 2, Validation loss: 0.001127791743783746\n"
          ]
        },
        {
          "output_type": "stream",
          "name": "stderr",
          "text": [
            "100%|██████████| 352/352 [00:45<00:00,  7.77it/s]\n"
          ]
        },
        {
          "output_type": "stream",
          "name": "stdout",
          "text": [
            "Fold 2, Epoch 7, Average Training loss: 0.006454254248224474\n",
            "Fold 2, Validation loss: 0.0006580398423300886\n"
          ]
        },
        {
          "output_type": "stream",
          "name": "stderr",
          "text": [
            "100%|██████████| 352/352 [00:45<00:00,  7.77it/s]\n"
          ]
        },
        {
          "output_type": "stream",
          "name": "stdout",
          "text": [
            "Fold 2, Epoch 8, Average Training loss: 0.005924668568365054\n",
            "Fold 2, Validation loss: 0.0005389234839557586\n"
          ]
        },
        {
          "output_type": "stream",
          "name": "stderr",
          "text": [
            "100%|██████████| 352/352 [00:45<00:00,  7.77it/s]\n"
          ]
        },
        {
          "output_type": "stream",
          "name": "stdout",
          "text": [
            "Fold 2, Epoch 9, Average Training loss: 0.006157161778984036\n",
            "Fold 2, Validation loss: 0.0004966786039982584\n"
          ]
        },
        {
          "output_type": "stream",
          "name": "stderr",
          "text": [
            "100%|██████████| 352/352 [00:45<00:00,  7.77it/s]\n"
          ]
        },
        {
          "output_type": "stream",
          "name": "stdout",
          "text": [
            "Fold 2, Epoch 10, Average Training loss: 0.006298375015913652\n",
            "Fold 2, Validation loss: 0.0011310386299473148\n",
            "Fold 2 - Accuracy: 1.0, Precision: 1.0, Recall: 1.0, F1: 1.0\n"
          ]
        },
        {
          "output_type": "stream",
          "name": "stderr",
          "text": [
            "/usr/local/lib/python3.10/dist-packages/transformers/optimization.py:411: FutureWarning: This implementation of AdamW is deprecated and will be removed in a future version. Use the PyTorch implementation torch.optim.AdamW instead, or set `no_deprecation_warning=True` to disable this warning\n",
            "  warnings.warn(\n",
            "100%|██████████| 352/352 [00:45<00:00,  7.77it/s]\n"
          ]
        },
        {
          "output_type": "stream",
          "name": "stdout",
          "text": [
            "Fold 3, Epoch 1, Average Training loss: 0.4204561353915117\n",
            "Fold 3, Validation loss: 0.42098945895717904\n"
          ]
        },
        {
          "output_type": "stream",
          "name": "stderr",
          "text": [
            "100%|██████████| 352/352 [00:45<00:00,  7.77it/s]\n"
          ]
        },
        {
          "output_type": "stream",
          "name": "stdout",
          "text": [
            "Fold 3, Epoch 2, Average Training loss: 0.3810745984426996\n",
            "Fold 3, Validation loss: 0.4049484597265043\n"
          ]
        },
        {
          "output_type": "stream",
          "name": "stderr",
          "text": [
            "100%|██████████| 352/352 [00:45<00:00,  7.77it/s]\n"
          ]
        },
        {
          "output_type": "stream",
          "name": "stdout",
          "text": [
            "Fold 3, Epoch 3, Average Training loss: 0.20772600762509022\n",
            "Fold 3, Validation loss: 0.0208535075282932\n"
          ]
        },
        {
          "output_type": "stream",
          "name": "stderr",
          "text": [
            "100%|██████████| 352/352 [00:45<00:00,  7.77it/s]\n"
          ]
        },
        {
          "output_type": "stream",
          "name": "stdout",
          "text": [
            "Fold 3, Epoch 4, Average Training loss: 0.017894562621884026\n",
            "Fold 3, Validation loss: 0.012587026360878635\n"
          ]
        },
        {
          "output_type": "stream",
          "name": "stderr",
          "text": [
            "100%|██████████| 352/352 [00:45<00:00,  7.77it/s]\n"
          ]
        },
        {
          "output_type": "stream",
          "name": "stdout",
          "text": [
            "Fold 3, Epoch 5, Average Training loss: 0.002115149833447173\n",
            "Fold 3, Validation loss: 0.011138143357873725\n"
          ]
        },
        {
          "output_type": "stream",
          "name": "stderr",
          "text": [
            "100%|██████████| 352/352 [00:45<00:00,  7.77it/s]\n"
          ]
        },
        {
          "output_type": "stream",
          "name": "stdout",
          "text": [
            "Fold 3, Epoch 6, Average Training loss: 0.0010401263323067476\n",
            "Fold 3, Validation loss: 0.011284832491748437\n"
          ]
        },
        {
          "output_type": "stream",
          "name": "stderr",
          "text": [
            "100%|██████████| 352/352 [00:45<00:00,  7.77it/s]\n"
          ]
        },
        {
          "output_type": "stream",
          "name": "stdout",
          "text": [
            "Fold 3, Epoch 7, Average Training loss: 0.0006788919145037653\n",
            "Fold 3, Validation loss: 0.011556666698280342\n"
          ]
        },
        {
          "output_type": "stream",
          "name": "stderr",
          "text": [
            "100%|██████████| 352/352 [00:45<00:00,  7.77it/s]\n"
          ]
        },
        {
          "output_type": "stream",
          "name": "stdout",
          "text": [
            "Fold 3, Epoch 8, Average Training loss: 0.0004920691397025869\n",
            "Fold 3, Validation loss: 0.011850871831649618\n"
          ]
        },
        {
          "output_type": "stream",
          "name": "stderr",
          "text": [
            "100%|██████████| 352/352 [00:45<00:00,  7.77it/s]\n"
          ]
        },
        {
          "output_type": "stream",
          "name": "stdout",
          "text": [
            "Fold 3, Epoch 9, Average Training loss: 0.000353258673757492\n",
            "Fold 3, Validation loss: 0.012134338900399267\n"
          ]
        },
        {
          "output_type": "stream",
          "name": "stderr",
          "text": [
            "100%|██████████| 352/352 [00:45<00:00,  7.77it/s]\n"
          ]
        },
        {
          "output_type": "stream",
          "name": "stdout",
          "text": [
            "Fold 3, Epoch 10, Average Training loss: 0.0002715791637125552\n",
            "Fold 3, Validation loss: 0.012409444385908004\n",
            "Fold 3 - Accuracy: 0.9985775248933144, Precision: 1.0, Recall: 0.99, F1: 0.9949748743718593\n",
            "Accuracy: 0.9990523567826198, Precision: 1.0, Recall: 0.9933333333333333, F1: 0.9966499162479062\n",
            "Final Accuracy Metrics Across All Datasets:\n",
            "LightSabers: [0.9968992248062015, 0.9901960784313726, 0.9901960784313726, 0.9901960784313726]\n",
            "PowerAdapters: [0.9976442873969376, 1.0, 0.9797979797979798, 0.9895833333333334]\n",
            "StripLights: [0.9660194174757283, 1.0, 0.787878787878788, 0.8499442586399107]\n",
            "mixed: [0.9849340866290018, 0.98989898989899, 0.9333333333333332, 0.960190136660725]\n",
            "all: [0.9990523567826198, 1.0, 0.9933333333333333, 0.9966499162479062]\n"
          ]
        }
      ],
      "source": [
        "#ALBERT on all individual datasets\n",
        "import pandas as pd\n",
        "import numpy as np\n",
        "import torch\n",
        "from torch.utils.data import DataLoader, Dataset\n",
        "import sentencepiece\n",
        "from transformers import AlbertTokenizer, AlbertForSequenceClassification, AlbertConfig, AdamW\n",
        "from sklearn.metrics import accuracy_score, precision_recall_fscore_support\n",
        "from sklearn.model_selection import StratifiedKFold\n",
        "from tqdm import tqdm\n",
        "\n",
        "device = torch.device('cuda' if torch.cuda.is_available() else 'cpu')\n",
        "if device.type == 'cuda':\n",
        "    print(torch.cuda.get_device_name(0))\n",
        "\n",
        "tokenizer = AlbertTokenizer.from_pretrained('albert-base-v2')\n",
        "\n",
        "class TextDataset(Dataset):\n",
        "    def __init__(self, encodings, labels):\n",
        "        self.encodings = encodings\n",
        "        self.labels = labels\n",
        "\n",
        "    def __getitem__(self, idx):\n",
        "        item = {key: torch.tensor(val[idx]) for key, val in self.encodings.items()}\n",
        "        item['labels'] = torch.tensor(self.labels[idx])\n",
        "        return item\n",
        "\n",
        "    def __len__(self):\n",
        "        return len(self.labels)\n",
        "\n",
        "# Dictionary to store accuracy metrics for each dataset\n",
        "accuracy_metrics = {}\n",
        "\n",
        "for dataset_name, dataset in combined_dataframes.items():\n",
        "    print(f\"Training and evaluating on dataset: {dataset_name}\")\n",
        "\n",
        "    dataset['label'] = dataset['dropshipped'].map({'Dropshipped': 1, 'Not Dropshipped': 0})\n",
        "    dataset.dropna(subset=['data'], inplace=True)\n",
        "    dataset['data'] = dataset['data'].astype(str)\n",
        "\n",
        "    all_data = dataset\n",
        "\n",
        "    # Balance the dataset to 60% non-dropshipped and 40% dropshipped\n",
        "    class_0 = all_data[all_data['label'] == 0]\n",
        "    class_1 = all_data[all_data['label'] == 1]\n",
        "\n",
        "    total_sample_size = len(all_data)\n",
        "    sample_size_class_0 = min(int(total_sample_size * 0.6), len(class_0))  # 60% non-dropshipped\n",
        "    sample_size_class_1 = min(int(total_sample_size * 0.4), len(class_1))  # 40% dropshipped\n",
        "\n",
        "    balanced_data = pd.concat([class_0.sample(sample_size_class_0, random_state=42),\n",
        "                               class_1.sample(sample_size_class_1, random_state=42)])\n",
        "    balanced_data = balanced_data.sample(frac=1, random_state=29).reset_index(drop=True)\n",
        "    dataset = balanced_data\n",
        "\n",
        "    skf = StratifiedKFold(n_splits=3)\n",
        "    fold_results = []\n",
        "\n",
        "    for fold, (train_idx, test_idx) in enumerate(skf.split(dataset, dataset['label'])):\n",
        "        train_data = dataset.iloc[train_idx]\n",
        "        test_data = dataset.iloc[test_idx]\n",
        "\n",
        "        train_encodings = tokenizer(train_data['data'].to_list(), truncation=True, padding=True)\n",
        "        test_encodings = tokenizer(test_data['data'].to_list(), truncation=True, padding=True)\n",
        "\n",
        "        train_dataset = TextDataset(train_encodings, train_data['label'].tolist())\n",
        "        test_dataset = TextDataset(test_encodings, test_data['label'].tolist())\n",
        "\n",
        "        train_loader = DataLoader(train_dataset, batch_size=4, shuffle=True)\n",
        "        test_loader = DataLoader(test_dataset, batch_size=4, shuffle=False)\n",
        "\n",
        "        config = AlbertConfig.from_pretrained('albert-base-v2', num_labels=2)\n",
        "        config.classifier_dropout_prob = 0.4\n",
        "        model = AlbertForSequenceClassification(config)\n",
        "        model.to(device)\n",
        "\n",
        "        optim = AdamW(model.parameters(), lr=1e-5, weight_decay=0.05)\n",
        "\n",
        "        for epoch in range(10):\n",
        "            model.train()\n",
        "            total_loss = 0\n",
        "            for batch in tqdm(train_loader):\n",
        "                optim.zero_grad()\n",
        "                input_ids = batch['input_ids'].to(device)\n",
        "                attention_mask = batch['attention_mask'].to(device)\n",
        "                labels = batch['labels'].to(device)\n",
        "                outputs = model(input_ids, attention_mask=attention_mask, labels=labels)\n",
        "                loss = outputs.loss\n",
        "                total_loss += loss.item()\n",
        "                loss.backward()\n",
        "                optim.step()\n",
        "\n",
        "            avg_train_loss = total_loss / len(train_loader)\n",
        "            print(f\"Fold {fold+1}, Epoch {epoch+1}, Average Training loss: {avg_train_loss}\")\n",
        "\n",
        "            model.eval()\n",
        "            val_loss = 0\n",
        "            for batch in test_loader:\n",
        "                input_ids = batch['input_ids'].to(device)\n",
        "                attention_mask = batch['attention_mask'].to(device)\n",
        "                with torch.no_grad():\n",
        "                    outputs = model(input_ids, attention_mask=attention_mask)\n",
        "                logits = outputs.logits\n",
        "                val_loss += torch.nn.functional.cross_entropy(logits, batch['labels'].to(device)).item()\n",
        "\n",
        "            avg_val_loss = val_loss / len(test_loader)\n",
        "            print(f\"Fold {fold+1}, Validation loss: {avg_val_loss}\")\n",
        "\n",
        "        model.eval()\n",
        "        test_preds, test_targets = [], []\n",
        "        for batch in test_loader:\n",
        "            input_ids = batch['input_ids'].to(device)\n",
        "            attention_mask = batch['attention_mask'].to(device)\n",
        "            with torch.no_grad():\n",
        "                outputs = model(input_ids, attention_mask=attention_mask)\n",
        "            logits = outputs.logits\n",
        "            test_preds.extend(torch.argmax(logits, axis=1).tolist())\n",
        "            test_targets.extend(batch['labels'].tolist())\n",
        "\n",
        "        fold_accuracy = accuracy_score(test_targets, test_preds)\n",
        "        fold_precision, fold_recall, fold_f1, _ = precision_recall_fscore_support(test_targets, test_preds, average='binary', zero_division=0)\n",
        "        fold_results.append((fold_accuracy, fold_precision, fold_recall, fold_f1))\n",
        "        print(f\"Fold {fold+1} - Accuracy: {fold_accuracy}, Precision: {fold_precision}, Recall: {fold_recall}, F1: {fold_f1}\")\n",
        "\n",
        "    fold_accuracy = np.mean([fr[0] for fr in fold_results])\n",
        "    fold_precision = np.mean([fr[1] for fr in fold_results])\n",
        "    fold_recall = np.mean([fr[2] for fr in fold_results])\n",
        "    fold_f1 = np.mean([fr[3] for fr in fold_results])\n",
        "    accuracy_metrics[dataset_name] = [fold_accuracy, fold_precision, fold_recall, fold_f1]\n",
        "    print(f\"Accuracy: {fold_accuracy}, Precision: {fold_precision}, Recall: {fold_recall}, F1: {fold_f1}\")\n",
        "\n",
        "# Display final accuracy metrics for all datasets\n",
        "print(\"Final Accuracy Metrics Across All Datasets:\")\n",
        "for dataset_name, acc in accuracy_metrics.items():\n",
        "    print(f\"{dataset_name}: {acc}\")"
      ]
    }
  ],
  "metadata": {
    "accelerator": "GPU",
    "colab": {
      "provenance": [],
      "gpuType": "V100",
      "machine_shape": "hm",
      "cell_execution_strategy": "setup"
    },
    "kernelspec": {
      "display_name": "Python 3",
      "name": "python3"
    },
    "language_info": {
      "name": "python"
    },
    "widgets": {
      "application/vnd.jupyter.widget-state+json": {
        "8e96bf9360e7482994c988d14fb93287": {
          "model_module": "@jupyter-widgets/controls",
          "model_name": "HBoxModel",
          "model_module_version": "1.5.0",
          "state": {
            "_dom_classes": [],
            "_model_module": "@jupyter-widgets/controls",
            "_model_module_version": "1.5.0",
            "_model_name": "HBoxModel",
            "_view_count": null,
            "_view_module": "@jupyter-widgets/controls",
            "_view_module_version": "1.5.0",
            "_view_name": "HBoxView",
            "box_style": "",
            "children": [
              "IPY_MODEL_451d037dd19d4948b7887acb7c0fc719",
              "IPY_MODEL_259ed403cfb84245aae8a7138ac7fd70",
              "IPY_MODEL_b5d46c85a38a4abe91c42d943ab2f6b6"
            ],
            "layout": "IPY_MODEL_4e6bbeb7c4214e13a57499a1f5dfea2c"
          }
        },
        "451d037dd19d4948b7887acb7c0fc719": {
          "model_module": "@jupyter-widgets/controls",
          "model_name": "HTMLModel",
          "model_module_version": "1.5.0",
          "state": {
            "_dom_classes": [],
            "_model_module": "@jupyter-widgets/controls",
            "_model_module_version": "1.5.0",
            "_model_name": "HTMLModel",
            "_view_count": null,
            "_view_module": "@jupyter-widgets/controls",
            "_view_module_version": "1.5.0",
            "_view_name": "HTMLView",
            "description": "",
            "description_tooltip": null,
            "layout": "IPY_MODEL_3c6344f0d019494095dfc8baddb69f09",
            "placeholder": "​",
            "style": "IPY_MODEL_2f1e6785b89d4870be8babccb696519e",
            "value": "vocab.json: 100%"
          }
        },
        "259ed403cfb84245aae8a7138ac7fd70": {
          "model_module": "@jupyter-widgets/controls",
          "model_name": "FloatProgressModel",
          "model_module_version": "1.5.0",
          "state": {
            "_dom_classes": [],
            "_model_module": "@jupyter-widgets/controls",
            "_model_module_version": "1.5.0",
            "_model_name": "FloatProgressModel",
            "_view_count": null,
            "_view_module": "@jupyter-widgets/controls",
            "_view_module_version": "1.5.0",
            "_view_name": "ProgressView",
            "bar_style": "success",
            "description": "",
            "description_tooltip": null,
            "layout": "IPY_MODEL_0f7f987f88094436a894d80e32d0e26b",
            "max": 898823,
            "min": 0,
            "orientation": "horizontal",
            "style": "IPY_MODEL_db0c1a7338b0434590c8b7d9995945d4",
            "value": 898823
          }
        },
        "b5d46c85a38a4abe91c42d943ab2f6b6": {
          "model_module": "@jupyter-widgets/controls",
          "model_name": "HTMLModel",
          "model_module_version": "1.5.0",
          "state": {
            "_dom_classes": [],
            "_model_module": "@jupyter-widgets/controls",
            "_model_module_version": "1.5.0",
            "_model_name": "HTMLModel",
            "_view_count": null,
            "_view_module": "@jupyter-widgets/controls",
            "_view_module_version": "1.5.0",
            "_view_name": "HTMLView",
            "description": "",
            "description_tooltip": null,
            "layout": "IPY_MODEL_867c0c534f934385be80106df318c1a7",
            "placeholder": "​",
            "style": "IPY_MODEL_af97ad5ad5d4470eb70ed8e1a2acb9c4",
            "value": " 899k/899k [00:00&lt;00:00, 2.76MB/s]"
          }
        },
        "4e6bbeb7c4214e13a57499a1f5dfea2c": {
          "model_module": "@jupyter-widgets/base",
          "model_name": "LayoutModel",
          "model_module_version": "1.2.0",
          "state": {
            "_model_module": "@jupyter-widgets/base",
            "_model_module_version": "1.2.0",
            "_model_name": "LayoutModel",
            "_view_count": null,
            "_view_module": "@jupyter-widgets/base",
            "_view_module_version": "1.2.0",
            "_view_name": "LayoutView",
            "align_content": null,
            "align_items": null,
            "align_self": null,
            "border": null,
            "bottom": null,
            "display": null,
            "flex": null,
            "flex_flow": null,
            "grid_area": null,
            "grid_auto_columns": null,
            "grid_auto_flow": null,
            "grid_auto_rows": null,
            "grid_column": null,
            "grid_gap": null,
            "grid_row": null,
            "grid_template_areas": null,
            "grid_template_columns": null,
            "grid_template_rows": null,
            "height": null,
            "justify_content": null,
            "justify_items": null,
            "left": null,
            "margin": null,
            "max_height": null,
            "max_width": null,
            "min_height": null,
            "min_width": null,
            "object_fit": null,
            "object_position": null,
            "order": null,
            "overflow": null,
            "overflow_x": null,
            "overflow_y": null,
            "padding": null,
            "right": null,
            "top": null,
            "visibility": null,
            "width": null
          }
        },
        "3c6344f0d019494095dfc8baddb69f09": {
          "model_module": "@jupyter-widgets/base",
          "model_name": "LayoutModel",
          "model_module_version": "1.2.0",
          "state": {
            "_model_module": "@jupyter-widgets/base",
            "_model_module_version": "1.2.0",
            "_model_name": "LayoutModel",
            "_view_count": null,
            "_view_module": "@jupyter-widgets/base",
            "_view_module_version": "1.2.0",
            "_view_name": "LayoutView",
            "align_content": null,
            "align_items": null,
            "align_self": null,
            "border": null,
            "bottom": null,
            "display": null,
            "flex": null,
            "flex_flow": null,
            "grid_area": null,
            "grid_auto_columns": null,
            "grid_auto_flow": null,
            "grid_auto_rows": null,
            "grid_column": null,
            "grid_gap": null,
            "grid_row": null,
            "grid_template_areas": null,
            "grid_template_columns": null,
            "grid_template_rows": null,
            "height": null,
            "justify_content": null,
            "justify_items": null,
            "left": null,
            "margin": null,
            "max_height": null,
            "max_width": null,
            "min_height": null,
            "min_width": null,
            "object_fit": null,
            "object_position": null,
            "order": null,
            "overflow": null,
            "overflow_x": null,
            "overflow_y": null,
            "padding": null,
            "right": null,
            "top": null,
            "visibility": null,
            "width": null
          }
        },
        "2f1e6785b89d4870be8babccb696519e": {
          "model_module": "@jupyter-widgets/controls",
          "model_name": "DescriptionStyleModel",
          "model_module_version": "1.5.0",
          "state": {
            "_model_module": "@jupyter-widgets/controls",
            "_model_module_version": "1.5.0",
            "_model_name": "DescriptionStyleModel",
            "_view_count": null,
            "_view_module": "@jupyter-widgets/base",
            "_view_module_version": "1.2.0",
            "_view_name": "StyleView",
            "description_width": ""
          }
        },
        "0f7f987f88094436a894d80e32d0e26b": {
          "model_module": "@jupyter-widgets/base",
          "model_name": "LayoutModel",
          "model_module_version": "1.2.0",
          "state": {
            "_model_module": "@jupyter-widgets/base",
            "_model_module_version": "1.2.0",
            "_model_name": "LayoutModel",
            "_view_count": null,
            "_view_module": "@jupyter-widgets/base",
            "_view_module_version": "1.2.0",
            "_view_name": "LayoutView",
            "align_content": null,
            "align_items": null,
            "align_self": null,
            "border": null,
            "bottom": null,
            "display": null,
            "flex": null,
            "flex_flow": null,
            "grid_area": null,
            "grid_auto_columns": null,
            "grid_auto_flow": null,
            "grid_auto_rows": null,
            "grid_column": null,
            "grid_gap": null,
            "grid_row": null,
            "grid_template_areas": null,
            "grid_template_columns": null,
            "grid_template_rows": null,
            "height": null,
            "justify_content": null,
            "justify_items": null,
            "left": null,
            "margin": null,
            "max_height": null,
            "max_width": null,
            "min_height": null,
            "min_width": null,
            "object_fit": null,
            "object_position": null,
            "order": null,
            "overflow": null,
            "overflow_x": null,
            "overflow_y": null,
            "padding": null,
            "right": null,
            "top": null,
            "visibility": null,
            "width": null
          }
        },
        "db0c1a7338b0434590c8b7d9995945d4": {
          "model_module": "@jupyter-widgets/controls",
          "model_name": "ProgressStyleModel",
          "model_module_version": "1.5.0",
          "state": {
            "_model_module": "@jupyter-widgets/controls",
            "_model_module_version": "1.5.0",
            "_model_name": "ProgressStyleModel",
            "_view_count": null,
            "_view_module": "@jupyter-widgets/base",
            "_view_module_version": "1.2.0",
            "_view_name": "StyleView",
            "bar_color": null,
            "description_width": ""
          }
        },
        "867c0c534f934385be80106df318c1a7": {
          "model_module": "@jupyter-widgets/base",
          "model_name": "LayoutModel",
          "model_module_version": "1.2.0",
          "state": {
            "_model_module": "@jupyter-widgets/base",
            "_model_module_version": "1.2.0",
            "_model_name": "LayoutModel",
            "_view_count": null,
            "_view_module": "@jupyter-widgets/base",
            "_view_module_version": "1.2.0",
            "_view_name": "LayoutView",
            "align_content": null,
            "align_items": null,
            "align_self": null,
            "border": null,
            "bottom": null,
            "display": null,
            "flex": null,
            "flex_flow": null,
            "grid_area": null,
            "grid_auto_columns": null,
            "grid_auto_flow": null,
            "grid_auto_rows": null,
            "grid_column": null,
            "grid_gap": null,
            "grid_row": null,
            "grid_template_areas": null,
            "grid_template_columns": null,
            "grid_template_rows": null,
            "height": null,
            "justify_content": null,
            "justify_items": null,
            "left": null,
            "margin": null,
            "max_height": null,
            "max_width": null,
            "min_height": null,
            "min_width": null,
            "object_fit": null,
            "object_position": null,
            "order": null,
            "overflow": null,
            "overflow_x": null,
            "overflow_y": null,
            "padding": null,
            "right": null,
            "top": null,
            "visibility": null,
            "width": null
          }
        },
        "af97ad5ad5d4470eb70ed8e1a2acb9c4": {
          "model_module": "@jupyter-widgets/controls",
          "model_name": "DescriptionStyleModel",
          "model_module_version": "1.5.0",
          "state": {
            "_model_module": "@jupyter-widgets/controls",
            "_model_module_version": "1.5.0",
            "_model_name": "DescriptionStyleModel",
            "_view_count": null,
            "_view_module": "@jupyter-widgets/base",
            "_view_module_version": "1.2.0",
            "_view_name": "StyleView",
            "description_width": ""
          }
        },
        "239f11f184bc47c497ec590c9224d593": {
          "model_module": "@jupyter-widgets/controls",
          "model_name": "HBoxModel",
          "model_module_version": "1.5.0",
          "state": {
            "_dom_classes": [],
            "_model_module": "@jupyter-widgets/controls",
            "_model_module_version": "1.5.0",
            "_model_name": "HBoxModel",
            "_view_count": null,
            "_view_module": "@jupyter-widgets/controls",
            "_view_module_version": "1.5.0",
            "_view_name": "HBoxView",
            "box_style": "",
            "children": [
              "IPY_MODEL_067f5b31556549cbab6fa2f7f8ee1cbb",
              "IPY_MODEL_d804aa01c7d64cd3bec103e99d094907",
              "IPY_MODEL_6fd935d98d084752b0321a16e860542e"
            ],
            "layout": "IPY_MODEL_9170f37584754423883d1a75341504a6"
          }
        },
        "067f5b31556549cbab6fa2f7f8ee1cbb": {
          "model_module": "@jupyter-widgets/controls",
          "model_name": "HTMLModel",
          "model_module_version": "1.5.0",
          "state": {
            "_dom_classes": [],
            "_model_module": "@jupyter-widgets/controls",
            "_model_module_version": "1.5.0",
            "_model_name": "HTMLModel",
            "_view_count": null,
            "_view_module": "@jupyter-widgets/controls",
            "_view_module_version": "1.5.0",
            "_view_name": "HTMLView",
            "description": "",
            "description_tooltip": null,
            "layout": "IPY_MODEL_5e9896b52bc443f78fe8a308633b3d49",
            "placeholder": "​",
            "style": "IPY_MODEL_59696e8a2311460aba6ab56425eb8313",
            "value": "merges.txt: 100%"
          }
        },
        "d804aa01c7d64cd3bec103e99d094907": {
          "model_module": "@jupyter-widgets/controls",
          "model_name": "FloatProgressModel",
          "model_module_version": "1.5.0",
          "state": {
            "_dom_classes": [],
            "_model_module": "@jupyter-widgets/controls",
            "_model_module_version": "1.5.0",
            "_model_name": "FloatProgressModel",
            "_view_count": null,
            "_view_module": "@jupyter-widgets/controls",
            "_view_module_version": "1.5.0",
            "_view_name": "ProgressView",
            "bar_style": "success",
            "description": "",
            "description_tooltip": null,
            "layout": "IPY_MODEL_79b699e78c8549c9a33b2921da12b485",
            "max": 456318,
            "min": 0,
            "orientation": "horizontal",
            "style": "IPY_MODEL_ad86a86973f94cc69023409381798b55",
            "value": 456318
          }
        },
        "6fd935d98d084752b0321a16e860542e": {
          "model_module": "@jupyter-widgets/controls",
          "model_name": "HTMLModel",
          "model_module_version": "1.5.0",
          "state": {
            "_dom_classes": [],
            "_model_module": "@jupyter-widgets/controls",
            "_model_module_version": "1.5.0",
            "_model_name": "HTMLModel",
            "_view_count": null,
            "_view_module": "@jupyter-widgets/controls",
            "_view_module_version": "1.5.0",
            "_view_name": "HTMLView",
            "description": "",
            "description_tooltip": null,
            "layout": "IPY_MODEL_f7eb76346e674b71b53cd13d049a7250",
            "placeholder": "​",
            "style": "IPY_MODEL_900e697d8fd0492ca8ee693f92db1928",
            "value": " 456k/456k [00:00&lt;00:00, 1.88MB/s]"
          }
        },
        "9170f37584754423883d1a75341504a6": {
          "model_module": "@jupyter-widgets/base",
          "model_name": "LayoutModel",
          "model_module_version": "1.2.0",
          "state": {
            "_model_module": "@jupyter-widgets/base",
            "_model_module_version": "1.2.0",
            "_model_name": "LayoutModel",
            "_view_count": null,
            "_view_module": "@jupyter-widgets/base",
            "_view_module_version": "1.2.0",
            "_view_name": "LayoutView",
            "align_content": null,
            "align_items": null,
            "align_self": null,
            "border": null,
            "bottom": null,
            "display": null,
            "flex": null,
            "flex_flow": null,
            "grid_area": null,
            "grid_auto_columns": null,
            "grid_auto_flow": null,
            "grid_auto_rows": null,
            "grid_column": null,
            "grid_gap": null,
            "grid_row": null,
            "grid_template_areas": null,
            "grid_template_columns": null,
            "grid_template_rows": null,
            "height": null,
            "justify_content": null,
            "justify_items": null,
            "left": null,
            "margin": null,
            "max_height": null,
            "max_width": null,
            "min_height": null,
            "min_width": null,
            "object_fit": null,
            "object_position": null,
            "order": null,
            "overflow": null,
            "overflow_x": null,
            "overflow_y": null,
            "padding": null,
            "right": null,
            "top": null,
            "visibility": null,
            "width": null
          }
        },
        "5e9896b52bc443f78fe8a308633b3d49": {
          "model_module": "@jupyter-widgets/base",
          "model_name": "LayoutModel",
          "model_module_version": "1.2.0",
          "state": {
            "_model_module": "@jupyter-widgets/base",
            "_model_module_version": "1.2.0",
            "_model_name": "LayoutModel",
            "_view_count": null,
            "_view_module": "@jupyter-widgets/base",
            "_view_module_version": "1.2.0",
            "_view_name": "LayoutView",
            "align_content": null,
            "align_items": null,
            "align_self": null,
            "border": null,
            "bottom": null,
            "display": null,
            "flex": null,
            "flex_flow": null,
            "grid_area": null,
            "grid_auto_columns": null,
            "grid_auto_flow": null,
            "grid_auto_rows": null,
            "grid_column": null,
            "grid_gap": null,
            "grid_row": null,
            "grid_template_areas": null,
            "grid_template_columns": null,
            "grid_template_rows": null,
            "height": null,
            "justify_content": null,
            "justify_items": null,
            "left": null,
            "margin": null,
            "max_height": null,
            "max_width": null,
            "min_height": null,
            "min_width": null,
            "object_fit": null,
            "object_position": null,
            "order": null,
            "overflow": null,
            "overflow_x": null,
            "overflow_y": null,
            "padding": null,
            "right": null,
            "top": null,
            "visibility": null,
            "width": null
          }
        },
        "59696e8a2311460aba6ab56425eb8313": {
          "model_module": "@jupyter-widgets/controls",
          "model_name": "DescriptionStyleModel",
          "model_module_version": "1.5.0",
          "state": {
            "_model_module": "@jupyter-widgets/controls",
            "_model_module_version": "1.5.0",
            "_model_name": "DescriptionStyleModel",
            "_view_count": null,
            "_view_module": "@jupyter-widgets/base",
            "_view_module_version": "1.2.0",
            "_view_name": "StyleView",
            "description_width": ""
          }
        },
        "79b699e78c8549c9a33b2921da12b485": {
          "model_module": "@jupyter-widgets/base",
          "model_name": "LayoutModel",
          "model_module_version": "1.2.0",
          "state": {
            "_model_module": "@jupyter-widgets/base",
            "_model_module_version": "1.2.0",
            "_model_name": "LayoutModel",
            "_view_count": null,
            "_view_module": "@jupyter-widgets/base",
            "_view_module_version": "1.2.0",
            "_view_name": "LayoutView",
            "align_content": null,
            "align_items": null,
            "align_self": null,
            "border": null,
            "bottom": null,
            "display": null,
            "flex": null,
            "flex_flow": null,
            "grid_area": null,
            "grid_auto_columns": null,
            "grid_auto_flow": null,
            "grid_auto_rows": null,
            "grid_column": null,
            "grid_gap": null,
            "grid_row": null,
            "grid_template_areas": null,
            "grid_template_columns": null,
            "grid_template_rows": null,
            "height": null,
            "justify_content": null,
            "justify_items": null,
            "left": null,
            "margin": null,
            "max_height": null,
            "max_width": null,
            "min_height": null,
            "min_width": null,
            "object_fit": null,
            "object_position": null,
            "order": null,
            "overflow": null,
            "overflow_x": null,
            "overflow_y": null,
            "padding": null,
            "right": null,
            "top": null,
            "visibility": null,
            "width": null
          }
        },
        "ad86a86973f94cc69023409381798b55": {
          "model_module": "@jupyter-widgets/controls",
          "model_name": "ProgressStyleModel",
          "model_module_version": "1.5.0",
          "state": {
            "_model_module": "@jupyter-widgets/controls",
            "_model_module_version": "1.5.0",
            "_model_name": "ProgressStyleModel",
            "_view_count": null,
            "_view_module": "@jupyter-widgets/base",
            "_view_module_version": "1.2.0",
            "_view_name": "StyleView",
            "bar_color": null,
            "description_width": ""
          }
        },
        "f7eb76346e674b71b53cd13d049a7250": {
          "model_module": "@jupyter-widgets/base",
          "model_name": "LayoutModel",
          "model_module_version": "1.2.0",
          "state": {
            "_model_module": "@jupyter-widgets/base",
            "_model_module_version": "1.2.0",
            "_model_name": "LayoutModel",
            "_view_count": null,
            "_view_module": "@jupyter-widgets/base",
            "_view_module_version": "1.2.0",
            "_view_name": "LayoutView",
            "align_content": null,
            "align_items": null,
            "align_self": null,
            "border": null,
            "bottom": null,
            "display": null,
            "flex": null,
            "flex_flow": null,
            "grid_area": null,
            "grid_auto_columns": null,
            "grid_auto_flow": null,
            "grid_auto_rows": null,
            "grid_column": null,
            "grid_gap": null,
            "grid_row": null,
            "grid_template_areas": null,
            "grid_template_columns": null,
            "grid_template_rows": null,
            "height": null,
            "justify_content": null,
            "justify_items": null,
            "left": null,
            "margin": null,
            "max_height": null,
            "max_width": null,
            "min_height": null,
            "min_width": null,
            "object_fit": null,
            "object_position": null,
            "order": null,
            "overflow": null,
            "overflow_x": null,
            "overflow_y": null,
            "padding": null,
            "right": null,
            "top": null,
            "visibility": null,
            "width": null
          }
        },
        "900e697d8fd0492ca8ee693f92db1928": {
          "model_module": "@jupyter-widgets/controls",
          "model_name": "DescriptionStyleModel",
          "model_module_version": "1.5.0",
          "state": {
            "_model_module": "@jupyter-widgets/controls",
            "_model_module_version": "1.5.0",
            "_model_name": "DescriptionStyleModel",
            "_view_count": null,
            "_view_module": "@jupyter-widgets/base",
            "_view_module_version": "1.2.0",
            "_view_name": "StyleView",
            "description_width": ""
          }
        },
        "1ed96a98d319410a8559932b0f6d3564": {
          "model_module": "@jupyter-widgets/controls",
          "model_name": "HBoxModel",
          "model_module_version": "1.5.0",
          "state": {
            "_dom_classes": [],
            "_model_module": "@jupyter-widgets/controls",
            "_model_module_version": "1.5.0",
            "_model_name": "HBoxModel",
            "_view_count": null,
            "_view_module": "@jupyter-widgets/controls",
            "_view_module_version": "1.5.0",
            "_view_name": "HBoxView",
            "box_style": "",
            "children": [
              "IPY_MODEL_9f251fc09d274e279f9ab99c9894e0aa",
              "IPY_MODEL_29a1dd561ef94a1284bdd493aa544aea",
              "IPY_MODEL_8829bb80f9c6403a9c392829ee658746"
            ],
            "layout": "IPY_MODEL_8c31025eb0514c668d73a72163a87d2a"
          }
        },
        "9f251fc09d274e279f9ab99c9894e0aa": {
          "model_module": "@jupyter-widgets/controls",
          "model_name": "HTMLModel",
          "model_module_version": "1.5.0",
          "state": {
            "_dom_classes": [],
            "_model_module": "@jupyter-widgets/controls",
            "_model_module_version": "1.5.0",
            "_model_name": "HTMLModel",
            "_view_count": null,
            "_view_module": "@jupyter-widgets/controls",
            "_view_module_version": "1.5.0",
            "_view_name": "HTMLView",
            "description": "",
            "description_tooltip": null,
            "layout": "IPY_MODEL_fcfc133f1d084e2d88e486e3c5ee957f",
            "placeholder": "​",
            "style": "IPY_MODEL_03ca14eaa73b4325ab90402ab0cb7784",
            "value": "tokenizer.json: 100%"
          }
        },
        "29a1dd561ef94a1284bdd493aa544aea": {
          "model_module": "@jupyter-widgets/controls",
          "model_name": "FloatProgressModel",
          "model_module_version": "1.5.0",
          "state": {
            "_dom_classes": [],
            "_model_module": "@jupyter-widgets/controls",
            "_model_module_version": "1.5.0",
            "_model_name": "FloatProgressModel",
            "_view_count": null,
            "_view_module": "@jupyter-widgets/controls",
            "_view_module_version": "1.5.0",
            "_view_name": "ProgressView",
            "bar_style": "success",
            "description": "",
            "description_tooltip": null,
            "layout": "IPY_MODEL_5e7ed32231e34bf49ecf792937084c36",
            "max": 1355863,
            "min": 0,
            "orientation": "horizontal",
            "style": "IPY_MODEL_7b28a4812a5f4e539d267ab6b4680ee0",
            "value": 1355863
          }
        },
        "8829bb80f9c6403a9c392829ee658746": {
          "model_module": "@jupyter-widgets/controls",
          "model_name": "HTMLModel",
          "model_module_version": "1.5.0",
          "state": {
            "_dom_classes": [],
            "_model_module": "@jupyter-widgets/controls",
            "_model_module_version": "1.5.0",
            "_model_name": "HTMLModel",
            "_view_count": null,
            "_view_module": "@jupyter-widgets/controls",
            "_view_module_version": "1.5.0",
            "_view_name": "HTMLView",
            "description": "",
            "description_tooltip": null,
            "layout": "IPY_MODEL_026c901509ea4c83b43a4ba0e8ccb09e",
            "placeholder": "​",
            "style": "IPY_MODEL_70b2ecaed90b4818bf5829d0fbfda4cd",
            "value": " 1.36M/1.36M [00:00&lt;00:00, 15.9MB/s]"
          }
        },
        "8c31025eb0514c668d73a72163a87d2a": {
          "model_module": "@jupyter-widgets/base",
          "model_name": "LayoutModel",
          "model_module_version": "1.2.0",
          "state": {
            "_model_module": "@jupyter-widgets/base",
            "_model_module_version": "1.2.0",
            "_model_name": "LayoutModel",
            "_view_count": null,
            "_view_module": "@jupyter-widgets/base",
            "_view_module_version": "1.2.0",
            "_view_name": "LayoutView",
            "align_content": null,
            "align_items": null,
            "align_self": null,
            "border": null,
            "bottom": null,
            "display": null,
            "flex": null,
            "flex_flow": null,
            "grid_area": null,
            "grid_auto_columns": null,
            "grid_auto_flow": null,
            "grid_auto_rows": null,
            "grid_column": null,
            "grid_gap": null,
            "grid_row": null,
            "grid_template_areas": null,
            "grid_template_columns": null,
            "grid_template_rows": null,
            "height": null,
            "justify_content": null,
            "justify_items": null,
            "left": null,
            "margin": null,
            "max_height": null,
            "max_width": null,
            "min_height": null,
            "min_width": null,
            "object_fit": null,
            "object_position": null,
            "order": null,
            "overflow": null,
            "overflow_x": null,
            "overflow_y": null,
            "padding": null,
            "right": null,
            "top": null,
            "visibility": null,
            "width": null
          }
        },
        "fcfc133f1d084e2d88e486e3c5ee957f": {
          "model_module": "@jupyter-widgets/base",
          "model_name": "LayoutModel",
          "model_module_version": "1.2.0",
          "state": {
            "_model_module": "@jupyter-widgets/base",
            "_model_module_version": "1.2.0",
            "_model_name": "LayoutModel",
            "_view_count": null,
            "_view_module": "@jupyter-widgets/base",
            "_view_module_version": "1.2.0",
            "_view_name": "LayoutView",
            "align_content": null,
            "align_items": null,
            "align_self": null,
            "border": null,
            "bottom": null,
            "display": null,
            "flex": null,
            "flex_flow": null,
            "grid_area": null,
            "grid_auto_columns": null,
            "grid_auto_flow": null,
            "grid_auto_rows": null,
            "grid_column": null,
            "grid_gap": null,
            "grid_row": null,
            "grid_template_areas": null,
            "grid_template_columns": null,
            "grid_template_rows": null,
            "height": null,
            "justify_content": null,
            "justify_items": null,
            "left": null,
            "margin": null,
            "max_height": null,
            "max_width": null,
            "min_height": null,
            "min_width": null,
            "object_fit": null,
            "object_position": null,
            "order": null,
            "overflow": null,
            "overflow_x": null,
            "overflow_y": null,
            "padding": null,
            "right": null,
            "top": null,
            "visibility": null,
            "width": null
          }
        },
        "03ca14eaa73b4325ab90402ab0cb7784": {
          "model_module": "@jupyter-widgets/controls",
          "model_name": "DescriptionStyleModel",
          "model_module_version": "1.5.0",
          "state": {
            "_model_module": "@jupyter-widgets/controls",
            "_model_module_version": "1.5.0",
            "_model_name": "DescriptionStyleModel",
            "_view_count": null,
            "_view_module": "@jupyter-widgets/base",
            "_view_module_version": "1.2.0",
            "_view_name": "StyleView",
            "description_width": ""
          }
        },
        "5e7ed32231e34bf49ecf792937084c36": {
          "model_module": "@jupyter-widgets/base",
          "model_name": "LayoutModel",
          "model_module_version": "1.2.0",
          "state": {
            "_model_module": "@jupyter-widgets/base",
            "_model_module_version": "1.2.0",
            "_model_name": "LayoutModel",
            "_view_count": null,
            "_view_module": "@jupyter-widgets/base",
            "_view_module_version": "1.2.0",
            "_view_name": "LayoutView",
            "align_content": null,
            "align_items": null,
            "align_self": null,
            "border": null,
            "bottom": null,
            "display": null,
            "flex": null,
            "flex_flow": null,
            "grid_area": null,
            "grid_auto_columns": null,
            "grid_auto_flow": null,
            "grid_auto_rows": null,
            "grid_column": null,
            "grid_gap": null,
            "grid_row": null,
            "grid_template_areas": null,
            "grid_template_columns": null,
            "grid_template_rows": null,
            "height": null,
            "justify_content": null,
            "justify_items": null,
            "left": null,
            "margin": null,
            "max_height": null,
            "max_width": null,
            "min_height": null,
            "min_width": null,
            "object_fit": null,
            "object_position": null,
            "order": null,
            "overflow": null,
            "overflow_x": null,
            "overflow_y": null,
            "padding": null,
            "right": null,
            "top": null,
            "visibility": null,
            "width": null
          }
        },
        "7b28a4812a5f4e539d267ab6b4680ee0": {
          "model_module": "@jupyter-widgets/controls",
          "model_name": "ProgressStyleModel",
          "model_module_version": "1.5.0",
          "state": {
            "_model_module": "@jupyter-widgets/controls",
            "_model_module_version": "1.5.0",
            "_model_name": "ProgressStyleModel",
            "_view_count": null,
            "_view_module": "@jupyter-widgets/base",
            "_view_module_version": "1.2.0",
            "_view_name": "StyleView",
            "bar_color": null,
            "description_width": ""
          }
        },
        "026c901509ea4c83b43a4ba0e8ccb09e": {
          "model_module": "@jupyter-widgets/base",
          "model_name": "LayoutModel",
          "model_module_version": "1.2.0",
          "state": {
            "_model_module": "@jupyter-widgets/base",
            "_model_module_version": "1.2.0",
            "_model_name": "LayoutModel",
            "_view_count": null,
            "_view_module": "@jupyter-widgets/base",
            "_view_module_version": "1.2.0",
            "_view_name": "LayoutView",
            "align_content": null,
            "align_items": null,
            "align_self": null,
            "border": null,
            "bottom": null,
            "display": null,
            "flex": null,
            "flex_flow": null,
            "grid_area": null,
            "grid_auto_columns": null,
            "grid_auto_flow": null,
            "grid_auto_rows": null,
            "grid_column": null,
            "grid_gap": null,
            "grid_row": null,
            "grid_template_areas": null,
            "grid_template_columns": null,
            "grid_template_rows": null,
            "height": null,
            "justify_content": null,
            "justify_items": null,
            "left": null,
            "margin": null,
            "max_height": null,
            "max_width": null,
            "min_height": null,
            "min_width": null,
            "object_fit": null,
            "object_position": null,
            "order": null,
            "overflow": null,
            "overflow_x": null,
            "overflow_y": null,
            "padding": null,
            "right": null,
            "top": null,
            "visibility": null,
            "width": null
          }
        },
        "70b2ecaed90b4818bf5829d0fbfda4cd": {
          "model_module": "@jupyter-widgets/controls",
          "model_name": "DescriptionStyleModel",
          "model_module_version": "1.5.0",
          "state": {
            "_model_module": "@jupyter-widgets/controls",
            "_model_module_version": "1.5.0",
            "_model_name": "DescriptionStyleModel",
            "_view_count": null,
            "_view_module": "@jupyter-widgets/base",
            "_view_module_version": "1.2.0",
            "_view_name": "StyleView",
            "description_width": ""
          }
        },
        "71530e2e1eda48f1a1a0069e0d73ba17": {
          "model_module": "@jupyter-widgets/controls",
          "model_name": "HBoxModel",
          "model_module_version": "1.5.0",
          "state": {
            "_dom_classes": [],
            "_model_module": "@jupyter-widgets/controls",
            "_model_module_version": "1.5.0",
            "_model_name": "HBoxModel",
            "_view_count": null,
            "_view_module": "@jupyter-widgets/controls",
            "_view_module_version": "1.5.0",
            "_view_name": "HBoxView",
            "box_style": "",
            "children": [
              "IPY_MODEL_3364065d9ca94a928e6f0c759f9945db",
              "IPY_MODEL_e9b7613ca8f044359394fdb1213a725d",
              "IPY_MODEL_19ad2c4c69f8477fb20d12b58706021d"
            ],
            "layout": "IPY_MODEL_902ee174a0fe4e878e4761b7f8f70418"
          }
        },
        "3364065d9ca94a928e6f0c759f9945db": {
          "model_module": "@jupyter-widgets/controls",
          "model_name": "HTMLModel",
          "model_module_version": "1.5.0",
          "state": {
            "_dom_classes": [],
            "_model_module": "@jupyter-widgets/controls",
            "_model_module_version": "1.5.0",
            "_model_name": "HTMLModel",
            "_view_count": null,
            "_view_module": "@jupyter-widgets/controls",
            "_view_module_version": "1.5.0",
            "_view_name": "HTMLView",
            "description": "",
            "description_tooltip": null,
            "layout": "IPY_MODEL_8b6e05effb824afb8e131bd20208d4d1",
            "placeholder": "​",
            "style": "IPY_MODEL_ec5ed67349bb49ec964218add9430437",
            "value": "config.json: 100%"
          }
        },
        "e9b7613ca8f044359394fdb1213a725d": {
          "model_module": "@jupyter-widgets/controls",
          "model_name": "FloatProgressModel",
          "model_module_version": "1.5.0",
          "state": {
            "_dom_classes": [],
            "_model_module": "@jupyter-widgets/controls",
            "_model_module_version": "1.5.0",
            "_model_name": "FloatProgressModel",
            "_view_count": null,
            "_view_module": "@jupyter-widgets/controls",
            "_view_module_version": "1.5.0",
            "_view_name": "ProgressView",
            "bar_style": "success",
            "description": "",
            "description_tooltip": null,
            "layout": "IPY_MODEL_d4b87ab40a8e4afc87cea1c76a934a37",
            "max": 481,
            "min": 0,
            "orientation": "horizontal",
            "style": "IPY_MODEL_c769af62a2dc48b2b76bd6fc4b71b0a9",
            "value": 481
          }
        },
        "19ad2c4c69f8477fb20d12b58706021d": {
          "model_module": "@jupyter-widgets/controls",
          "model_name": "HTMLModel",
          "model_module_version": "1.5.0",
          "state": {
            "_dom_classes": [],
            "_model_module": "@jupyter-widgets/controls",
            "_model_module_version": "1.5.0",
            "_model_name": "HTMLModel",
            "_view_count": null,
            "_view_module": "@jupyter-widgets/controls",
            "_view_module_version": "1.5.0",
            "_view_name": "HTMLView",
            "description": "",
            "description_tooltip": null,
            "layout": "IPY_MODEL_bc531af85035443bbac7021d6c9f6d2a",
            "placeholder": "​",
            "style": "IPY_MODEL_8a366e875bec4181a4fd0a5d468e30d9",
            "value": " 481/481 [00:00&lt;00:00, 24.3kB/s]"
          }
        },
        "902ee174a0fe4e878e4761b7f8f70418": {
          "model_module": "@jupyter-widgets/base",
          "model_name": "LayoutModel",
          "model_module_version": "1.2.0",
          "state": {
            "_model_module": "@jupyter-widgets/base",
            "_model_module_version": "1.2.0",
            "_model_name": "LayoutModel",
            "_view_count": null,
            "_view_module": "@jupyter-widgets/base",
            "_view_module_version": "1.2.0",
            "_view_name": "LayoutView",
            "align_content": null,
            "align_items": null,
            "align_self": null,
            "border": null,
            "bottom": null,
            "display": null,
            "flex": null,
            "flex_flow": null,
            "grid_area": null,
            "grid_auto_columns": null,
            "grid_auto_flow": null,
            "grid_auto_rows": null,
            "grid_column": null,
            "grid_gap": null,
            "grid_row": null,
            "grid_template_areas": null,
            "grid_template_columns": null,
            "grid_template_rows": null,
            "height": null,
            "justify_content": null,
            "justify_items": null,
            "left": null,
            "margin": null,
            "max_height": null,
            "max_width": null,
            "min_height": null,
            "min_width": null,
            "object_fit": null,
            "object_position": null,
            "order": null,
            "overflow": null,
            "overflow_x": null,
            "overflow_y": null,
            "padding": null,
            "right": null,
            "top": null,
            "visibility": null,
            "width": null
          }
        },
        "8b6e05effb824afb8e131bd20208d4d1": {
          "model_module": "@jupyter-widgets/base",
          "model_name": "LayoutModel",
          "model_module_version": "1.2.0",
          "state": {
            "_model_module": "@jupyter-widgets/base",
            "_model_module_version": "1.2.0",
            "_model_name": "LayoutModel",
            "_view_count": null,
            "_view_module": "@jupyter-widgets/base",
            "_view_module_version": "1.2.0",
            "_view_name": "LayoutView",
            "align_content": null,
            "align_items": null,
            "align_self": null,
            "border": null,
            "bottom": null,
            "display": null,
            "flex": null,
            "flex_flow": null,
            "grid_area": null,
            "grid_auto_columns": null,
            "grid_auto_flow": null,
            "grid_auto_rows": null,
            "grid_column": null,
            "grid_gap": null,
            "grid_row": null,
            "grid_template_areas": null,
            "grid_template_columns": null,
            "grid_template_rows": null,
            "height": null,
            "justify_content": null,
            "justify_items": null,
            "left": null,
            "margin": null,
            "max_height": null,
            "max_width": null,
            "min_height": null,
            "min_width": null,
            "object_fit": null,
            "object_position": null,
            "order": null,
            "overflow": null,
            "overflow_x": null,
            "overflow_y": null,
            "padding": null,
            "right": null,
            "top": null,
            "visibility": null,
            "width": null
          }
        },
        "ec5ed67349bb49ec964218add9430437": {
          "model_module": "@jupyter-widgets/controls",
          "model_name": "DescriptionStyleModel",
          "model_module_version": "1.5.0",
          "state": {
            "_model_module": "@jupyter-widgets/controls",
            "_model_module_version": "1.5.0",
            "_model_name": "DescriptionStyleModel",
            "_view_count": null,
            "_view_module": "@jupyter-widgets/base",
            "_view_module_version": "1.2.0",
            "_view_name": "StyleView",
            "description_width": ""
          }
        },
        "d4b87ab40a8e4afc87cea1c76a934a37": {
          "model_module": "@jupyter-widgets/base",
          "model_name": "LayoutModel",
          "model_module_version": "1.2.0",
          "state": {
            "_model_module": "@jupyter-widgets/base",
            "_model_module_version": "1.2.0",
            "_model_name": "LayoutModel",
            "_view_count": null,
            "_view_module": "@jupyter-widgets/base",
            "_view_module_version": "1.2.0",
            "_view_name": "LayoutView",
            "align_content": null,
            "align_items": null,
            "align_self": null,
            "border": null,
            "bottom": null,
            "display": null,
            "flex": null,
            "flex_flow": null,
            "grid_area": null,
            "grid_auto_columns": null,
            "grid_auto_flow": null,
            "grid_auto_rows": null,
            "grid_column": null,
            "grid_gap": null,
            "grid_row": null,
            "grid_template_areas": null,
            "grid_template_columns": null,
            "grid_template_rows": null,
            "height": null,
            "justify_content": null,
            "justify_items": null,
            "left": null,
            "margin": null,
            "max_height": null,
            "max_width": null,
            "min_height": null,
            "min_width": null,
            "object_fit": null,
            "object_position": null,
            "order": null,
            "overflow": null,
            "overflow_x": null,
            "overflow_y": null,
            "padding": null,
            "right": null,
            "top": null,
            "visibility": null,
            "width": null
          }
        },
        "c769af62a2dc48b2b76bd6fc4b71b0a9": {
          "model_module": "@jupyter-widgets/controls",
          "model_name": "ProgressStyleModel",
          "model_module_version": "1.5.0",
          "state": {
            "_model_module": "@jupyter-widgets/controls",
            "_model_module_version": "1.5.0",
            "_model_name": "ProgressStyleModel",
            "_view_count": null,
            "_view_module": "@jupyter-widgets/base",
            "_view_module_version": "1.2.0",
            "_view_name": "StyleView",
            "bar_color": null,
            "description_width": ""
          }
        },
        "bc531af85035443bbac7021d6c9f6d2a": {
          "model_module": "@jupyter-widgets/base",
          "model_name": "LayoutModel",
          "model_module_version": "1.2.0",
          "state": {
            "_model_module": "@jupyter-widgets/base",
            "_model_module_version": "1.2.0",
            "_model_name": "LayoutModel",
            "_view_count": null,
            "_view_module": "@jupyter-widgets/base",
            "_view_module_version": "1.2.0",
            "_view_name": "LayoutView",
            "align_content": null,
            "align_items": null,
            "align_self": null,
            "border": null,
            "bottom": null,
            "display": null,
            "flex": null,
            "flex_flow": null,
            "grid_area": null,
            "grid_auto_columns": null,
            "grid_auto_flow": null,
            "grid_auto_rows": null,
            "grid_column": null,
            "grid_gap": null,
            "grid_row": null,
            "grid_template_areas": null,
            "grid_template_columns": null,
            "grid_template_rows": null,
            "height": null,
            "justify_content": null,
            "justify_items": null,
            "left": null,
            "margin": null,
            "max_height": null,
            "max_width": null,
            "min_height": null,
            "min_width": null,
            "object_fit": null,
            "object_position": null,
            "order": null,
            "overflow": null,
            "overflow_x": null,
            "overflow_y": null,
            "padding": null,
            "right": null,
            "top": null,
            "visibility": null,
            "width": null
          }
        },
        "8a366e875bec4181a4fd0a5d468e30d9": {
          "model_module": "@jupyter-widgets/controls",
          "model_name": "DescriptionStyleModel",
          "model_module_version": "1.5.0",
          "state": {
            "_model_module": "@jupyter-widgets/controls",
            "_model_module_version": "1.5.0",
            "_model_name": "DescriptionStyleModel",
            "_view_count": null,
            "_view_module": "@jupyter-widgets/base",
            "_view_module_version": "1.2.0",
            "_view_name": "StyleView",
            "description_width": ""
          }
        }
      }
    }
  },
  "nbformat": 4,
  "nbformat_minor": 0
}